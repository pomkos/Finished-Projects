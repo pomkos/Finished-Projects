{
 "cells": [
  {
   "cell_type": "markdown",
   "metadata": {},
   "source": [
    "# Lottery: what are the chances?\n",
    "\n",
    "A medical institute aims to help treat gambling addiction through a new app. They asked us to create the logical core of the app and calculate probabilities. The questions we are posed to answer:\n",
    "\n",
    "1. What is the probability of winning the big prize with a single ticket?\n",
    "2. What is the probability of winning the big prize if we play 40 (or any other number) different tickets?\n",
    "3. What is the probability of at least 5, 4, 3, or 2 winning numbers on a single ticket?\n",
    "\n",
    "The institute asked us to consider historical data from the 6/49 lottery game in Canada, the dataset contains data from 1982 to 2018."
   ]
  },
  {
   "cell_type": "code",
   "execution_count": 1,
   "metadata": {},
   "outputs": [],
   "source": [
    "import pandas as pd\n",
    "import numpy as np"
   ]
  },
  {
   "cell_type": "code",
   "execution_count": 2,
   "metadata": {},
   "outputs": [],
   "source": [
    "def factorial(n):\n",
    "    '''\n",
    "    Calculates the factorial for any given integer.\n",
    "    '''\n",
    "    fact = 1\n",
    "    for i in range(n):\n",
    "        fact = fact * (n-i)\n",
    "    return fact\n"
   ]
  },
  {
   "cell_type": "code",
   "execution_count": 3,
   "metadata": {},
   "outputs": [],
   "source": [
    "def combinations(n,k):\n",
    "    '''\n",
    "    Calculates the number of possible combinations when taking k objects \n",
    "    from a group of n objects, without replacement.\n",
    "    '''\n",
    "    c = (factorial(n))/(factorial(k)* factorial(n-k))\n",
    "    return c"
   ]
  },
  {
   "cell_type": "code",
   "execution_count": 4,
   "metadata": {
    "collapsed": false,
    "jupyter": {
     "outputs_hidden": false
    }
   },
   "outputs": [],
   "source": [
    "def one_ticket_probability(my_list):\n",
    "    '''\n",
    "    Calculates the probability of winning the lottery with a list of\n",
    "    6 integers, from 49 possible integers.\n",
    "    '''\n",
    "    total_combo = combinations(49,6)\n",
    "    success_outcome = 1\n",
    "    p = (100*(success_outcome/total_combo))\n",
    "    print('There is a {prob:f}% chance of these numbers being the winning ticket'.format(prob=p))"
   ]
  },
  {
   "cell_type": "markdown",
   "metadata": {},
   "source": [
    "We wrote three functions:\n",
    "\n",
    "1. `factorial()` calculates the factorial for any integer\n",
    "2. `combinations()` calculates the number of combinations for a limited group within a n objects, without replacement\n",
    "3. `one_ticket_probability` provides the user feedback on their chances of winning the lottery. The actual numbers picked doesn't really matter, as the there is only one successful outcome (one list of correct number, with order mattering)"
   ]
  },
  {
   "cell_type": "markdown",
   "metadata": {},
   "source": [
    "# Chances of Jackpot"
   ]
  },
  {
   "cell_type": "markdown",
   "metadata": {},
   "source": [
    "## Historical comparisons\n",
    "\n",
    "Would the user have won with their chosen numbers if those numbers were used in any of the previous lotteries?\n",
    "\n",
    "We are asked to write a function that:\n",
    "\n",
    "* Returns the number of times the selected combination occurred in the dataset\n",
    "* The probability of winning the big prize in the next drawing with that combination"
   ]
  },
  {
   "cell_type": "code",
   "execution_count": 5,
   "metadata": {},
   "outputs": [],
   "source": [
    "df = pd.read_csv('649.csv')"
   ]
  },
  {
   "cell_type": "code",
   "execution_count": 6,
   "metadata": {
    "collapsed": false,
    "jupyter": {
     "outputs_hidden": false
    }
   },
   "outputs": [
    {
     "name": "stdout",
     "output_type": "stream",
     "text": [
      "<class 'pandas.core.frame.DataFrame'>\n",
      "RangeIndex: 3665 entries, 0 to 3664\n",
      "Data columns (total 11 columns):\n",
      " #   Column           Non-Null Count  Dtype \n",
      "---  ------           --------------  ----- \n",
      " 0   PRODUCT          3665 non-null   int64 \n",
      " 1   DRAW NUMBER      3665 non-null   int64 \n",
      " 2   SEQUENCE NUMBER  3665 non-null   int64 \n",
      " 3   DRAW DATE        3665 non-null   object\n",
      " 4   NUMBER DRAWN 1   3665 non-null   int64 \n",
      " 5   NUMBER DRAWN 2   3665 non-null   int64 \n",
      " 6   NUMBER DRAWN 3   3665 non-null   int64 \n",
      " 7   NUMBER DRAWN 4   3665 non-null   int64 \n",
      " 8   NUMBER DRAWN 5   3665 non-null   int64 \n",
      " 9   NUMBER DRAWN 6   3665 non-null   int64 \n",
      " 10  BONUS NUMBER     3665 non-null   int64 \n",
      "dtypes: int64(10), object(1)\n",
      "memory usage: 315.1+ KB\n"
     ]
    }
   ],
   "source": [
    "df.info()"
   ]
  },
  {
   "cell_type": "code",
   "execution_count": 7,
   "metadata": {
    "collapsed": false,
    "jupyter": {
     "outputs_hidden": false
    }
   },
   "outputs": [
    {
     "data": {
      "text/html": [
       "<div>\n",
       "<style scoped>\n",
       "    .dataframe tbody tr th:only-of-type {\n",
       "        vertical-align: middle;\n",
       "    }\n",
       "\n",
       "    .dataframe tbody tr th {\n",
       "        vertical-align: top;\n",
       "    }\n",
       "\n",
       "    .dataframe thead th {\n",
       "        text-align: right;\n",
       "    }\n",
       "</style>\n",
       "<table border=\"1\" class=\"dataframe\">\n",
       "  <thead>\n",
       "    <tr style=\"text-align: right;\">\n",
       "      <th></th>\n",
       "      <th>PRODUCT</th>\n",
       "      <th>DRAW NUMBER</th>\n",
       "      <th>SEQUENCE NUMBER</th>\n",
       "      <th>DRAW DATE</th>\n",
       "      <th>NUMBER DRAWN 1</th>\n",
       "      <th>NUMBER DRAWN 2</th>\n",
       "      <th>NUMBER DRAWN 3</th>\n",
       "      <th>NUMBER DRAWN 4</th>\n",
       "      <th>NUMBER DRAWN 5</th>\n",
       "      <th>NUMBER DRAWN 6</th>\n",
       "      <th>BONUS NUMBER</th>\n",
       "    </tr>\n",
       "  </thead>\n",
       "  <tbody>\n",
       "    <tr>\n",
       "      <th>0</th>\n",
       "      <td>649</td>\n",
       "      <td>1</td>\n",
       "      <td>0</td>\n",
       "      <td>6/12/1982</td>\n",
       "      <td>3</td>\n",
       "      <td>11</td>\n",
       "      <td>12</td>\n",
       "      <td>14</td>\n",
       "      <td>41</td>\n",
       "      <td>43</td>\n",
       "      <td>13</td>\n",
       "    </tr>\n",
       "    <tr>\n",
       "      <th>1</th>\n",
       "      <td>649</td>\n",
       "      <td>2</td>\n",
       "      <td>0</td>\n",
       "      <td>6/19/1982</td>\n",
       "      <td>8</td>\n",
       "      <td>33</td>\n",
       "      <td>36</td>\n",
       "      <td>37</td>\n",
       "      <td>39</td>\n",
       "      <td>41</td>\n",
       "      <td>9</td>\n",
       "    </tr>\n",
       "    <tr>\n",
       "      <th>2</th>\n",
       "      <td>649</td>\n",
       "      <td>3</td>\n",
       "      <td>0</td>\n",
       "      <td>6/26/1982</td>\n",
       "      <td>1</td>\n",
       "      <td>6</td>\n",
       "      <td>23</td>\n",
       "      <td>24</td>\n",
       "      <td>27</td>\n",
       "      <td>39</td>\n",
       "      <td>34</td>\n",
       "    </tr>\n",
       "  </tbody>\n",
       "</table>\n",
       "</div>"
      ],
      "text/plain": [
       "   PRODUCT  DRAW NUMBER  SEQUENCE NUMBER  DRAW DATE  NUMBER DRAWN 1  \\\n",
       "0      649            1                0  6/12/1982               3   \n",
       "1      649            2                0  6/19/1982               8   \n",
       "2      649            3                0  6/26/1982               1   \n",
       "\n",
       "   NUMBER DRAWN 2  NUMBER DRAWN 3  NUMBER DRAWN 4  NUMBER DRAWN 5  \\\n",
       "0              11              12              14              41   \n",
       "1              33              36              37              39   \n",
       "2               6              23              24              27   \n",
       "\n",
       "   NUMBER DRAWN 6  BONUS NUMBER  \n",
       "0              43            13  \n",
       "1              41             9  \n",
       "2              39            34  "
      ]
     },
     "execution_count": 7,
     "metadata": {},
     "output_type": "execute_result"
    }
   ],
   "source": [
    "df.head(3)"
   ]
  },
  {
   "cell_type": "code",
   "execution_count": 8,
   "metadata": {
    "collapsed": false,
    "jupyter": {
     "outputs_hidden": false
    }
   },
   "outputs": [
    {
     "data": {
      "text/html": [
       "<div>\n",
       "<style scoped>\n",
       "    .dataframe tbody tr th:only-of-type {\n",
       "        vertical-align: middle;\n",
       "    }\n",
       "\n",
       "    .dataframe tbody tr th {\n",
       "        vertical-align: top;\n",
       "    }\n",
       "\n",
       "    .dataframe thead th {\n",
       "        text-align: right;\n",
       "    }\n",
       "</style>\n",
       "<table border=\"1\" class=\"dataframe\">\n",
       "  <thead>\n",
       "    <tr style=\"text-align: right;\">\n",
       "      <th></th>\n",
       "      <th>PRODUCT</th>\n",
       "      <th>DRAW NUMBER</th>\n",
       "      <th>SEQUENCE NUMBER</th>\n",
       "      <th>DRAW DATE</th>\n",
       "      <th>NUMBER DRAWN 1</th>\n",
       "      <th>NUMBER DRAWN 2</th>\n",
       "      <th>NUMBER DRAWN 3</th>\n",
       "      <th>NUMBER DRAWN 4</th>\n",
       "      <th>NUMBER DRAWN 5</th>\n",
       "      <th>NUMBER DRAWN 6</th>\n",
       "      <th>BONUS NUMBER</th>\n",
       "    </tr>\n",
       "  </thead>\n",
       "  <tbody>\n",
       "    <tr>\n",
       "      <th>3662</th>\n",
       "      <td>649</td>\n",
       "      <td>3589</td>\n",
       "      <td>0</td>\n",
       "      <td>6/13/2018</td>\n",
       "      <td>6</td>\n",
       "      <td>22</td>\n",
       "      <td>24</td>\n",
       "      <td>31</td>\n",
       "      <td>32</td>\n",
       "      <td>34</td>\n",
       "      <td>16</td>\n",
       "    </tr>\n",
       "    <tr>\n",
       "      <th>3663</th>\n",
       "      <td>649</td>\n",
       "      <td>3590</td>\n",
       "      <td>0</td>\n",
       "      <td>6/16/2018</td>\n",
       "      <td>2</td>\n",
       "      <td>15</td>\n",
       "      <td>21</td>\n",
       "      <td>31</td>\n",
       "      <td>38</td>\n",
       "      <td>49</td>\n",
       "      <td>8</td>\n",
       "    </tr>\n",
       "    <tr>\n",
       "      <th>3664</th>\n",
       "      <td>649</td>\n",
       "      <td>3591</td>\n",
       "      <td>0</td>\n",
       "      <td>6/20/2018</td>\n",
       "      <td>14</td>\n",
       "      <td>24</td>\n",
       "      <td>31</td>\n",
       "      <td>35</td>\n",
       "      <td>37</td>\n",
       "      <td>48</td>\n",
       "      <td>17</td>\n",
       "    </tr>\n",
       "  </tbody>\n",
       "</table>\n",
       "</div>"
      ],
      "text/plain": [
       "      PRODUCT  DRAW NUMBER  SEQUENCE NUMBER  DRAW DATE  NUMBER DRAWN 1  \\\n",
       "3662      649         3589                0  6/13/2018               6   \n",
       "3663      649         3590                0  6/16/2018               2   \n",
       "3664      649         3591                0  6/20/2018              14   \n",
       "\n",
       "      NUMBER DRAWN 2  NUMBER DRAWN 3  NUMBER DRAWN 4  NUMBER DRAWN 5  \\\n",
       "3662              22              24              31              32   \n",
       "3663              15              21              31              38   \n",
       "3664              24              31              35              37   \n",
       "\n",
       "      NUMBER DRAWN 6  BONUS NUMBER  \n",
       "3662              34            16  \n",
       "3663              49             8  \n",
       "3664              48            17  "
      ]
     },
     "execution_count": 8,
     "metadata": {},
     "output_type": "execute_result"
    }
   ],
   "source": [
    "df.tail(3)"
   ]
  },
  {
   "cell_type": "code",
   "execution_count": 9,
   "metadata": {},
   "outputs": [],
   "source": [
    "def extract_numbers(row):\n",
    "    '''\n",
    "    Returns the winning numbers for a given row\n",
    "    '''\n",
    "    lot_set = row.loc['NUMBER DRAWN 1':'NUMBER DRAWN 6'].values\n",
    "    return set(lot_set)"
   ]
  },
  {
   "cell_type": "code",
   "execution_count": 10,
   "metadata": {
    "collapsed": false,
    "jupyter": {
     "outputs_hidden": false
    }
   },
   "outputs": [],
   "source": [
    "winning_numbers = df.apply(extract_numbers,axis=1)"
   ]
  },
  {
   "cell_type": "code",
   "execution_count": 11,
   "metadata": {
    "collapsed": false,
    "jupyter": {
     "outputs_hidden": false
    }
   },
   "outputs": [],
   "source": [
    "def check_historical_occurence(user_nums, win_nums):\n",
    "    for i in user_nums:\n",
    "        if (i<1)|(i > 49):\n",
    "            return (\"The lottery only accepts numbers between 1 and 49\")\n",
    "        else:\n",
    "            pass\n",
    "    user_nums = set(user_nums)\n",
    "    num = user_nums == win_nums\n",
    "    print(\"This set of numbers occurred {num} times in the past\".format(num=num.sum()))\n",
    "    one_ticket_probability(user_nums)"
   ]
  },
  {
   "cell_type": "code",
   "execution_count": 12,
   "metadata": {
    "collapsed": false,
    "jupyter": {
     "outputs_hidden": false
    }
   },
   "outputs": [
    {
     "name": "stdout",
     "output_type": "stream",
     "text": [
      "This set of numbers occurred 1 times in the past\n",
      "There is a 0.000007% chance of these numbers being the winning ticket\n"
     ]
    }
   ],
   "source": [
    "check_historical_occurence([3, 41, 11, 12, 43, 14]\n",
    "                           ,winning_numbers)"
   ]
  },
  {
   "cell_type": "markdown",
   "metadata": {},
   "source": [
    "Two new functions were written:\n",
    "\n",
    "1. `extract_numbers()` that returns the winning set of numbers for a given row in the dataset\n",
    "2. `check_historical_occurence()` that provides feedback to the user on the amount of times a chosen set of numbers won in the past, and the chance that it will win again in the future."
   ]
  },
  {
   "cell_type": "markdown",
   "metadata": {},
   "source": [
    "## Number of tickets bought\n",
    "\n",
    "What are the chances of winning the lottery if the user buys more than one ticket? We are asked to write a function that:\n",
    "\n",
    "1. Takes in the number of different tickets they want to play. The actual numbers on the ticket are not needed.\n",
    "2. Returns the probability of winning"
   ]
  },
  {
   "cell_type": "code",
   "execution_count": 13,
   "metadata": {},
   "outputs": [],
   "source": [
    "def multi_ticket_probability(num_list):\n",
    "    '''\n",
    "    Calculates the probability of winning with any number of tickets, \n",
    "    assuming each ticket has different numbers.\n",
    "    '''\n",
    "    poss_outcomes = combinations(49,6)\n",
    "    for i in num_list:\n",
    "        success = i\n",
    "        p = 100*(success/poss_outcomes)\n",
    "        print(\"Your chances of a winning ticket from {0} tickets is {1:f}%\".format(i,p))"
   ]
  },
  {
   "cell_type": "code",
   "execution_count": 14,
   "metadata": {
    "collapsed": false,
    "jupyter": {
     "outputs_hidden": false
    }
   },
   "outputs": [
    {
     "name": "stdout",
     "output_type": "stream",
     "text": [
      "Your chances of a winning ticket from 1 tickets is 0.000007%\n",
      "Your chances of a winning ticket from 10 tickets is 0.000072%\n",
      "Your chances of a winning ticket from 100 tickets is 0.000715%\n",
      "Your chances of a winning ticket from 10000 tickets is 0.071511%\n",
      "Your chances of a winning ticket from 1000000 tickets is 7.151124%\n",
      "Your chances of a winning ticket from 6991908 tickets is 50.000000%\n",
      "Your chances of a winning ticket from 13983816 tickets is 100.000000%\n"
     ]
    }
   ],
   "source": [
    "multi_ticket_probability([1, 10, 100, 10000, 1000000, 6991908, 13983816])"
   ]
  },
  {
   "cell_type": "markdown",
   "metadata": {},
   "source": [
    "If buying 1000 tickets at the lottery, the chances of a winning ticket is still only 0.07%. "
   ]
  },
  {
   "cell_type": "markdown",
   "metadata": {},
   "source": [
    "# Chances of Smaller Prizes\n",
    "\n",
    "The lottery allows for smaller prizes in case the user has a winning match for 1-5 numbers from a ticket. We are asked to write a function that returns the probability of have 5 or less winning numbers."
   ]
  },
  {
   "cell_type": "code",
   "execution_count": 15,
   "metadata": {
    "collapsed": false,
    "jupyter": {
     "outputs_hidden": false
    }
   },
   "outputs": [],
   "source": [
    "def probability_less_6(num):\n",
    "    '''\n",
    "    Takes integer 2-5, returns the chances of having that many winning numbers\n",
    "    '''\n",
    "    if (num > 6)|(num<1):\n",
    "        print(\"The maximum number of numbers per ticket is 6, the minimum is 1\")\n",
    "    else:\n",
    "        player_combinations = combinations(6, num) # possible combinations with (num) correct choices\n",
    "\n",
    "        # the last numbers can be anything as long as it doesn't repeat our numbers, \n",
    "        # and as long as its not any of the correct numbers.\n",
    "        # Of the 6 correct numbers, we're only looking at (num) numbers. \n",
    "        # Of the remaining 49-num possibilities, we are not allowed to have 6-num correct choices.\n",
    "        # This will always bring the total number of possible successful outcomes to 43.\n",
    "        \n",
    "        player_combinations_remaining = combinations(43, 6-num) # possible failures with (6-num) choices\n",
    "        \n",
    "        n_correct_possible = player_combinations * player_combinations_remaining\n",
    "        \n",
    "        total_poss_outcomes = combinations(49,6)\n",
    "                \n",
    "        p = 100*(n_correct_possible/total_poss_outcomes)\n",
    "        print(\"There is a {0:f}% chance that {1} of your 6 numbers are winning numbers\".format(p,num))\n",
    "        \n",
    "        "
   ]
  },
  {
   "cell_type": "code",
   "execution_count": 16,
   "metadata": {
    "collapsed": false,
    "jupyter": {
     "outputs_hidden": false
    }
   },
   "outputs": [
    {
     "name": "stdout",
     "output_type": "stream",
     "text": [
      "There is a 13.237803% chance that 2 of your 6 numbers are winning numbers\n"
     ]
    }
   ],
   "source": [
    "probability_less_6(2)"
   ]
  },
  {
   "cell_type": "code",
   "execution_count": 17,
   "metadata": {
    "collapsed": false,
    "jupyter": {
     "outputs_hidden": false
    }
   },
   "outputs": [
    {
     "name": "stdout",
     "output_type": "stream",
     "text": [
      "There is a 1.765040% chance that 3 of your 6 numbers are winning numbers\n"
     ]
    }
   ],
   "source": [
    "probability_less_6(3)"
   ]
  },
  {
   "cell_type": "code",
   "execution_count": 18,
   "metadata": {
    "collapsed": false,
    "jupyter": {
     "outputs_hidden": false
    }
   },
   "outputs": [
    {
     "name": "stdout",
     "output_type": "stream",
     "text": [
      "There is a 0.096862% chance that 4 of your 6 numbers are winning numbers\n"
     ]
    }
   ],
   "source": [
    "probability_less_6(4)"
   ]
  },
  {
   "cell_type": "code",
   "execution_count": 19,
   "metadata": {
    "collapsed": false,
    "jupyter": {
     "outputs_hidden": false
    }
   },
   "outputs": [
    {
     "name": "stdout",
     "output_type": "stream",
     "text": [
      "There is a 0.001845% chance that 5 of your 6 numbers are winning numbers\n"
     ]
    }
   ],
   "source": [
    "probability_less_6(5)"
   ]
  },
  {
   "cell_type": "code",
   "execution_count": 20,
   "metadata": {
    "collapsed": false,
    "jupyter": {
     "outputs_hidden": false
    }
   },
   "outputs": [
    {
     "name": "stdout",
     "output_type": "stream",
     "text": [
      "There is a 0.000007% chance that 6 of your 6 numbers are winning numbers\n"
     ]
    }
   ],
   "source": [
    "probability_less_6(6)"
   ]
  },
  {
   "cell_type": "markdown",
   "metadata": {},
   "source": [
    "# Logic\n",
    "\n",
    "## Question\n",
    "\n",
    "__Possible choices:__ (1,2,3,4,5,...,45,46,47,48,49)\n",
    "\n",
    "__Winning numbers:__ (42,32,22,12,2,8)\n",
    "\n",
    "Question: Player choses 6 numbers from the set (1-49). Of these chosen numbers, what is the probability that *exactly five* are winners?\n",
    "\n",
    "## Explanation\n",
    "\n",
    "__Player's choice:__ (42,32,22,12,2,X), where X is an irrelevant number as we're only interested in the 5 numbers.\n",
    "\n",
    "* Possible number of combinations for the player's 5 numbers from 6:\n",
    "\n",
    "\\begin{equation}\n",
    "_6C_5 = {6 \\choose 5} =  \\frac{6!}{5!(6-5)!} =  6\n",
    "\\end{equation}\n",
    "\n",
    "* The last number, X, can be any number without repeating our chosen numbers. Thus, there are `49-5 = 44` possible *correct* choices for the player to make. If the player gets (42,32,22,12,2,X) in their ticket, X can be anything that is not 42,32,22,12,2.\n",
    "* We are interested in *exactly five* correct choices, the last number has to be wrong. This means `X != 8`. So the actual number of correct possibilities is `49-5-1=43`, where:\n",
    "    * `49` represents the total number of possible choices in the set (1-49)\n",
    "    * `5` represents the five numbers the player already chose, as they cannot be repeated\n",
    "    * `1` represents the last actual winning number, which is 8. If the player selects 8 as their last number, would win the Big Win, not the Smaller Prize. For this reason 8 is excluded from the possible correct choices.\n",
    "* Since there are six combinations possible of the player's correct choices, and each combination has 43 possible successful outcomes, the *total* number of successful outcomes is `6*43 = 258`.\n",
    "* Finally, to calculate the probability of guessing 5 numbers correct on a six number ticket, we can use the probability formula: `p = s/f`:\n",
    "\n",
    "\\begin{equation}\n",
    "P_{(5winning numbers)} = \\frac{258}{49 \\choose 6} = 0.00001845\n",
    "\\end{equation}\n",
    "\n",
    "## Interpretation\n",
    "\n",
    "The probability of choosing 6 numbers from the range of `1-49` where 5 of the 6 match the winning numbers, is `0.001845%`"
   ]
  },
  {
   "cell_type": "markdown",
   "metadata": {},
   "source": [
    "# At Least"
   ]
  },
  {
   "cell_type": "code",
   "execution_count": 21,
   "metadata": {},
   "outputs": [],
   "source": [
    "def probability_at_least_6(num):\n",
    "    '''\n",
    "    Calculates the probability that at least (num) numbers are correct of our 6 choices.\n",
    "    '''\n",
    "    if (num > 6)|(num<=1):\n",
    "        print(\"The maximum number of numbers per ticket is 6, the minimum is 2\")\n",
    "    else:\n",
    "        at_least_possible = 0\n",
    "        for i in range(num,7):\n",
    "            player_combinations = combinations(6, num) # possible combinations with (num) correct choices\n",
    "            player_combinations_remaining = combinations(43, 6-num) # possible failures with (6-num) choices\n",
    "            n_correct_possible = player_combinations * player_combinations_remaining\n",
    "            at_least_possible += n_correct_possible\n",
    "        \n",
    "        total_poss_outcomes = combinations(49,6)\n",
    "                \n",
    "        p = 100*(at_least_possible/total_poss_outcomes)\n",
    "        print(\"There is a {0:f}% chance that at least {1} of your 6 numbers are winning numbers\".format(p,num))\n",
    "        \n",
    "        "
   ]
  },
  {
   "cell_type": "code",
   "execution_count": 22,
   "metadata": {
    "collapsed": false,
    "jupyter": {
     "outputs_hidden": false
    }
   },
   "outputs": [
    {
     "name": "stdout",
     "output_type": "stream",
     "text": [
      "There is a 66.189015% chance that at least 2 of your 6 numbers are winning numbers\n"
     ]
    }
   ],
   "source": [
    "probability_at_least_6(2)"
   ]
  },
  {
   "cell_type": "code",
   "execution_count": 23,
   "metadata": {
    "collapsed": false,
    "jupyter": {
     "outputs_hidden": false
    }
   },
   "outputs": [
    {
     "name": "stdout",
     "output_type": "stream",
     "text": [
      "There is a 7.060162% chance that at least 3 of your 6 numbers are winning numbers\n"
     ]
    }
   ],
   "source": [
    "probability_at_least_6(3)"
   ]
  },
  {
   "cell_type": "code",
   "execution_count": 24,
   "metadata": {
    "collapsed": false,
    "jupyter": {
     "outputs_hidden": false
    }
   },
   "outputs": [
    {
     "name": "stdout",
     "output_type": "stream",
     "text": [
      "There is a 0.290586% chance that at least 4 of your 6 numbers are winning numbers\n"
     ]
    }
   ],
   "source": [
    "probability_at_least_6(4)"
   ]
  },
  {
   "cell_type": "code",
   "execution_count": 25,
   "metadata": {
    "collapsed": false,
    "jupyter": {
     "outputs_hidden": false
    }
   },
   "outputs": [
    {
     "name": "stdout",
     "output_type": "stream",
     "text": [
      "There is a 0.003690% chance that at least 5 of your 6 numbers are winning numbers\n"
     ]
    }
   ],
   "source": [
    "probability_at_least_6(5)"
   ]
  },
  {
   "cell_type": "code",
   "execution_count": 26,
   "metadata": {
    "collapsed": false,
    "jupyter": {
     "outputs_hidden": false
    }
   },
   "outputs": [
    {
     "name": "stdout",
     "output_type": "stream",
     "text": [
      "There is a 0.000007% chance that at least 6 of your 6 numbers are winning numbers\n"
     ]
    }
   ],
   "source": [
    "probability_at_least_6(6)"
   ]
  },
  {
   "cell_type": "code",
   "execution_count": null,
   "metadata": {},
   "outputs": [],
   "source": []
  }
 ],
 "metadata": {
  "kernelspec": {
   "display_name": "Data Python Env",
   "language": "python",
   "name": "data_env"
  },
  "language_info": {
   "codemirror_mode": {
    "name": "ipython",
    "version": 3
   },
   "file_extension": ".py",
   "mimetype": "text/x-python",
   "name": "python",
   "nbconvert_exporter": "python",
   "pygments_lexer": "ipython3",
   "version": "3.6.10"
  }
 },
 "nbformat": 4,
 "nbformat_minor": 4
}
