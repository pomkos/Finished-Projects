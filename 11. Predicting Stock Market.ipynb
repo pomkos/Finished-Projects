{
 "cells": [
  {
   "cell_type": "code",
   "execution_count": 1,
   "metadata": {},
   "outputs": [],
   "source": [
    "import pandas as pd\n",
    "import datetime as dt\n",
    "import numpy as np\n",
    "\n",
    "df = pd.read_csv('sphist.csv')\n",
    "df['Date'] = pd.to_datetime(df['Date'])\n",
    "df = df.sort_values('Date', ascending = True).reset_index(drop=True)\n",
    "# current_date = dt.datetime.strptime('1950-12-26', \"%Y-%m-%d\")"
   ]
  },
  {
   "cell_type": "code",
   "execution_count": 2,
   "metadata": {},
   "outputs": [],
   "source": [
    "def rolling_avg(dataframe, window):\n",
    "    '''\n",
    "    Finds the rolling average, given window to calculate from\n",
    "    '''\n",
    "    dataframe['day_{}_mean'.format(window)] = 0\n",
    "    for i, row in dataframe.iterrows():\n",
    "        if i > window:\n",
    "            dataframe.loc[i,'day_{}_mean'.format(window)] = (dataframe.loc[i-window+1:i,'Close'].mean() + dataframe.loc[i-window+1:i, 'Open'].mean() + dataframe.loc[i-window+1:i, 'High'].mean() + dataframe.loc[i-window+1:i, 'Close'].mean())/window\n",
    "        else:\n",
    "            ''\n",
    "    return dataframe\n",
    "\n",
    "new_df = rolling_avg(df, 5)\n",
    "new_df = rolling_avg(new_df, 30)\n",
    "new_df = rolling_avg(new_df, 365)\n",
    "\n",
    "new_df = new_df[new_df['Date'] > dt.datetime.strptime(\"1951-01-03\", \"%Y-%m-%d\")]\n",
    "new_df = new_df.dropna(axis=0)"
   ]
  },
  {
   "cell_type": "code",
   "execution_count": 3,
   "metadata": {},
   "outputs": [],
   "source": [
    "train = new_df[new_df['Date'] < dt.datetime.strptime(\"2013-01-01\", \"%Y-%m-%d\")]\n",
    "test = new_df[new_df['Date'] > dt.datetime.strptime(\"2013-01-01\", \"%Y-%m-%d\")]\n",
    "\n",
    "def mean_absolute_error(predict, real):\n",
    "    '''\n",
    "    Calculate MAE from two series\n",
    "    '''\n",
    "    \n",
    "    mae = np.sum(predict - real) / len(predict)\n",
    "    return mae"
   ]
  },
  {
   "cell_type": "code",
   "execution_count": 4,
   "metadata": {},
   "outputs": [],
   "source": [
    "from sklearn.linear_model import LinearRegression\n",
    "\n",
    "X_train = train.drop(['Close','High','Low','Open','Volume','Adj Close','Date'], axis=1)\n",
    "y_train = train['Close']\n",
    "lr = LinearRegression()\n",
    "lr.fit(X_train, y_train)\n",
    "\n",
    "X_test = test.drop(['Close','High','Low','Open','Volume','Adj Close','Date'], axis=1)\n",
    "y_test = test['Close']\n",
    "\n",
    "predict = lr.predict(X_test)\n",
    "mae = mean_absolute_error(predict, y_test)"
   ]
  },
  {
   "cell_type": "code",
   "execution_count": 5,
   "metadata": {},
   "outputs": [
    {
     "data": {
      "text/plain": [
       "-1.7003021473717779"
      ]
     },
     "execution_count": 5,
     "metadata": {},
     "output_type": "execute_result"
    }
   ],
   "source": [
    "mae"
   ]
  },
  {
   "cell_type": "code",
   "execution_count": null,
   "metadata": {},
   "outputs": [],
   "source": []
  }
 ],
 "metadata": {
  "kernelspec": {
   "display_name": "Data Env",
   "language": "python",
   "name": "data_env"
  },
  "language_info": {
   "codemirror_mode": {
    "name": "ipython",
    "version": 3
   },
   "file_extension": ".py",
   "mimetype": "text/x-python",
   "name": "python",
   "nbconvert_exporter": "python",
   "pygments_lexer": "ipython3",
   "version": "3.6.12"
  }
 },
 "nbformat": 4,
 "nbformat_minor": 4
}
