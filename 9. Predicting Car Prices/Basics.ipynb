{
 "cells": [
  {
   "cell_type": "markdown",
   "metadata": {},
   "source": [
    "# Predicting car market price with KNN\n",
    "\n",
    "We are tasked with predicting what certain cars will be sold for on the market, depending on their attributes. The dataset is taken from the UCI Machine Learning Repository [here](https://archive.ics.uci.edu/ml/datasets/automobile).\n"
   ]
  },
  {
   "cell_type": "markdown",
   "metadata": {},
   "source": [
    "# Cleaning"
   ]
  },
  {
   "cell_type": "code",
   "execution_count": 94,
   "metadata": {},
   "outputs": [],
   "source": [
    "import pandas as pd\n",
    "import numpy as np\n",
    "import matplotlib.pyplot as plt\n",
    "import seaborn as sns"
   ]
  },
  {
   "cell_type": "code",
   "execution_count": 2,
   "metadata": {},
   "outputs": [],
   "source": [
    "col_names = ['symboling','normalized_losses','make','fuel_type','aspiration',\n",
    "             'num_of_doors','body_style','drive_wheels','engine_location',\n",
    "             'wheel_base','length','width','height','curb_weight',\n",
    "             'engine_type','num_cyl','engine_size','fuel_system','bore',\n",
    "             'stroke','compression_ratio','horsepower','peak_rpm',\n",
    "             'city_mpg','highway_mpg','price']"
   ]
  },
  {
   "cell_type": "code",
   "execution_count": 3,
   "metadata": {
    "collapsed": false,
    "jupyter": {
     "outputs_hidden": false
    }
   },
   "outputs": [],
   "source": [
    "cars = pd.read_csv('imports-85.data', header=None)\n",
    "cars.columns = col_names"
   ]
  },
  {
   "cell_type": "code",
   "execution_count": 4,
   "metadata": {
    "collapsed": false,
    "jupyter": {
     "outputs_hidden": false
    }
   },
   "outputs": [
    {
     "data": {
      "text/html": [
       "<div>\n",
       "<style scoped>\n",
       "    .dataframe tbody tr th:only-of-type {\n",
       "        vertical-align: middle;\n",
       "    }\n",
       "\n",
       "    .dataframe tbody tr th {\n",
       "        vertical-align: top;\n",
       "    }\n",
       "\n",
       "    .dataframe thead th {\n",
       "        text-align: right;\n",
       "    }\n",
       "</style>\n",
       "<table border=\"1\" class=\"dataframe\">\n",
       "  <thead>\n",
       "    <tr style=\"text-align: right;\">\n",
       "      <th></th>\n",
       "      <th>symboling</th>\n",
       "      <th>normalized_losses</th>\n",
       "      <th>make</th>\n",
       "      <th>fuel_type</th>\n",
       "      <th>aspiration</th>\n",
       "      <th>num_of_doors</th>\n",
       "      <th>body_style</th>\n",
       "      <th>drive_wheels</th>\n",
       "      <th>engine_location</th>\n",
       "      <th>wheel_base</th>\n",
       "      <th>...</th>\n",
       "      <th>engine_size</th>\n",
       "      <th>fuel_system</th>\n",
       "      <th>bore</th>\n",
       "      <th>stroke</th>\n",
       "      <th>compression_ratio</th>\n",
       "      <th>horsepower</th>\n",
       "      <th>peak_rpm</th>\n",
       "      <th>city_mpg</th>\n",
       "      <th>highway_mpg</th>\n",
       "      <th>price</th>\n",
       "    </tr>\n",
       "  </thead>\n",
       "  <tbody>\n",
       "    <tr>\n",
       "      <th>0</th>\n",
       "      <td>3</td>\n",
       "      <td>?</td>\n",
       "      <td>alfa-romero</td>\n",
       "      <td>gas</td>\n",
       "      <td>std</td>\n",
       "      <td>two</td>\n",
       "      <td>convertible</td>\n",
       "      <td>rwd</td>\n",
       "      <td>front</td>\n",
       "      <td>88.6</td>\n",
       "      <td>...</td>\n",
       "      <td>130</td>\n",
       "      <td>mpfi</td>\n",
       "      <td>3.47</td>\n",
       "      <td>2.68</td>\n",
       "      <td>9.0</td>\n",
       "      <td>111</td>\n",
       "      <td>5000</td>\n",
       "      <td>21</td>\n",
       "      <td>27</td>\n",
       "      <td>13495</td>\n",
       "    </tr>\n",
       "    <tr>\n",
       "      <th>1</th>\n",
       "      <td>3</td>\n",
       "      <td>?</td>\n",
       "      <td>alfa-romero</td>\n",
       "      <td>gas</td>\n",
       "      <td>std</td>\n",
       "      <td>two</td>\n",
       "      <td>convertible</td>\n",
       "      <td>rwd</td>\n",
       "      <td>front</td>\n",
       "      <td>88.6</td>\n",
       "      <td>...</td>\n",
       "      <td>130</td>\n",
       "      <td>mpfi</td>\n",
       "      <td>3.47</td>\n",
       "      <td>2.68</td>\n",
       "      <td>9.0</td>\n",
       "      <td>111</td>\n",
       "      <td>5000</td>\n",
       "      <td>21</td>\n",
       "      <td>27</td>\n",
       "      <td>16500</td>\n",
       "    </tr>\n",
       "    <tr>\n",
       "      <th>2</th>\n",
       "      <td>1</td>\n",
       "      <td>?</td>\n",
       "      <td>alfa-romero</td>\n",
       "      <td>gas</td>\n",
       "      <td>std</td>\n",
       "      <td>two</td>\n",
       "      <td>hatchback</td>\n",
       "      <td>rwd</td>\n",
       "      <td>front</td>\n",
       "      <td>94.5</td>\n",
       "      <td>...</td>\n",
       "      <td>152</td>\n",
       "      <td>mpfi</td>\n",
       "      <td>2.68</td>\n",
       "      <td>3.47</td>\n",
       "      <td>9.0</td>\n",
       "      <td>154</td>\n",
       "      <td>5000</td>\n",
       "      <td>19</td>\n",
       "      <td>26</td>\n",
       "      <td>16500</td>\n",
       "    </tr>\n",
       "    <tr>\n",
       "      <th>3</th>\n",
       "      <td>2</td>\n",
       "      <td>164</td>\n",
       "      <td>audi</td>\n",
       "      <td>gas</td>\n",
       "      <td>std</td>\n",
       "      <td>four</td>\n",
       "      <td>sedan</td>\n",
       "      <td>fwd</td>\n",
       "      <td>front</td>\n",
       "      <td>99.8</td>\n",
       "      <td>...</td>\n",
       "      <td>109</td>\n",
       "      <td>mpfi</td>\n",
       "      <td>3.19</td>\n",
       "      <td>3.40</td>\n",
       "      <td>10.0</td>\n",
       "      <td>102</td>\n",
       "      <td>5500</td>\n",
       "      <td>24</td>\n",
       "      <td>30</td>\n",
       "      <td>13950</td>\n",
       "    </tr>\n",
       "    <tr>\n",
       "      <th>4</th>\n",
       "      <td>2</td>\n",
       "      <td>164</td>\n",
       "      <td>audi</td>\n",
       "      <td>gas</td>\n",
       "      <td>std</td>\n",
       "      <td>four</td>\n",
       "      <td>sedan</td>\n",
       "      <td>4wd</td>\n",
       "      <td>front</td>\n",
       "      <td>99.4</td>\n",
       "      <td>...</td>\n",
       "      <td>136</td>\n",
       "      <td>mpfi</td>\n",
       "      <td>3.19</td>\n",
       "      <td>3.40</td>\n",
       "      <td>8.0</td>\n",
       "      <td>115</td>\n",
       "      <td>5500</td>\n",
       "      <td>18</td>\n",
       "      <td>22</td>\n",
       "      <td>17450</td>\n",
       "    </tr>\n",
       "  </tbody>\n",
       "</table>\n",
       "<p>5 rows × 26 columns</p>\n",
       "</div>"
      ],
      "text/plain": [
       "   symboling normalized_losses         make fuel_type aspiration num_of_doors  \\\n",
       "0          3                 ?  alfa-romero       gas        std          two   \n",
       "1          3                 ?  alfa-romero       gas        std          two   \n",
       "2          1                 ?  alfa-romero       gas        std          two   \n",
       "3          2               164         audi       gas        std         four   \n",
       "4          2               164         audi       gas        std         four   \n",
       "\n",
       "    body_style drive_wheels engine_location  wheel_base  ...  engine_size  \\\n",
       "0  convertible          rwd           front        88.6  ...          130   \n",
       "1  convertible          rwd           front        88.6  ...          130   \n",
       "2    hatchback          rwd           front        94.5  ...          152   \n",
       "3        sedan          fwd           front        99.8  ...          109   \n",
       "4        sedan          4wd           front        99.4  ...          136   \n",
       "\n",
       "   fuel_system  bore  stroke compression_ratio horsepower  peak_rpm city_mpg  \\\n",
       "0         mpfi  3.47    2.68               9.0        111      5000       21   \n",
       "1         mpfi  3.47    2.68               9.0        111      5000       21   \n",
       "2         mpfi  2.68    3.47               9.0        154      5000       19   \n",
       "3         mpfi  3.19    3.40              10.0        102      5500       24   \n",
       "4         mpfi  3.19    3.40               8.0        115      5500       18   \n",
       "\n",
       "  highway_mpg  price  \n",
       "0          27  13495  \n",
       "1          27  16500  \n",
       "2          26  16500  \n",
       "3          30  13950  \n",
       "4          22  17450  \n",
       "\n",
       "[5 rows x 26 columns]"
      ]
     },
     "execution_count": 4,
     "metadata": {},
     "output_type": "execute_result"
    }
   ],
   "source": [
    "cars.head()"
   ]
  },
  {
   "cell_type": "code",
   "execution_count": 5,
   "metadata": {
    "collapsed": false,
    "jupyter": {
     "outputs_hidden": false
    }
   },
   "outputs": [],
   "source": [
    "cars = cars.replace('?',np.nan)"
   ]
  },
  {
   "cell_type": "code",
   "execution_count": 6,
   "metadata": {
    "collapsed": false,
    "jupyter": {
     "outputs_hidden": false
    }
   },
   "outputs": [],
   "source": [
    "cars = cars.astype({\n",
    "    'normalized_losses':float,\n",
    "    'bore':float,\n",
    "    'stroke':float,\n",
    "    'horsepower':float,\n",
    "    'peak_rpm':float,\n",
    "    'price':float\n",
    "})"
   ]
  },
  {
   "cell_type": "markdown",
   "metadata": {},
   "source": [
    "KNN algorithms can only use continuous variables with all observations having a value, so we start by filtering selecting only the appropriate columns. According to the data dictionary the following columns are continuous:\n",
    "\n",
    "* `normalized_losses`\n",
    "* `wheel_base`\n",
    "* `length`\n",
    "* `width`\n",
    "* `height`\n",
    "* `curb_weight`\n",
    "* `engine_size`\n",
    "* `bore`\n",
    "* `stroke`\n",
    "* `compression-ratio`\n",
    "* `horsepower`\n",
    "* `peak_rpm`\n",
    "* `city_mpg`\n",
    "* `highway_mpg`\n",
    "* `price`"
   ]
  },
  {
   "cell_type": "code",
   "execution_count": 78,
   "metadata": {},
   "outputs": [],
   "source": [
    "num_cars = cars[['make','normalized_losses','wheel_base',\n",
    "                 'length','width','height','curb_weight',\n",
    "                 'engine_size','bore','stroke','compression_ratio','horsepower',\n",
    "                 'peak_rpm','city_mpg','highway_mpg','price']].copy()"
   ]
  },
  {
   "cell_type": "markdown",
   "metadata": {},
   "source": [
    "## Nan values"
   ]
  },
  {
   "cell_type": "code",
   "execution_count": 79,
   "metadata": {},
   "outputs": [
    {
     "name": "stdout",
     "output_type": "stream",
     "text": [
      "<class 'pandas.core.frame.DataFrame'>\n",
      "Int64Index: 203 entries, 0 to 204\n",
      "Data columns (total 16 columns):\n",
      " #   Column             Non-Null Count  Dtype  \n",
      "---  ------             --------------  -----  \n",
      " 0   make               203 non-null    object \n",
      " 1   normalized_losses  162 non-null    float64\n",
      " 2   wheel_base         203 non-null    float64\n",
      " 3   length             203 non-null    float64\n",
      " 4   width              203 non-null    float64\n",
      " 5   height             203 non-null    float64\n",
      " 6   curb_weight        203 non-null    int64  \n",
      " 7   engine_size        203 non-null    int64  \n",
      " 8   bore               199 non-null    float64\n",
      " 9   stroke             199 non-null    float64\n",
      " 10  compression_ratio  203 non-null    float64\n",
      " 11  horsepower         201 non-null    float64\n",
      " 12  peak_rpm           201 non-null    float64\n",
      " 13  city_mpg           203 non-null    int64  \n",
      " 14  highway_mpg        203 non-null    int64  \n",
      " 15  price              199 non-null    float64\n",
      "dtypes: float64(11), int64(4), object(1)\n",
      "memory usage: 27.0+ KB\n"
     ]
    }
   ],
   "source": [
    "num_cars.info()"
   ]
  },
  {
   "cell_type": "markdown",
   "metadata": {},
   "source": [
    "The following columns contain missing values:\n",
    "\n",
    "* `normalized_losses`\n",
    "* `bore`\n",
    "* `stroke`\n",
    "* `horsepower`\n",
    "* `peak_rpm`\n",
    "* `price`"
   ]
  },
  {
   "cell_type": "markdown",
   "metadata": {},
   "source": [
    "### price"
   ]
  },
  {
   "cell_type": "markdown",
   "metadata": {},
   "source": [
    "All four cars without a price are also missing the `normalized_losses` variable. We cannot have NaN as a `price` for our model. We have two choices:\n",
    "\n",
    "* Remove these four rows\n",
    "* Replace the NaN with the average of the prices"
   ]
  },
  {
   "cell_type": "code",
   "execution_count": 80,
   "metadata": {
    "collapsed": false,
    "jupyter": {
     "outputs_hidden": false
    }
   },
   "outputs": [
    {
     "data": {
      "text/html": [
       "<div>\n",
       "<style scoped>\n",
       "    .dataframe tbody tr th:only-of-type {\n",
       "        vertical-align: middle;\n",
       "    }\n",
       "\n",
       "    .dataframe tbody tr th {\n",
       "        vertical-align: top;\n",
       "    }\n",
       "\n",
       "    .dataframe thead th {\n",
       "        text-align: right;\n",
       "    }\n",
       "</style>\n",
       "<table border=\"1\" class=\"dataframe\">\n",
       "  <thead>\n",
       "    <tr style=\"text-align: right;\">\n",
       "      <th></th>\n",
       "      <th>count</th>\n",
       "      <th>mean</th>\n",
       "      <th>std</th>\n",
       "      <th>min</th>\n",
       "      <th>25%</th>\n",
       "      <th>50%</th>\n",
       "      <th>75%</th>\n",
       "      <th>max</th>\n",
       "    </tr>\n",
       "    <tr>\n",
       "      <th>make</th>\n",
       "      <th></th>\n",
       "      <th></th>\n",
       "      <th></th>\n",
       "      <th></th>\n",
       "      <th></th>\n",
       "      <th></th>\n",
       "      <th></th>\n",
       "      <th></th>\n",
       "    </tr>\n",
       "  </thead>\n",
       "  <tbody>\n",
       "    <tr>\n",
       "      <th>audi</th>\n",
       "      <td>6.0</td>\n",
       "      <td>17859.166667</td>\n",
       "      <td>3452.379493</td>\n",
       "      <td>13950.0</td>\n",
       "      <td>15800.00</td>\n",
       "      <td>17580.0</td>\n",
       "      <td>18617.50</td>\n",
       "      <td>23875.0</td>\n",
       "    </tr>\n",
       "    <tr>\n",
       "      <th>isuzu</th>\n",
       "      <td>2.0</td>\n",
       "      <td>8916.500000</td>\n",
       "      <td>3014.396208</td>\n",
       "      <td>6785.0</td>\n",
       "      <td>7850.75</td>\n",
       "      <td>8916.5</td>\n",
       "      <td>9982.25</td>\n",
       "      <td>11048.0</td>\n",
       "    </tr>\n",
       "    <tr>\n",
       "      <th>porsche</th>\n",
       "      <td>4.0</td>\n",
       "      <td>31400.500000</td>\n",
       "      <td>6528.784343</td>\n",
       "      <td>22018.0</td>\n",
       "      <td>29900.50</td>\n",
       "      <td>33278.0</td>\n",
       "      <td>34778.00</td>\n",
       "      <td>37028.0</td>\n",
       "    </tr>\n",
       "  </tbody>\n",
       "</table>\n",
       "</div>"
      ],
      "text/plain": [
       "         count          mean          std      min       25%      50%  \\\n",
       "make                                                                    \n",
       "audi       6.0  17859.166667  3452.379493  13950.0  15800.00  17580.0   \n",
       "isuzu      2.0   8916.500000  3014.396208   6785.0   7850.75   8916.5   \n",
       "porsche    4.0  31400.500000  6528.784343  22018.0  29900.50  33278.0   \n",
       "\n",
       "              75%      max  \n",
       "make                        \n",
       "audi     18617.50  23875.0  \n",
       "isuzu     9982.25  11048.0  \n",
       "porsche  34778.00  37028.0  "
      ]
     },
     "execution_count": 80,
     "metadata": {},
     "output_type": "execute_result"
    }
   ],
   "source": [
    "nan_price.groupby('make')['price'].describe()"
   ]
  },
  {
   "cell_type": "markdown",
   "metadata": {},
   "source": [
    "Since the price depends on as of yet unknown features, we will remove the four rows to avoid biasing the model when predicting prices for these three makes."
   ]
  },
  {
   "cell_type": "code",
   "execution_count": 81,
   "metadata": {},
   "outputs": [],
   "source": [
    "num_cars = num_cars.dropna(subset=['price'],axis = 0)"
   ]
  },
  {
   "cell_type": "code",
   "execution_count": 82,
   "metadata": {
    "collapsed": false,
    "jupyter": {
     "outputs_hidden": false
    }
   },
   "outputs": [
    {
     "data": {
      "text/plain": [
       "0"
      ]
     },
     "execution_count": 82,
     "metadata": {},
     "output_type": "execute_result"
    }
   ],
   "source": [
    "num_cars['price'].isna().sum()"
   ]
  },
  {
   "cell_type": "markdown",
   "metadata": {},
   "source": [
    "### normalized_losses"
   ]
  },
  {
   "cell_type": "markdown",
   "metadata": {},
   "source": [
    "The `normalized_losses` feature has the most `nan` values and is worth investigating."
   ]
  },
  {
   "cell_type": "code",
   "execution_count": 83,
   "metadata": {
    "collapsed": false,
    "jupyter": {
     "outputs_hidden": false
    }
   },
   "outputs": [
    {
     "data": {
      "text/plain": [
       "37"
      ]
     },
     "execution_count": 83,
     "metadata": {},
     "output_type": "execute_result"
    }
   ],
   "source": [
    "num_cars['normalized_losses'].isna().sum()"
   ]
  },
  {
   "cell_type": "code",
   "execution_count": 85,
   "metadata": {
    "collapsed": false,
    "jupyter": {
     "outputs_hidden": false
    }
   },
   "outputs": [],
   "source": [
    "# count the number of cars per maker\n",
    "car_count = pd.DataFrame(num_cars.groupby('make').count()['length']).reset_index()\n",
    "car_count.columns=['make','obs_num']"
   ]
  },
  {
   "cell_type": "code",
   "execution_count": 87,
   "metadata": {
    "collapsed": false,
    "jupyter": {
     "outputs_hidden": false
    }
   },
   "outputs": [],
   "source": [
    "# count the number of nan values per maker\n",
    "na_norm_losses_count = pd.DataFrame(num_cars[num_cars['normalized_losses'].isna()]['make'].value_counts()).reset_index()\n",
    "na_norm_losses_count.columns = ['make','nan_num']"
   ]
  },
  {
   "cell_type": "code",
   "execution_count": 88,
   "metadata": {
    "collapsed": false,
    "jupyter": {
     "outputs_hidden": false
    }
   },
   "outputs": [],
   "source": [
    "# merge the two datasets and calculate the difference\n",
    "compare = car_count.merge(na_norm_losses_count)\n",
    "compare['no_nan'] = compare['obs_num'] - compare['nan_num']\n",
    "compare['perc_nan'] = round((compare['nan_num']/compare['obs_num'])*100,2)"
   ]
  },
  {
   "cell_type": "code",
   "execution_count": 89,
   "metadata": {
    "collapsed": false,
    "jupyter": {
     "outputs_hidden": false
    }
   },
   "outputs": [
    {
     "data": {
      "text/html": [
       "<div>\n",
       "<style scoped>\n",
       "    .dataframe tbody tr th:only-of-type {\n",
       "        vertical-align: middle;\n",
       "    }\n",
       "\n",
       "    .dataframe tbody tr th {\n",
       "        vertical-align: top;\n",
       "    }\n",
       "\n",
       "    .dataframe thead th {\n",
       "        text-align: right;\n",
       "    }\n",
       "</style>\n",
       "<table border=\"1\" class=\"dataframe\">\n",
       "  <thead>\n",
       "    <tr style=\"text-align: right;\">\n",
       "      <th></th>\n",
       "      <th>make</th>\n",
       "      <th>obs_num</th>\n",
       "      <th>nan_num</th>\n",
       "      <th>no_nan</th>\n",
       "      <th>perc_nan</th>\n",
       "    </tr>\n",
       "  </thead>\n",
       "  <tbody>\n",
       "    <tr>\n",
       "      <th>0</th>\n",
       "      <td>alfa-romero</td>\n",
       "      <td>3</td>\n",
       "      <td>3</td>\n",
       "      <td>0</td>\n",
       "      <td>100.00</td>\n",
       "    </tr>\n",
       "    <tr>\n",
       "      <th>3</th>\n",
       "      <td>isuzu</td>\n",
       "      <td>2</td>\n",
       "      <td>2</td>\n",
       "      <td>0</td>\n",
       "      <td>100.00</td>\n",
       "    </tr>\n",
       "    <tr>\n",
       "      <th>7</th>\n",
       "      <td>mercury</td>\n",
       "      <td>1</td>\n",
       "      <td>1</td>\n",
       "      <td>0</td>\n",
       "      <td>100.00</td>\n",
       "    </tr>\n",
       "    <tr>\n",
       "      <th>12</th>\n",
       "      <td>renault</td>\n",
       "      <td>2</td>\n",
       "      <td>2</td>\n",
       "      <td>0</td>\n",
       "      <td>100.00</td>\n",
       "    </tr>\n",
       "    <tr>\n",
       "      <th>11</th>\n",
       "      <td>porsche</td>\n",
       "      <td>4</td>\n",
       "      <td>3</td>\n",
       "      <td>1</td>\n",
       "      <td>75.00</td>\n",
       "    </tr>\n",
       "    <tr>\n",
       "      <th>4</th>\n",
       "      <td>jaguar</td>\n",
       "      <td>3</td>\n",
       "      <td>2</td>\n",
       "      <td>1</td>\n",
       "      <td>66.67</td>\n",
       "    </tr>\n",
       "    <tr>\n",
       "      <th>2</th>\n",
       "      <td>bmw</td>\n",
       "      <td>8</td>\n",
       "      <td>4</td>\n",
       "      <td>4</td>\n",
       "      <td>50.00</td>\n",
       "    </tr>\n",
       "    <tr>\n",
       "      <th>1</th>\n",
       "      <td>audi</td>\n",
       "      <td>5</td>\n",
       "      <td>2</td>\n",
       "      <td>3</td>\n",
       "      <td>40.00</td>\n",
       "    </tr>\n",
       "    <tr>\n",
       "      <th>6</th>\n",
       "      <td>mercedes-benz</td>\n",
       "      <td>8</td>\n",
       "      <td>3</td>\n",
       "      <td>5</td>\n",
       "      <td>37.50</td>\n",
       "    </tr>\n",
       "    <tr>\n",
       "      <th>9</th>\n",
       "      <td>peugot</td>\n",
       "      <td>11</td>\n",
       "      <td>4</td>\n",
       "      <td>7</td>\n",
       "      <td>36.36</td>\n",
       "    </tr>\n",
       "    <tr>\n",
       "      <th>14</th>\n",
       "      <td>volkswagen</td>\n",
       "      <td>12</td>\n",
       "      <td>4</td>\n",
       "      <td>8</td>\n",
       "      <td>33.33</td>\n",
       "    </tr>\n",
       "    <tr>\n",
       "      <th>8</th>\n",
       "      <td>mitsubishi</td>\n",
       "      <td>13</td>\n",
       "      <td>3</td>\n",
       "      <td>10</td>\n",
       "      <td>23.08</td>\n",
       "    </tr>\n",
       "    <tr>\n",
       "      <th>10</th>\n",
       "      <td>plymouth</td>\n",
       "      <td>6</td>\n",
       "      <td>1</td>\n",
       "      <td>5</td>\n",
       "      <td>16.67</td>\n",
       "    </tr>\n",
       "    <tr>\n",
       "      <th>5</th>\n",
       "      <td>mazda</td>\n",
       "      <td>17</td>\n",
       "      <td>2</td>\n",
       "      <td>15</td>\n",
       "      <td>11.76</td>\n",
       "    </tr>\n",
       "    <tr>\n",
       "      <th>13</th>\n",
       "      <td>toyota</td>\n",
       "      <td>32</td>\n",
       "      <td>1</td>\n",
       "      <td>31</td>\n",
       "      <td>3.12</td>\n",
       "    </tr>\n",
       "  </tbody>\n",
       "</table>\n",
       "</div>"
      ],
      "text/plain": [
       "             make  obs_num  nan_num  no_nan  perc_nan\n",
       "0     alfa-romero        3        3       0    100.00\n",
       "3           isuzu        2        2       0    100.00\n",
       "7         mercury        1        1       0    100.00\n",
       "12        renault        2        2       0    100.00\n",
       "11        porsche        4        3       1     75.00\n",
       "4          jaguar        3        2       1     66.67\n",
       "2             bmw        8        4       4     50.00\n",
       "1            audi        5        2       3     40.00\n",
       "6   mercedes-benz        8        3       5     37.50\n",
       "9          peugot       11        4       7     36.36\n",
       "14     volkswagen       12        4       8     33.33\n",
       "8      mitsubishi       13        3      10     23.08\n",
       "10       plymouth        6        1       5     16.67\n",
       "5           mazda       17        2      15     11.76\n",
       "13         toyota       32        1      31      3.12"
      ]
     },
     "execution_count": 89,
     "metadata": {},
     "output_type": "execute_result"
    }
   ],
   "source": [
    "compare.sort_values('perc_nan', ascending=False)"
   ]
  },
  {
   "cell_type": "markdown",
   "metadata": {},
   "source": [
    "37 of the `normalized_losses` values are `NaN`. To fix this we will do the following:\n",
    "\n",
    "* Car makes who's `normalized_losses` are always `NaN` are removed. These makes coincidentally do not have many data to begin with (such as price), so not much is lost.\n",
    "    * `alfa-romero`\n",
    "    * `isuzu`\n",
    "    * `mercury`\n",
    "    * `renault`\n",
    "* Car makes who have some numbers for `normalized_losses` will be kept, and the `NaN` replaced with the average.\n",
    "\n",
    "According to the data dictionary the `normalized_losses` variable represents \"average loss payment per insured vehicle year\". It depends on various size classifications of the car, such as number of doors, sedan vs hatchback, and so on. We assume the following describes the vehicle's size:\n",
    "\n",
    "* `num_of_doors`\n",
    "* `body_style`\n",
    "* `length`\n",
    "* `width`\n",
    "* `height`\n",
    "* `curb_weight`\n",
    "* `engine_size`\n",
    "\n",
    "Of these variables `num_of_doors` and`body_style` are not continuous variables and so are not considered."
   ]
  },
  {
   "cell_type": "code",
   "execution_count": 104,
   "metadata": {},
   "outputs": [
    {
     "data": {
      "text/html": [
       "<div>\n",
       "<style scoped>\n",
       "    .dataframe tbody tr th:only-of-type {\n",
       "        vertical-align: middle;\n",
       "    }\n",
       "\n",
       "    .dataframe tbody tr th {\n",
       "        vertical-align: top;\n",
       "    }\n",
       "\n",
       "    .dataframe thead th {\n",
       "        text-align: right;\n",
       "    }\n",
       "</style>\n",
       "<table border=\"1\" class=\"dataframe\">\n",
       "  <thead>\n",
       "    <tr style=\"text-align: right;\">\n",
       "      <th></th>\n",
       "      <th>make</th>\n",
       "      <th>normalized_losses</th>\n",
       "      <th>length</th>\n",
       "      <th>width</th>\n",
       "      <th>height</th>\n",
       "      <th>curb_weight</th>\n",
       "      <th>engine_size</th>\n",
       "      <th>price</th>\n",
       "    </tr>\n",
       "  </thead>\n",
       "  <tbody>\n",
       "    <tr>\n",
       "      <th>0</th>\n",
       "      <td>alfa-romero</td>\n",
       "      <td>NaN</td>\n",
       "      <td>168.8</td>\n",
       "      <td>64.1</td>\n",
       "      <td>48.8</td>\n",
       "      <td>2548</td>\n",
       "      <td>130</td>\n",
       "      <td>13495.0</td>\n",
       "    </tr>\n",
       "    <tr>\n",
       "      <th>1</th>\n",
       "      <td>alfa-romero</td>\n",
       "      <td>NaN</td>\n",
       "      <td>168.8</td>\n",
       "      <td>64.1</td>\n",
       "      <td>48.8</td>\n",
       "      <td>2548</td>\n",
       "      <td>130</td>\n",
       "      <td>16500.0</td>\n",
       "    </tr>\n",
       "    <tr>\n",
       "      <th>2</th>\n",
       "      <td>alfa-romero</td>\n",
       "      <td>NaN</td>\n",
       "      <td>171.2</td>\n",
       "      <td>65.5</td>\n",
       "      <td>52.4</td>\n",
       "      <td>2823</td>\n",
       "      <td>152</td>\n",
       "      <td>16500.0</td>\n",
       "    </tr>\n",
       "    <tr>\n",
       "      <th>5</th>\n",
       "      <td>audi</td>\n",
       "      <td>NaN</td>\n",
       "      <td>177.3</td>\n",
       "      <td>66.3</td>\n",
       "      <td>53.1</td>\n",
       "      <td>2507</td>\n",
       "      <td>136</td>\n",
       "      <td>15250.0</td>\n",
       "    </tr>\n",
       "    <tr>\n",
       "      <th>7</th>\n",
       "      <td>audi</td>\n",
       "      <td>NaN</td>\n",
       "      <td>192.7</td>\n",
       "      <td>71.4</td>\n",
       "      <td>55.7</td>\n",
       "      <td>2954</td>\n",
       "      <td>136</td>\n",
       "      <td>18920.0</td>\n",
       "    </tr>\n",
       "  </tbody>\n",
       "</table>\n",
       "</div>"
      ],
      "text/plain": [
       "          make  normalized_losses  length  width  height  curb_weight  \\\n",
       "0  alfa-romero                NaN   168.8   64.1    48.8         2548   \n",
       "1  alfa-romero                NaN   168.8   64.1    48.8         2548   \n",
       "2  alfa-romero                NaN   171.2   65.5    52.4         2823   \n",
       "5         audi                NaN   177.3   66.3    53.1         2507   \n",
       "7         audi                NaN   192.7   71.4    55.7         2954   \n",
       "\n",
       "   engine_size    price  \n",
       "0          130  13495.0  \n",
       "1          130  16500.0  \n",
       "2          152  16500.0  \n",
       "5          136  15250.0  \n",
       "7          136  18920.0  "
      ]
     },
     "execution_count": 104,
     "metadata": {},
     "output_type": "execute_result"
    }
   ],
   "source": [
    "norm_loss_cols = ['make','normalized_losses',\n",
    "                   'length', 'width', 'height', 'curb_weight',\n",
    "                   'engine_size', 'price']\n",
    "\n",
    "norm_loss_df = num_cars[norm_loss_cols][num_cars[norm_loss_cols]['normalized_losses'].isna()]\n",
    "norm_loss_df.head()"
   ]
  },
  {
   "cell_type": "code",
   "execution_count": 105,
   "metadata": {},
   "outputs": [
    {
     "data": {
      "text/html": [
       "<div>\n",
       "<style scoped>\n",
       "    .dataframe tbody tr th:only-of-type {\n",
       "        vertical-align: middle;\n",
       "    }\n",
       "\n",
       "    .dataframe tbody tr th {\n",
       "        vertical-align: top;\n",
       "    }\n",
       "\n",
       "    .dataframe thead th {\n",
       "        text-align: right;\n",
       "    }\n",
       "</style>\n",
       "<table border=\"1\" class=\"dataframe\">\n",
       "  <thead>\n",
       "    <tr style=\"text-align: right;\">\n",
       "      <th></th>\n",
       "      <th>make</th>\n",
       "      <th>price</th>\n",
       "      <th>normalized_losses</th>\n",
       "      <th>variable</th>\n",
       "      <th>value</th>\n",
       "    </tr>\n",
       "  </thead>\n",
       "  <tbody>\n",
       "    <tr>\n",
       "      <th>0</th>\n",
       "      <td>alfa-romero</td>\n",
       "      <td>13495.0</td>\n",
       "      <td>NaN</td>\n",
       "      <td>length</td>\n",
       "      <td>168.8</td>\n",
       "    </tr>\n",
       "    <tr>\n",
       "      <th>1</th>\n",
       "      <td>alfa-romero</td>\n",
       "      <td>16500.0</td>\n",
       "      <td>NaN</td>\n",
       "      <td>length</td>\n",
       "      <td>168.8</td>\n",
       "    </tr>\n",
       "    <tr>\n",
       "      <th>2</th>\n",
       "      <td>alfa-romero</td>\n",
       "      <td>16500.0</td>\n",
       "      <td>NaN</td>\n",
       "      <td>length</td>\n",
       "      <td>171.2</td>\n",
       "    </tr>\n",
       "    <tr>\n",
       "      <th>3</th>\n",
       "      <td>audi</td>\n",
       "      <td>15250.0</td>\n",
       "      <td>NaN</td>\n",
       "      <td>length</td>\n",
       "      <td>177.3</td>\n",
       "    </tr>\n",
       "    <tr>\n",
       "      <th>4</th>\n",
       "      <td>audi</td>\n",
       "      <td>18920.0</td>\n",
       "      <td>NaN</td>\n",
       "      <td>length</td>\n",
       "      <td>192.7</td>\n",
       "    </tr>\n",
       "  </tbody>\n",
       "</table>\n",
       "</div>"
      ],
      "text/plain": [
       "          make    price  normalized_losses variable  value\n",
       "0  alfa-romero  13495.0                NaN   length  168.8\n",
       "1  alfa-romero  16500.0                NaN   length  168.8\n",
       "2  alfa-romero  16500.0                NaN   length  171.2\n",
       "3         audi  15250.0                NaN   length  177.3\n",
       "4         audi  18920.0                NaN   length  192.7"
      ]
     },
     "execution_count": 105,
     "metadata": {},
     "output_type": "execute_result"
    }
   ],
   "source": [
    "norm_loss_df = norm_loss_df.melt(id_vars = ['make','price','normalized_losses'])\n",
    "norm_loss_df.head()"
   ]
  },
  {
   "cell_type": "code",
   "execution_count": 113,
   "metadata": {},
   "outputs": [
    {
     "data": {
      "text/plain": [
       "<AxesSubplot:xlabel='variable', ylabel='value'>"
      ]
     },
     "execution_count": 113,
     "metadata": {},
     "output_type": "execute_result"
    },
    {
     "data": {
      "image/png": "[encoded data removed]",
      "text/plain": [
       "<Figure size 432x288 with 1 Axes>"
      ]
     },
     "metadata": {
      "needs_background": "light"
     },
     "output_type": "display_data"
    }
   ],
   "source": [
    "sns.boxplot(x='variable',y = 'value', data= norm_loss_df[norm_loss_df['variable'] != 'curb_weight'])"
   ]
  },
  {
   "cell_type": "markdown",
   "metadata": {},
   "source": [
    "There are not too many outliers in these variables, so we will take the mean to fill the `nan`."
   ]
  },
  {
   "cell_type": "code",
   "execution_count": 120,
   "metadata": {},
   "outputs": [
    {
     "data": {
      "text/html": [
       "<div>\n",
       "<style scoped>\n",
       "    .dataframe tbody tr th:only-of-type {\n",
       "        vertical-align: middle;\n",
       "    }\n",
       "\n",
       "    .dataframe tbody tr th {\n",
       "        vertical-align: top;\n",
       "    }\n",
       "\n",
       "    .dataframe thead th {\n",
       "        text-align: right;\n",
       "    }\n",
       "</style>\n",
       "<table border=\"1\" class=\"dataframe\">\n",
       "  <thead>\n",
       "    <tr style=\"text-align: right;\">\n",
       "      <th></th>\n",
       "      <th>make</th>\n",
       "      <th>normalized_losses</th>\n",
       "    </tr>\n",
       "  </thead>\n",
       "  <tbody>\n",
       "    <tr>\n",
       "      <th>0</th>\n",
       "      <td>alfa-romero</td>\n",
       "      <td>121.580247</td>\n",
       "    </tr>\n",
       "    <tr>\n",
       "      <th>1</th>\n",
       "      <td>audi</td>\n",
       "      <td>145.832099</td>\n",
       "    </tr>\n",
       "    <tr>\n",
       "      <th>2</th>\n",
       "      <td>bmw</td>\n",
       "      <td>155.790123</td>\n",
       "    </tr>\n",
       "    <tr>\n",
       "      <th>3</th>\n",
       "      <td>chevrolet</td>\n",
       "      <td>100.000000</td>\n",
       "    </tr>\n",
       "    <tr>\n",
       "      <th>4</th>\n",
       "      <td>dodge</td>\n",
       "      <td>133.444444</td>\n",
       "    </tr>\n",
       "  </tbody>\n",
       "</table>\n",
       "</div>"
      ],
      "text/plain": [
       "          make  normalized_losses\n",
       "0  alfa-romero         121.580247\n",
       "1         audi         145.832099\n",
       "2          bmw         155.790123\n",
       "3    chevrolet         100.000000\n",
       "4        dodge         133.444444"
      ]
     },
     "execution_count": 120,
     "metadata": {},
     "output_type": "execute_result"
    }
   ],
   "source": [
    "# figure out the mean of each make's normalized_losses\n",
    "norm_loss_means = num_cars.groupby('make').mean()['normalized_losses'].reset_index()\n",
    "norm_loss_means.head()"
   ]
  },
  {
   "cell_type": "code",
   "execution_count": 121,
   "metadata": {
    "collapsed": false,
    "jupyter": {
     "outputs_hidden": false
    }
   },
   "outputs": [],
   "source": [
    "# identify each nan, replace it with the mean of that maker's normalized_losses\n",
    "for i, row in num_cars.iterrows():\n",
    "    if np.isnan(row['normalized_losses']):\n",
    "        make_mean = norm_loss_means.loc[row['make']][0]\n",
    "        num_cars.loc[i,'normalized_losses'] = make_mean"
   ]
  },
  {
   "cell_type": "markdown",
   "metadata": {},
   "source": [
    "### bore and stroke"
   ]
  },
  {
   "cell_type": "code",
   "execution_count": 124,
   "metadata": {
    "collapsed": false,
    "jupyter": {
     "outputs_hidden": false
    }
   },
   "outputs": [
    {
     "data": {
      "text/html": [
       "<div>\n",
       "<style scoped>\n",
       "    .dataframe tbody tr th:only-of-type {\n",
       "        vertical-align: middle;\n",
       "    }\n",
       "\n",
       "    .dataframe tbody tr th {\n",
       "        vertical-align: top;\n",
       "    }\n",
       "\n",
       "    .dataframe thead th {\n",
       "        text-align: right;\n",
       "    }\n",
       "</style>\n",
       "<table border=\"1\" class=\"dataframe\">\n",
       "  <thead>\n",
       "    <tr style=\"text-align: right;\">\n",
       "      <th></th>\n",
       "      <th>make</th>\n",
       "      <th>normalized_losses</th>\n",
       "      <th>wheel_base</th>\n",
       "      <th>length</th>\n",
       "      <th>width</th>\n",
       "      <th>height</th>\n",
       "      <th>curb_weight</th>\n",
       "      <th>engine_size</th>\n",
       "      <th>bore</th>\n",
       "      <th>stroke</th>\n",
       "      <th>compression_ratio</th>\n",
       "      <th>horsepower</th>\n",
       "      <th>peak_rpm</th>\n",
       "      <th>city_mpg</th>\n",
       "      <th>highway_mpg</th>\n",
       "      <th>price</th>\n",
       "    </tr>\n",
       "  </thead>\n",
       "  <tbody>\n",
       "    <tr>\n",
       "      <th>51</th>\n",
       "      <td>mazda</td>\n",
       "      <td>150.0</td>\n",
       "      <td>95.3</td>\n",
       "      <td>169.0</td>\n",
       "      <td>65.7</td>\n",
       "      <td>49.6</td>\n",
       "      <td>2380</td>\n",
       "      <td>70</td>\n",
       "      <td>NaN</td>\n",
       "      <td>NaN</td>\n",
       "      <td>9.4</td>\n",
       "      <td>101.0</td>\n",
       "      <td>6000.0</td>\n",
       "      <td>17</td>\n",
       "      <td>23</td>\n",
       "      <td>10945.0</td>\n",
       "    </tr>\n",
       "    <tr>\n",
       "      <th>52</th>\n",
       "      <td>mazda</td>\n",
       "      <td>150.0</td>\n",
       "      <td>95.3</td>\n",
       "      <td>169.0</td>\n",
       "      <td>65.7</td>\n",
       "      <td>49.6</td>\n",
       "      <td>2380</td>\n",
       "      <td>70</td>\n",
       "      <td>NaN</td>\n",
       "      <td>NaN</td>\n",
       "      <td>9.4</td>\n",
       "      <td>101.0</td>\n",
       "      <td>6000.0</td>\n",
       "      <td>17</td>\n",
       "      <td>23</td>\n",
       "      <td>11845.0</td>\n",
       "    </tr>\n",
       "    <tr>\n",
       "      <th>53</th>\n",
       "      <td>mazda</td>\n",
       "      <td>150.0</td>\n",
       "      <td>95.3</td>\n",
       "      <td>169.0</td>\n",
       "      <td>65.7</td>\n",
       "      <td>49.6</td>\n",
       "      <td>2385</td>\n",
       "      <td>70</td>\n",
       "      <td>NaN</td>\n",
       "      <td>NaN</td>\n",
       "      <td>9.4</td>\n",
       "      <td>101.0</td>\n",
       "      <td>6000.0</td>\n",
       "      <td>17</td>\n",
       "      <td>23</td>\n",
       "      <td>13645.0</td>\n",
       "    </tr>\n",
       "    <tr>\n",
       "      <th>54</th>\n",
       "      <td>mazda</td>\n",
       "      <td>150.0</td>\n",
       "      <td>95.3</td>\n",
       "      <td>169.0</td>\n",
       "      <td>65.7</td>\n",
       "      <td>49.6</td>\n",
       "      <td>2500</td>\n",
       "      <td>80</td>\n",
       "      <td>NaN</td>\n",
       "      <td>NaN</td>\n",
       "      <td>9.4</td>\n",
       "      <td>135.0</td>\n",
       "      <td>6000.0</td>\n",
       "      <td>16</td>\n",
       "      <td>23</td>\n",
       "      <td>15645.0</td>\n",
       "    </tr>\n",
       "  </tbody>\n",
       "</table>\n",
       "</div>"
      ],
      "text/plain": [
       "     make  normalized_losses  wheel_base  length  width  height  curb_weight  \\\n",
       "51  mazda              150.0        95.3   169.0   65.7    49.6         2380   \n",
       "52  mazda              150.0        95.3   169.0   65.7    49.6         2380   \n",
       "53  mazda              150.0        95.3   169.0   65.7    49.6         2385   \n",
       "54  mazda              150.0        95.3   169.0   65.7    49.6         2500   \n",
       "\n",
       "    engine_size  bore  stroke  compression_ratio  horsepower  peak_rpm  \\\n",
       "51           70   NaN     NaN                9.4       101.0    6000.0   \n",
       "52           70   NaN     NaN                9.4       101.0    6000.0   \n",
       "53           70   NaN     NaN                9.4       101.0    6000.0   \n",
       "54           80   NaN     NaN                9.4       135.0    6000.0   \n",
       "\n",
       "    city_mpg  highway_mpg    price  \n",
       "51        17           23  10945.0  \n",
       "52        17           23  11845.0  \n",
       "53        17           23  13645.0  \n",
       "54        16           23  15645.0  "
      ]
     },
     "execution_count": 124,
     "metadata": {},
     "output_type": "execute_result"
    }
   ],
   "source": [
    "num_cars[num_cars['bore'].isna()]"
   ]
  },
  {
   "cell_type": "markdown",
   "metadata": {},
   "source": [
    "All the `nan` values for `bore` and `stroke` are under the `mazda` make, with a `hatchback` body style. \n",
    "\n",
    "We should avoid removing any more observations as the dataset is limited. We can note that `bore` and `stroke` are based on the type of the engine, and categorize the power it can make. As we have other variables to describe the engine (`engine_type`, `engine_size`) and the bore/stroke descriptions are summarized by the `compression_ratio`, we will remove these features."
   ]
  },
  {
   "cell_type": "code",
   "execution_count": 126,
   "metadata": {
    "collapsed": false,
    "jupyter": {
     "outputs_hidden": false
    }
   },
   "outputs": [],
   "source": [
    "num_cars = num_cars.drop(['bore','stroke'],axis=1)"
   ]
  },
  {
   "cell_type": "code",
   "execution_count": 127,
   "metadata": {},
   "outputs": [
    {
     "name": "stdout",
     "output_type": "stream",
     "text": [
      "<class 'pandas.core.frame.DataFrame'>\n",
      "RangeIndex: 199 entries, 0 to 198\n",
      "Data columns (total 14 columns):\n",
      " #   Column             Non-Null Count  Dtype  \n",
      "---  ------             --------------  -----  \n",
      " 0   make               199 non-null    object \n",
      " 1   normalized_losses  199 non-null    float64\n",
      " 2   wheel_base         199 non-null    float64\n",
      " 3   length             199 non-null    float64\n",
      " 4   width              199 non-null    float64\n",
      " 5   height             199 non-null    float64\n",
      " 6   curb_weight        199 non-null    int64  \n",
      " 7   engine_size        199 non-null    int64  \n",
      " 8   compression_ratio  199 non-null    float64\n",
      " 9   horsepower         197 non-null    float64\n",
      " 10  peak_rpm           197 non-null    float64\n",
      " 11  city_mpg           199 non-null    int64  \n",
      " 12  highway_mpg        199 non-null    int64  \n",
      " 13  price              199 non-null    float64\n",
      "dtypes: float64(9), int64(4), object(1)\n",
      "memory usage: 21.9+ KB\n"
     ]
    }
   ],
   "source": [
    "num_cars.info()"
   ]
  },
  {
   "cell_type": "markdown",
   "metadata": {},
   "source": [
    "### horsepower and peak_rpm"
   ]
  },
  {
   "cell_type": "code",
   "execution_count": 128,
   "metadata": {},
   "outputs": [
    {
     "data": {
      "text/html": [
       "<div>\n",
       "<style scoped>\n",
       "    .dataframe tbody tr th:only-of-type {\n",
       "        vertical-align: middle;\n",
       "    }\n",
       "\n",
       "    .dataframe tbody tr th {\n",
       "        vertical-align: top;\n",
       "    }\n",
       "\n",
       "    .dataframe thead th {\n",
       "        text-align: right;\n",
       "    }\n",
       "</style>\n",
       "<table border=\"1\" class=\"dataframe\">\n",
       "  <thead>\n",
       "    <tr style=\"text-align: right;\">\n",
       "      <th></th>\n",
       "      <th>make</th>\n",
       "      <th>normalized_losses</th>\n",
       "      <th>wheel_base</th>\n",
       "      <th>length</th>\n",
       "      <th>width</th>\n",
       "      <th>height</th>\n",
       "      <th>curb_weight</th>\n",
       "      <th>engine_size</th>\n",
       "      <th>compression_ratio</th>\n",
       "      <th>horsepower</th>\n",
       "      <th>peak_rpm</th>\n",
       "      <th>city_mpg</th>\n",
       "      <th>highway_mpg</th>\n",
       "      <th>price</th>\n",
       "    </tr>\n",
       "  </thead>\n",
       "  <tbody>\n",
       "    <tr>\n",
       "      <th>124</th>\n",
       "      <td>renault</td>\n",
       "      <td>121.580247</td>\n",
       "      <td>96.1</td>\n",
       "      <td>181.5</td>\n",
       "      <td>66.5</td>\n",
       "      <td>55.2</td>\n",
       "      <td>2579</td>\n",
       "      <td>132</td>\n",
       "      <td>8.7</td>\n",
       "      <td>NaN</td>\n",
       "      <td>NaN</td>\n",
       "      <td>23</td>\n",
       "      <td>31</td>\n",
       "      <td>9295.0</td>\n",
       "    </tr>\n",
       "    <tr>\n",
       "      <th>125</th>\n",
       "      <td>renault</td>\n",
       "      <td>121.580247</td>\n",
       "      <td>96.1</td>\n",
       "      <td>176.8</td>\n",
       "      <td>66.6</td>\n",
       "      <td>50.5</td>\n",
       "      <td>2460</td>\n",
       "      <td>132</td>\n",
       "      <td>8.7</td>\n",
       "      <td>NaN</td>\n",
       "      <td>NaN</td>\n",
       "      <td>23</td>\n",
       "      <td>31</td>\n",
       "      <td>9895.0</td>\n",
       "    </tr>\n",
       "  </tbody>\n",
       "</table>\n",
       "</div>"
      ],
      "text/plain": [
       "        make  normalized_losses  wheel_base  length  width  height  \\\n",
       "124  renault         121.580247        96.1   181.5   66.5    55.2   \n",
       "125  renault         121.580247        96.1   176.8   66.6    50.5   \n",
       "\n",
       "     curb_weight  engine_size  compression_ratio  horsepower  peak_rpm  \\\n",
       "124         2579          132                8.7         NaN       NaN   \n",
       "125         2460          132                8.7         NaN       NaN   \n",
       "\n",
       "     city_mpg  highway_mpg   price  \n",
       "124        23           31  9295.0  \n",
       "125        23           31  9895.0  "
      ]
     },
     "execution_count": 128,
     "metadata": {},
     "output_type": "execute_result"
    }
   ],
   "source": [
    "num_cars[num_cars['horsepower'].isna()]"
   ]
  },
  {
   "cell_type": "markdown",
   "metadata": {},
   "source": [
    "The two `nan` in these variables belong to the same make, and to observations with very similar characteristics"
   ]
  },
  {
   "cell_type": "code",
   "execution_count": 129,
   "metadata": {},
   "outputs": [
    {
     "data": {
      "text/html": [
       "<div>\n",
       "<style scoped>\n",
       "    .dataframe tbody tr th:only-of-type {\n",
       "        vertical-align: middle;\n",
       "    }\n",
       "\n",
       "    .dataframe tbody tr th {\n",
       "        vertical-align: top;\n",
       "    }\n",
       "\n",
       "    .dataframe thead th {\n",
       "        text-align: right;\n",
       "    }\n",
       "</style>\n",
       "<table border=\"1\" class=\"dataframe\">\n",
       "  <thead>\n",
       "    <tr style=\"text-align: right;\">\n",
       "      <th></th>\n",
       "      <th>make</th>\n",
       "      <th>normalized_losses</th>\n",
       "      <th>wheel_base</th>\n",
       "      <th>length</th>\n",
       "      <th>width</th>\n",
       "      <th>height</th>\n",
       "      <th>curb_weight</th>\n",
       "      <th>engine_size</th>\n",
       "      <th>compression_ratio</th>\n",
       "      <th>horsepower</th>\n",
       "      <th>peak_rpm</th>\n",
       "      <th>city_mpg</th>\n",
       "      <th>highway_mpg</th>\n",
       "      <th>price</th>\n",
       "    </tr>\n",
       "  </thead>\n",
       "  <tbody>\n",
       "    <tr>\n",
       "      <th>124</th>\n",
       "      <td>renault</td>\n",
       "      <td>121.580247</td>\n",
       "      <td>96.1</td>\n",
       "      <td>181.5</td>\n",
       "      <td>66.5</td>\n",
       "      <td>55.2</td>\n",
       "      <td>2579</td>\n",
       "      <td>132</td>\n",
       "      <td>8.7</td>\n",
       "      <td>NaN</td>\n",
       "      <td>NaN</td>\n",
       "      <td>23</td>\n",
       "      <td>31</td>\n",
       "      <td>9295.0</td>\n",
       "    </tr>\n",
       "    <tr>\n",
       "      <th>125</th>\n",
       "      <td>renault</td>\n",
       "      <td>121.580247</td>\n",
       "      <td>96.1</td>\n",
       "      <td>176.8</td>\n",
       "      <td>66.6</td>\n",
       "      <td>50.5</td>\n",
       "      <td>2460</td>\n",
       "      <td>132</td>\n",
       "      <td>8.7</td>\n",
       "      <td>NaN</td>\n",
       "      <td>NaN</td>\n",
       "      <td>23</td>\n",
       "      <td>31</td>\n",
       "      <td>9895.0</td>\n",
       "    </tr>\n",
       "  </tbody>\n",
       "</table>\n",
       "</div>"
      ],
      "text/plain": [
       "        make  normalized_losses  wheel_base  length  width  height  \\\n",
       "124  renault         121.580247        96.1   181.5   66.5    55.2   \n",
       "125  renault         121.580247        96.1   176.8   66.6    50.5   \n",
       "\n",
       "     curb_weight  engine_size  compression_ratio  horsepower  peak_rpm  \\\n",
       "124         2579          132                8.7         NaN       NaN   \n",
       "125         2460          132                8.7         NaN       NaN   \n",
       "\n",
       "     city_mpg  highway_mpg   price  \n",
       "124        23           31  9295.0  \n",
       "125        23           31  9895.0  "
      ]
     },
     "execution_count": 129,
     "metadata": {},
     "output_type": "execute_result"
    }
   ],
   "source": [
    "num_cars[num_cars['make']=='renault']"
   ]
  },
  {
   "cell_type": "markdown",
   "metadata": {},
   "source": [
    "These two cars also happen to be the only `renault` observations, and the `normalized_losses` was estimated. "
   ]
  },
  {
   "cell_type": "code",
   "execution_count": 133,
   "metadata": {},
   "outputs": [
    {
     "data": {
      "text/html": [
       "<div>\n",
       "<style scoped>\n",
       "    .dataframe tbody tr th:only-of-type {\n",
       "        vertical-align: middle;\n",
       "    }\n",
       "\n",
       "    .dataframe tbody tr th {\n",
       "        vertical-align: top;\n",
       "    }\n",
       "\n",
       "    .dataframe thead th {\n",
       "        text-align: right;\n",
       "    }\n",
       "</style>\n",
       "<table border=\"1\" class=\"dataframe\">\n",
       "  <thead>\n",
       "    <tr style=\"text-align: right;\">\n",
       "      <th></th>\n",
       "      <th>make</th>\n",
       "      <th>normalized_losses</th>\n",
       "      <th>wheel_base</th>\n",
       "      <th>length</th>\n",
       "      <th>width</th>\n",
       "      <th>height</th>\n",
       "      <th>curb_weight</th>\n",
       "      <th>engine_size</th>\n",
       "      <th>compression_ratio</th>\n",
       "      <th>horsepower</th>\n",
       "      <th>peak_rpm</th>\n",
       "      <th>city_mpg</th>\n",
       "      <th>highway_mpg</th>\n",
       "      <th>price</th>\n",
       "    </tr>\n",
       "  </thead>\n",
       "  <tbody>\n",
       "    <tr>\n",
       "      <th>96</th>\n",
       "      <td>nissan</td>\n",
       "      <td>106.000000</td>\n",
       "      <td>97.2</td>\n",
       "      <td>173.4</td>\n",
       "      <td>65.2</td>\n",
       "      <td>54.7</td>\n",
       "      <td>2302</td>\n",
       "      <td>120</td>\n",
       "      <td>8.5</td>\n",
       "      <td>97.0</td>\n",
       "      <td>5200.0</td>\n",
       "      <td>27</td>\n",
       "      <td>34</td>\n",
       "      <td>9549.0</td>\n",
       "    </tr>\n",
       "    <tr>\n",
       "      <th>124</th>\n",
       "      <td>renault</td>\n",
       "      <td>121.580247</td>\n",
       "      <td>96.1</td>\n",
       "      <td>181.5</td>\n",
       "      <td>66.5</td>\n",
       "      <td>55.2</td>\n",
       "      <td>2579</td>\n",
       "      <td>132</td>\n",
       "      <td>8.7</td>\n",
       "      <td>NaN</td>\n",
       "      <td>NaN</td>\n",
       "      <td>23</td>\n",
       "      <td>31</td>\n",
       "      <td>9295.0</td>\n",
       "    </tr>\n",
       "    <tr>\n",
       "      <th>125</th>\n",
       "      <td>renault</td>\n",
       "      <td>121.580247</td>\n",
       "      <td>96.1</td>\n",
       "      <td>176.8</td>\n",
       "      <td>66.6</td>\n",
       "      <td>50.5</td>\n",
       "      <td>2460</td>\n",
       "      <td>132</td>\n",
       "      <td>8.7</td>\n",
       "      <td>NaN</td>\n",
       "      <td>NaN</td>\n",
       "      <td>23</td>\n",
       "      <td>31</td>\n",
       "      <td>9895.0</td>\n",
       "    </tr>\n",
       "    <tr>\n",
       "      <th>169</th>\n",
       "      <td>toyota</td>\n",
       "      <td>65.000000</td>\n",
       "      <td>102.4</td>\n",
       "      <td>175.6</td>\n",
       "      <td>66.5</td>\n",
       "      <td>53.9</td>\n",
       "      <td>2414</td>\n",
       "      <td>122</td>\n",
       "      <td>8.7</td>\n",
       "      <td>92.0</td>\n",
       "      <td>4200.0</td>\n",
       "      <td>27</td>\n",
       "      <td>32</td>\n",
       "      <td>9988.0</td>\n",
       "    </tr>\n",
       "    <tr>\n",
       "      <th>184</th>\n",
       "      <td>volkswagen</td>\n",
       "      <td>256.000000</td>\n",
       "      <td>94.5</td>\n",
       "      <td>165.7</td>\n",
       "      <td>64.0</td>\n",
       "      <td>51.4</td>\n",
       "      <td>2221</td>\n",
       "      <td>109</td>\n",
       "      <td>8.5</td>\n",
       "      <td>90.0</td>\n",
       "      <td>5500.0</td>\n",
       "      <td>24</td>\n",
       "      <td>29</td>\n",
       "      <td>9980.0</td>\n",
       "    </tr>\n",
       "  </tbody>\n",
       "</table>\n",
       "</div>"
      ],
      "text/plain": [
       "           make  normalized_losses  wheel_base  length  width  height  \\\n",
       "96       nissan         106.000000        97.2   173.4   65.2    54.7   \n",
       "124     renault         121.580247        96.1   181.5   66.5    55.2   \n",
       "125     renault         121.580247        96.1   176.8   66.6    50.5   \n",
       "169      toyota          65.000000       102.4   175.6   66.5    53.9   \n",
       "184  volkswagen         256.000000        94.5   165.7   64.0    51.4   \n",
       "\n",
       "     curb_weight  engine_size  compression_ratio  horsepower  peak_rpm  \\\n",
       "96          2302          120                8.5        97.0    5200.0   \n",
       "124         2579          132                8.7         NaN       NaN   \n",
       "125         2460          132                8.7         NaN       NaN   \n",
       "169         2414          122                8.7        92.0    4200.0   \n",
       "184         2221          109                8.5        90.0    5500.0   \n",
       "\n",
       "     city_mpg  highway_mpg   price  \n",
       "96         27           34  9549.0  \n",
       "124        23           31  9295.0  \n",
       "125        23           31  9895.0  \n",
       "169        27           32  9988.0  \n",
       "184        24           29  9980.0  "
      ]
     },
     "execution_count": 133,
     "metadata": {},
     "output_type": "execute_result"
    }
   ],
   "source": [
    "renault_similars = num_cars[(num_cars['price']<10000) & (num_cars['price'] > 9000) & \n",
    "                            (num_cars['compression_ratio'] > 8) & (num_cars['compression_ratio'] < 9)]\n",
    "renault_similars"
   ]
  },
  {
   "cell_type": "markdown",
   "metadata": {},
   "source": [
    "The two renaults have very similar characteristics (of continuous variables at least) to 3 other cars. We will take the mean `horsepower` and `peak_rpm` of these 3 cars and use it for the renault."
   ]
  },
  {
   "cell_type": "code",
   "execution_count": 138,
   "metadata": {},
   "outputs": [],
   "source": [
    "mean_horse = renault_similars[['horsepower','peak_rpm']].mean()[0]\n",
    "mean_rpm = renault_similars[['horsepower','peak_rpm']].mean()[1]"
   ]
  },
  {
   "cell_type": "code",
   "execution_count": 139,
   "metadata": {},
   "outputs": [],
   "source": [
    "for i in [124,125]:\n",
    "    num_cars.loc[i,'horsepower'] = mean_horse\n",
    "    num_cars.loc[i,'peak_rpm'] = mean_rpm"
   ]
  },
  {
   "cell_type": "code",
   "execution_count": 141,
   "metadata": {},
   "outputs": [
    {
     "data": {
      "text/plain": [
       "make                 0\n",
       "normalized_losses    0\n",
       "wheel_base           0\n",
       "length               0\n",
       "width                0\n",
       "height               0\n",
       "curb_weight          0\n",
       "engine_size          0\n",
       "compression_ratio    0\n",
       "horsepower           0\n",
       "peak_rpm             0\n",
       "city_mpg             0\n",
       "highway_mpg          0\n",
       "price                0\n",
       "dtype: int64"
      ]
     },
     "execution_count": 141,
     "metadata": {},
     "output_type": "execute_result"
    }
   ],
   "source": [
    "num_cars.isna().sum()"
   ]
  },
  {
   "cell_type": "markdown",
   "metadata": {},
   "source": [
    "We have no more `nan` to take care of!"
   ]
  },
  {
   "cell_type": "markdown",
   "metadata": {},
   "source": [
    "## Normalization"
   ]
  },
  {
   "cell_type": "markdown",
   "metadata": {},
   "source": [
    "In order to properly compare across numeric features, we will normalize the values using min-max normalization:\n",
    "\n",
    "`(x - min(x))/(max(x) - min(x))`"
   ]
  },
  {
   "cell_type": "code",
   "execution_count": 142,
   "metadata": {},
   "outputs": [],
   "source": [
    "norm_cars = num_cars.copy()"
   ]
  },
  {
   "cell_type": "code",
   "execution_count": 145,
   "metadata": {},
   "outputs": [],
   "source": [
    "norm_cols = list(norm_cars.columns)\n",
    "norm_cols.remove('price')\n",
    "norm_cols.remove('make')"
   ]
  },
  {
   "cell_type": "code",
   "execution_count": 146,
   "metadata": {},
   "outputs": [],
   "source": [
    "# normalize everything except the price (and the make)\n",
    "for col in norm_cols:\n",
    "    norm_cars[col] = (norm_cars[col]-norm_cars[col].min())/(norm_cars[col].max()-norm_cars[col].min())"
   ]
  },
  {
   "cell_type": "code",
   "execution_count": 149,
   "metadata": {
    "collapsed": false,
    "jupyter": {
     "outputs_hidden": false
    }
   },
   "outputs": [
    {
     "data": {
      "text/html": [
       "<div>\n",
       "<style scoped>\n",
       "    .dataframe tbody tr th:only-of-type {\n",
       "        vertical-align: middle;\n",
       "    }\n",
       "\n",
       "    .dataframe tbody tr th {\n",
       "        vertical-align: top;\n",
       "    }\n",
       "\n",
       "    .dataframe thead th {\n",
       "        text-align: right;\n",
       "    }\n",
       "</style>\n",
       "<table border=\"1\" class=\"dataframe\">\n",
       "  <thead>\n",
       "    <tr style=\"text-align: right;\">\n",
       "      <th></th>\n",
       "      <th>make</th>\n",
       "      <th>normalized_losses</th>\n",
       "      <th>wheel_base</th>\n",
       "      <th>length</th>\n",
       "      <th>width</th>\n",
       "      <th>height</th>\n",
       "      <th>curb_weight</th>\n",
       "      <th>engine_size</th>\n",
       "      <th>compression_ratio</th>\n",
       "      <th>horsepower</th>\n",
       "      <th>peak_rpm</th>\n",
       "      <th>city_mpg</th>\n",
       "      <th>highway_mpg</th>\n",
       "      <th>price</th>\n",
       "    </tr>\n",
       "  </thead>\n",
       "  <tbody>\n",
       "    <tr>\n",
       "      <th>0</th>\n",
       "      <td>alfa-romero</td>\n",
       "      <td>0.296232</td>\n",
       "      <td>0.058309</td>\n",
       "      <td>0.413433</td>\n",
       "      <td>0.324786</td>\n",
       "      <td>0.083333</td>\n",
       "      <td>0.411171</td>\n",
       "      <td>0.260377</td>\n",
       "      <td>0.1250</td>\n",
       "      <td>0.294393</td>\n",
       "      <td>0.346939</td>\n",
       "      <td>0.222222</td>\n",
       "      <td>0.289474</td>\n",
       "      <td>13495.0</td>\n",
       "    </tr>\n",
       "    <tr>\n",
       "      <th>1</th>\n",
       "      <td>alfa-romero</td>\n",
       "      <td>0.296232</td>\n",
       "      <td>0.058309</td>\n",
       "      <td>0.413433</td>\n",
       "      <td>0.324786</td>\n",
       "      <td>0.083333</td>\n",
       "      <td>0.411171</td>\n",
       "      <td>0.260377</td>\n",
       "      <td>0.1250</td>\n",
       "      <td>0.294393</td>\n",
       "      <td>0.346939</td>\n",
       "      <td>0.222222</td>\n",
       "      <td>0.289474</td>\n",
       "      <td>16500.0</td>\n",
       "    </tr>\n",
       "    <tr>\n",
       "      <th>2</th>\n",
       "      <td>alfa-romero</td>\n",
       "      <td>0.296232</td>\n",
       "      <td>0.230321</td>\n",
       "      <td>0.449254</td>\n",
       "      <td>0.444444</td>\n",
       "      <td>0.383333</td>\n",
       "      <td>0.517843</td>\n",
       "      <td>0.343396</td>\n",
       "      <td>0.1250</td>\n",
       "      <td>0.495327</td>\n",
       "      <td>0.346939</td>\n",
       "      <td>0.166667</td>\n",
       "      <td>0.263158</td>\n",
       "      <td>16500.0</td>\n",
       "    </tr>\n",
       "    <tr>\n",
       "      <th>3</th>\n",
       "      <td>audi</td>\n",
       "      <td>0.518325</td>\n",
       "      <td>0.384840</td>\n",
       "      <td>0.529851</td>\n",
       "      <td>0.504274</td>\n",
       "      <td>0.541667</td>\n",
       "      <td>0.329325</td>\n",
       "      <td>0.181132</td>\n",
       "      <td>0.1875</td>\n",
       "      <td>0.252336</td>\n",
       "      <td>0.551020</td>\n",
       "      <td>0.305556</td>\n",
       "      <td>0.368421</td>\n",
       "      <td>13950.0</td>\n",
       "    </tr>\n",
       "    <tr>\n",
       "      <th>4</th>\n",
       "      <td>audi</td>\n",
       "      <td>0.518325</td>\n",
       "      <td>0.373178</td>\n",
       "      <td>0.529851</td>\n",
       "      <td>0.521368</td>\n",
       "      <td>0.541667</td>\n",
       "      <td>0.518231</td>\n",
       "      <td>0.283019</td>\n",
       "      <td>0.0625</td>\n",
       "      <td>0.313084</td>\n",
       "      <td>0.551020</td>\n",
       "      <td>0.138889</td>\n",
       "      <td>0.157895</td>\n",
       "      <td>17450.0</td>\n",
       "    </tr>\n",
       "  </tbody>\n",
       "</table>\n",
       "</div>"
      ],
      "text/plain": [
       "          make  normalized_losses  wheel_base    length     width    height  \\\n",
       "0  alfa-romero           0.296232    0.058309  0.413433  0.324786  0.083333   \n",
       "1  alfa-romero           0.296232    0.058309  0.413433  0.324786  0.083333   \n",
       "2  alfa-romero           0.296232    0.230321  0.449254  0.444444  0.383333   \n",
       "3         audi           0.518325    0.384840  0.529851  0.504274  0.541667   \n",
       "4         audi           0.518325    0.373178  0.529851  0.521368  0.541667   \n",
       "\n",
       "   curb_weight  engine_size  compression_ratio  horsepower  peak_rpm  \\\n",
       "0     0.411171     0.260377             0.1250    0.294393  0.346939   \n",
       "1     0.411171     0.260377             0.1250    0.294393  0.346939   \n",
       "2     0.517843     0.343396             0.1250    0.495327  0.346939   \n",
       "3     0.329325     0.181132             0.1875    0.252336  0.551020   \n",
       "4     0.518231     0.283019             0.0625    0.313084  0.551020   \n",
       "\n",
       "   city_mpg  highway_mpg    price  \n",
       "0  0.222222     0.289474  13495.0  \n",
       "1  0.222222     0.289474  16500.0  \n",
       "2  0.166667     0.263158  16500.0  \n",
       "3  0.305556     0.368421  13950.0  \n",
       "4  0.138889     0.157895  17450.0  "
      ]
     },
     "execution_count": 149,
     "metadata": {},
     "output_type": "execute_result"
    }
   ],
   "source": [
    "norm_cars.head()"
   ]
  },
  {
   "cell_type": "markdown",
   "metadata": {},
   "source": [
    "# Univariate Model Building"
   ]
  },
  {
   "cell_type": "markdown",
   "metadata": {},
   "source": [
    "In our first journey in machine learning, we will build several univariate KNN models to see which single feature best predicts the target (`price`)."
   ]
  },
  {
   "cell_type": "code",
   "execution_count": 152,
   "metadata": {},
   "outputs": [],
   "source": [
    "from sklearn.neighbors import KNeighborsRegressor\n",
    "from sklearn.metrics import mean_squared_error"
   ]
  },
  {
   "cell_type": "code",
   "execution_count": 154,
   "metadata": {},
   "outputs": [],
   "source": [
    "def uni_knn_train_test(train_col, targ_col, df, k = 5):\n",
    "    '''\n",
    "    Trains and validates using KNN to predict the targ_col\n",
    "    from the train_col.\n",
    "    \n",
    "    input\n",
    "    -----\n",
    "    train_col: str\n",
    "    targ_col: str\n",
    "    df: pd.DataFrame\n",
    "    k: int\n",
    "    '''\n",
    "    # define feature and target\n",
    "    np.random.seed(1)\n",
    "    feature = [train_col]\n",
    "    target = targ_col\n",
    "    \n",
    "    # shuffle the order of dataset\n",
    "    shuffled = df.loc[np.random.permutation(df.index)].copy()\n",
    "    shuffled = shuffled.reindex()\n",
    "    \n",
    "    # divide the dataset into train and test dataframes\n",
    "    eighty = round(len(shuffled) * 0.8)\n",
    "    train_df = shuffled.loc[:eighty,:]\n",
    "    test_df = shuffled.loc[eighty:,:]\n",
    "    \n",
    "    # initiate and fit our model to the dataset\n",
    "    knn = KNeighborsRegressor(n_neighbors = k, algorithm = 'brute')\n",
    "    knn.fit(train_df[feature],train_df[target])\n",
    "    \n",
    "    # predict using our KNN algorithm\n",
    "    prediction = knn.predict(test_df[feature])\n",
    "    \n",
    "    # calculate the evaluating statistic (root mean squared error)\n",
    "    mse = mean_squared_error(test_df[target],prediction)\n",
    "    rmse = np.sqrt(mse)\n",
    "    \n",
    "    return rmse"
   ]
  },
  {
   "cell_type": "code",
   "execution_count": 155,
   "metadata": {
    "collapsed": false,
    "jupyter": {
     "outputs_hidden": false
    }
   },
   "outputs": [],
   "source": [
    "# get the rmse for each feature\n",
    "rmse_dic = {}\n",
    "\n",
    "for col in norm_cols:\n",
    "    rmse_dic[col] = uni_knn_train_test(col,'price',norm_cars)"
   ]
  },
  {
   "cell_type": "code",
   "execution_count": 156,
   "metadata": {
    "collapsed": false,
    "jupyter": {
     "outputs_hidden": false
    }
   },
   "outputs": [
    {
     "data": {
      "text/plain": [
       "highway_mpg          3029.050652\n",
       "engine_size          3092.109408\n",
       "width                3348.918814\n",
       "city_mpg             3558.993038\n",
       "curb_weight          3802.916492\n",
       "length               4493.283985\n",
       "wheel_base           4685.907910\n",
       "horsepower           4784.772541\n",
       "compression_ratio    5853.012447\n",
       "peak_rpm             5923.633704\n",
       "height               6421.197869\n",
       "normalized_losses    6911.006492\n",
       "dtype: float64"
      ]
     },
     "execution_count": 156,
     "metadata": {},
     "output_type": "execute_result"
    }
   ],
   "source": [
    "k_5_uni_knn = pd.Series(rmse_dic).sort_values()\n",
    "k_5_uni_knn"
   ]
  },
  {
   "cell_type": "markdown",
   "metadata": {},
   "source": [
    "Based on our simple univariate KNN model (using k=5) so far, `highway_mpg` and `engine_size` were best able to predict the `price` of a car.\n",
    "\n",
    "We will next figure out whether the hyperparameter can be tweeked for more accurate results."
   ]
  },
  {
   "cell_type": "code",
   "execution_count": 158,
   "metadata": {
    "collapsed": false,
    "jupyter": {
     "outputs_hidden": false
    }
   },
   "outputs": [],
   "source": [
    "rmse_dic_multi = {}"
   ]
  },
  {
   "cell_type": "code",
   "execution_count": 159,
   "metadata": {
    "collapsed": false,
    "jupyter": {
     "outputs_hidden": false
    }
   },
   "outputs": [],
   "source": [
    "# get the rmse for each column, at different k neighbor values\n",
    "for col in norm_cols:\n",
    "    col_k = {}\n",
    "    for k in [1,3,5,7,9]:\n",
    "        rmse = uni_knn_train_test(col,'price',norm_cars,k=k)\n",
    "        col_k[k] = rmse\n",
    "    rmse_dic_multi[col] = col_k"
   ]
  },
  {
   "cell_type": "code",
   "execution_count": 167,
   "metadata": {},
   "outputs": [
    {
     "data": {
      "text/html": [
       "<div>\n",
       "<style scoped>\n",
       "    .dataframe tbody tr th:only-of-type {\n",
       "        vertical-align: middle;\n",
       "    }\n",
       "\n",
       "    .dataframe tbody tr th {\n",
       "        vertical-align: top;\n",
       "    }\n",
       "\n",
       "    .dataframe thead th {\n",
       "        text-align: right;\n",
       "    }\n",
       "</style>\n",
       "<table border=\"1\" class=\"dataframe\">\n",
       "  <thead>\n",
       "    <tr style=\"text-align: right;\">\n",
       "      <th></th>\n",
       "      <th>k_value</th>\n",
       "      <th>normalized_losses</th>\n",
       "      <th>wheel_base</th>\n",
       "      <th>length</th>\n",
       "      <th>width</th>\n",
       "      <th>height</th>\n",
       "      <th>curb_weight</th>\n",
       "      <th>engine_size</th>\n",
       "      <th>compression_ratio</th>\n",
       "      <th>horsepower</th>\n",
       "      <th>peak_rpm</th>\n",
       "      <th>city_mpg</th>\n",
       "      <th>highway_mpg</th>\n",
       "    </tr>\n",
       "  </thead>\n",
       "  <tbody>\n",
       "    <tr>\n",
       "      <th>0</th>\n",
       "      <td>1</td>\n",
       "      <td>6243.864985</td>\n",
       "      <td>4334.276978</td>\n",
       "      <td>5238.062660</td>\n",
       "      <td>5332.354040</td>\n",
       "      <td>9018.092629</td>\n",
       "      <td>4196.685175</td>\n",
       "      <td>3924.052442</td>\n",
       "      <td>6239.163744</td>\n",
       "      <td>4470.663889</td>\n",
       "      <td>5898.349741</td>\n",
       "      <td>3966.486178</td>\n",
       "      <td>4286.561838</td>\n",
       "    </tr>\n",
       "    <tr>\n",
       "      <th>1</th>\n",
       "      <td>3</td>\n",
       "      <td>6240.006828</td>\n",
       "      <td>4830.422815</td>\n",
       "      <td>4899.639573</td>\n",
       "      <td>3373.204697</td>\n",
       "      <td>6324.625123</td>\n",
       "      <td>3960.088412</td>\n",
       "      <td>2939.118540</td>\n",
       "      <td>5453.220645</td>\n",
       "      <td>4250.887712</td>\n",
       "      <td>5733.261644</td>\n",
       "      <td>3302.613487</td>\n",
       "      <td>3116.866472</td>\n",
       "    </tr>\n",
       "    <tr>\n",
       "      <th>2</th>\n",
       "      <td>5</td>\n",
       "      <td>6911.006492</td>\n",
       "      <td>4685.907910</td>\n",
       "      <td>4493.283985</td>\n",
       "      <td>3348.918814</td>\n",
       "      <td>6421.197869</td>\n",
       "      <td>3802.916492</td>\n",
       "      <td>3092.109408</td>\n",
       "      <td>5853.012447</td>\n",
       "      <td>4784.772541</td>\n",
       "      <td>5923.633704</td>\n",
       "      <td>3558.993038</td>\n",
       "      <td>3029.050652</td>\n",
       "    </tr>\n",
       "    <tr>\n",
       "      <th>3</th>\n",
       "      <td>7</td>\n",
       "      <td>7085.640198</td>\n",
       "      <td>5252.867311</td>\n",
       "      <td>4907.508224</td>\n",
       "      <td>3167.417387</td>\n",
       "      <td>6548.817859</td>\n",
       "      <td>3242.371768</td>\n",
       "      <td>3255.035412</td>\n",
       "      <td>5912.638224</td>\n",
       "      <td>4375.232735</td>\n",
       "      <td>5962.288809</td>\n",
       "      <td>3564.828721</td>\n",
       "      <td>3035.409607</td>\n",
       "    </tr>\n",
       "    <tr>\n",
       "      <th>4</th>\n",
       "      <td>9</td>\n",
       "      <td>6797.648428</td>\n",
       "      <td>5371.908643</td>\n",
       "      <td>4991.625750</td>\n",
       "      <td>3299.468896</td>\n",
       "      <td>6765.064646</td>\n",
       "      <td>3191.138605</td>\n",
       "      <td>3224.079703</td>\n",
       "      <td>6470.839073</td>\n",
       "      <td>4190.211331</td>\n",
       "      <td>6437.544777</td>\n",
       "      <td>3690.596702</td>\n",
       "      <td>3346.980264</td>\n",
       "    </tr>\n",
       "  </tbody>\n",
       "</table>\n",
       "</div>"
      ],
      "text/plain": [
       "   k_value  normalized_losses   wheel_base       length        width  \\\n",
       "0        1        6243.864985  4334.276978  5238.062660  5332.354040   \n",
       "1        3        6240.006828  4830.422815  4899.639573  3373.204697   \n",
       "2        5        6911.006492  4685.907910  4493.283985  3348.918814   \n",
       "3        7        7085.640198  5252.867311  4907.508224  3167.417387   \n",
       "4        9        6797.648428  5371.908643  4991.625750  3299.468896   \n",
       "\n",
       "        height  curb_weight  engine_size  compression_ratio   horsepower  \\\n",
       "0  9018.092629  4196.685175  3924.052442        6239.163744  4470.663889   \n",
       "1  6324.625123  3960.088412  2939.118540        5453.220645  4250.887712   \n",
       "2  6421.197869  3802.916492  3092.109408        5853.012447  4784.772541   \n",
       "3  6548.817859  3242.371768  3255.035412        5912.638224  4375.232735   \n",
       "4  6765.064646  3191.138605  3224.079703        6470.839073  4190.211331   \n",
       "\n",
       "      peak_rpm     city_mpg  highway_mpg  \n",
       "0  5898.349741  3966.486178  4286.561838  \n",
       "1  5733.261644  3302.613487  3116.866472  \n",
       "2  5923.633704  3558.993038  3029.050652  \n",
       "3  5962.288809  3564.828721  3035.409607  \n",
       "4  6437.544777  3690.596702  3346.980264  "
      ]
     },
     "execution_count": 167,
     "metadata": {},
     "output_type": "execute_result"
    }
   ],
   "source": [
    "uni_multi_k = pd.DataFrame(rmse_dic_multi).reset_index()\n",
    "uni_multi_k.columns = ['k_value', 'normalized_losses', 'wheel_base', 'length', 'width', 'height',\n",
    "       'curb_weight', 'engine_size', 'compression_ratio', 'horsepower',\n",
    "       'peak_rpm', 'city_mpg', 'highway_mpg']\n",
    "uni_multi_k.head()"
   ]
  },
  {
   "cell_type": "markdown",
   "metadata": {},
   "source": [
    "The dataset above gives the root mean squared error for each feature, at different k neighbor hyperparameters. It's hard to visualize which `k_value` setting did best in the KNN algorithm, so let's plot it and see what we get."
   ]
  },
  {
   "cell_type": "code",
   "execution_count": 168,
   "metadata": {
    "collapsed": false,
    "jupyter": {
     "outputs_hidden": false
    }
   },
   "outputs": [
    {
     "data": {
      "text/html": [
       "<div>\n",
       "<style scoped>\n",
       "    .dataframe tbody tr th:only-of-type {\n",
       "        vertical-align: middle;\n",
       "    }\n",
       "\n",
       "    .dataframe tbody tr th {\n",
       "        vertical-align: top;\n",
       "    }\n",
       "\n",
       "    .dataframe thead th {\n",
       "        text-align: right;\n",
       "    }\n",
       "</style>\n",
       "<table border=\"1\" class=\"dataframe\">\n",
       "  <thead>\n",
       "    <tr style=\"text-align: right;\">\n",
       "      <th></th>\n",
       "      <th>k_value</th>\n",
       "      <th>feature</th>\n",
       "      <th>rmse</th>\n",
       "    </tr>\n",
       "  </thead>\n",
       "  <tbody>\n",
       "    <tr>\n",
       "      <th>0</th>\n",
       "      <td>1</td>\n",
       "      <td>normalized_losses</td>\n",
       "      <td>6243.864985</td>\n",
       "    </tr>\n",
       "    <tr>\n",
       "      <th>1</th>\n",
       "      <td>3</td>\n",
       "      <td>normalized_losses</td>\n",
       "      <td>6240.006828</td>\n",
       "    </tr>\n",
       "    <tr>\n",
       "      <th>2</th>\n",
       "      <td>5</td>\n",
       "      <td>normalized_losses</td>\n",
       "      <td>6911.006492</td>\n",
       "    </tr>\n",
       "    <tr>\n",
       "      <th>3</th>\n",
       "      <td>7</td>\n",
       "      <td>normalized_losses</td>\n",
       "      <td>7085.640198</td>\n",
       "    </tr>\n",
       "    <tr>\n",
       "      <th>4</th>\n",
       "      <td>9</td>\n",
       "      <td>normalized_losses</td>\n",
       "      <td>6797.648428</td>\n",
       "    </tr>\n",
       "  </tbody>\n",
       "</table>\n",
       "</div>"
      ],
      "text/plain": [
       "   k_value            feature         rmse\n",
       "0        1  normalized_losses  6243.864985\n",
       "1        3  normalized_losses  6240.006828\n",
       "2        5  normalized_losses  6911.006492\n",
       "3        7  normalized_losses  7085.640198\n",
       "4        9  normalized_losses  6797.648428"
      ]
     },
     "execution_count": 168,
     "metadata": {},
     "output_type": "execute_result"
    }
   ],
   "source": [
    "uni_multi_k = uni_multi_k.melt(id_vars = 'k_value')\n",
    "uni_multi_k.columns = ['k_value','feature','rmse']\n",
    "uni_multi_k.head()"
   ]
  },
  {
   "cell_type": "code",
   "execution_count": 169,
   "metadata": {},
   "outputs": [
    {
     "data": {
      "text/plain": [
       "Text(0.5, 1.0, 'Root mean squared error by feature and hyperparameter')"
      ]
     },
     "execution_count": 169,
     "metadata": {},
     "output_type": "execute_result"
    },
    {
     "data": {
      "image/png": "[encoded data removed]",
      "text/plain": [
       "<Figure size 432x288 with 1 Axes>"
      ]
     },
     "metadata": {
      "needs_background": "light"
     },
     "output_type": "display_data"
    }
   ],
   "source": [
    "sns.lineplot(x = 'k_value',y='rmse',hue='feature',data=uni_multi_k)\n",
    "plt.legend(bbox_to_anchor = (1,1))\n",
    "plt.title('Root mean squared error by feature and hyperparameter')"
   ]
  },
  {
   "cell_type": "code",
   "execution_count": 171,
   "metadata": {},
   "outputs": [
    {
     "data": {
      "text/html": [
       "<div>\n",
       "<style scoped>\n",
       "    .dataframe tbody tr th:only-of-type {\n",
       "        vertical-align: middle;\n",
       "    }\n",
       "\n",
       "    .dataframe tbody tr th {\n",
       "        vertical-align: top;\n",
       "    }\n",
       "\n",
       "    .dataframe thead th {\n",
       "        text-align: right;\n",
       "    }\n",
       "</style>\n",
       "<table border=\"1\" class=\"dataframe\">\n",
       "  <thead>\n",
       "    <tr style=\"text-align: right;\">\n",
       "      <th></th>\n",
       "      <th>k_value</th>\n",
       "      <th>feature</th>\n",
       "      <th>rmse</th>\n",
       "    </tr>\n",
       "  </thead>\n",
       "  <tbody>\n",
       "    <tr>\n",
       "      <th>31</th>\n",
       "      <td>3</td>\n",
       "      <td>engine_size</td>\n",
       "      <td>2939.118540</td>\n",
       "    </tr>\n",
       "    <tr>\n",
       "      <th>57</th>\n",
       "      <td>5</td>\n",
       "      <td>highway_mpg</td>\n",
       "      <td>3029.050652</td>\n",
       "    </tr>\n",
       "    <tr>\n",
       "      <th>58</th>\n",
       "      <td>7</td>\n",
       "      <td>highway_mpg</td>\n",
       "      <td>3035.409607</td>\n",
       "    </tr>\n",
       "    <tr>\n",
       "      <th>32</th>\n",
       "      <td>5</td>\n",
       "      <td>engine_size</td>\n",
       "      <td>3092.109408</td>\n",
       "    </tr>\n",
       "    <tr>\n",
       "      <th>56</th>\n",
       "      <td>3</td>\n",
       "      <td>highway_mpg</td>\n",
       "      <td>3116.866472</td>\n",
       "    </tr>\n",
       "  </tbody>\n",
       "</table>\n",
       "</div>"
      ],
      "text/plain": [
       "    k_value      feature         rmse\n",
       "31        3  engine_size  2939.118540\n",
       "57        5  highway_mpg  3029.050652\n",
       "58        7  highway_mpg  3035.409607\n",
       "32        5  engine_size  3092.109408\n",
       "56        3  highway_mpg  3116.866472"
      ]
     },
     "execution_count": 171,
     "metadata": {},
     "output_type": "execute_result"
    }
   ],
   "source": [
    "uni_multi_k.sort_values('rmse').head()"
   ]
  },
  {
   "cell_type": "markdown",
   "metadata": {},
   "source": [
    "Overall, each feature has an optimal `k_value`. The `rmse` decreases as k increases, but will increase again after a certain point. \n",
    "\n",
    "The lowest `rmse`s are from `engine_size` and `highway_mpg` at `k_value`s of 3 and 5 respectively.\n",
    "\n",
    "We will try a multivariate KNN model next to see if the `rmse` can be lowered further."
   ]
  },
  {
   "cell_type": "markdown",
   "metadata": {},
   "source": [
    "# Multivariate Model Building"
   ]
  },
  {
   "cell_type": "markdown",
   "metadata": {},
   "source": [
    "In order to use a multivariate model we first need to have some idea of what features would best predict the `price`."
   ]
  },
  {
   "cell_type": "code",
   "execution_count": 176,
   "metadata": {},
   "outputs": [],
   "source": [
    "def multi_knn_train_test(train_list, targ_col, df, k = 5):\n",
    "    '''\n",
    "    Trains and validates using KNN to predict the targ_col\n",
    "    from the train_col.\n",
    "    \n",
    "    input\n",
    "    -----\n",
    "    train_col: str\n",
    "    targ_col: str\n",
    "    df: pd.DataFrame\n",
    "    k: int\n",
    "    '''\n",
    "    # define feature and target\n",
    "    np.random.seed(1)\n",
    "    feature = train_list\n",
    "    target = targ_col\n",
    "    \n",
    "    # shuffle the order of dataset\n",
    "    shuffled = df.loc[np.random.permutation(df.index)].copy()\n",
    "    shuffled = shuffled.reindex()\n",
    "    \n",
    "    # divide the dataset into train and test dataframes\n",
    "    eighty = round(len(shuffled) * 0.8)\n",
    "    train_df = shuffled.loc[:eighty,:]\n",
    "    test_df = shuffled.loc[eighty:,:]\n",
    "    \n",
    "    # initiate and fit our model to the dataset\n",
    "    knn = KNeighborsRegressor(n_neighbors = k, algorithm = 'brute')\n",
    "    knn.fit(train_df[feature],train_df[target])\n",
    "    \n",
    "    # predict using our KNN algorithm\n",
    "    prediction = knn.predict(test_df[feature])\n",
    "    \n",
    "    # calculate the evaluating statistic (root mean squared error)\n",
    "    mse = mean_squared_error(test_df[target],prediction)\n",
    "    rmse = np.sqrt(mse)\n",
    "    \n",
    "    return rmse"
   ]
  },
  {
   "cell_type": "code",
   "execution_count": 173,
   "metadata": {
    "collapsed": false,
    "jupyter": {
     "outputs_hidden": false
    }
   },
   "outputs": [
    {
     "data": {
      "text/html": [
       "<div>\n",
       "<style scoped>\n",
       "    .dataframe tbody tr th:only-of-type {\n",
       "        vertical-align: middle;\n",
       "    }\n",
       "\n",
       "    .dataframe tbody tr th {\n",
       "        vertical-align: top;\n",
       "    }\n",
       "\n",
       "    .dataframe thead th {\n",
       "        text-align: right;\n",
       "    }\n",
       "</style>\n",
       "<table border=\"1\" class=\"dataframe\">\n",
       "  <thead>\n",
       "    <tr style=\"text-align: right;\">\n",
       "      <th></th>\n",
       "      <th>index</th>\n",
       "      <th>0</th>\n",
       "    </tr>\n",
       "  </thead>\n",
       "  <tbody>\n",
       "    <tr>\n",
       "      <th>0</th>\n",
       "      <td>highway_mpg</td>\n",
       "      <td>3029.050652</td>\n",
       "    </tr>\n",
       "    <tr>\n",
       "      <th>1</th>\n",
       "      <td>engine_size</td>\n",
       "      <td>3092.109408</td>\n",
       "    </tr>\n",
       "    <tr>\n",
       "      <th>2</th>\n",
       "      <td>width</td>\n",
       "      <td>3348.918814</td>\n",
       "    </tr>\n",
       "    <tr>\n",
       "      <th>3</th>\n",
       "      <td>city_mpg</td>\n",
       "      <td>3558.993038</td>\n",
       "    </tr>\n",
       "    <tr>\n",
       "      <th>4</th>\n",
       "      <td>curb_weight</td>\n",
       "      <td>3802.916492</td>\n",
       "    </tr>\n",
       "    <tr>\n",
       "      <th>5</th>\n",
       "      <td>length</td>\n",
       "      <td>4493.283985</td>\n",
       "    </tr>\n",
       "    <tr>\n",
       "      <th>6</th>\n",
       "      <td>wheel_base</td>\n",
       "      <td>4685.907910</td>\n",
       "    </tr>\n",
       "    <tr>\n",
       "      <th>7</th>\n",
       "      <td>horsepower</td>\n",
       "      <td>4784.772541</td>\n",
       "    </tr>\n",
       "    <tr>\n",
       "      <th>8</th>\n",
       "      <td>compression_ratio</td>\n",
       "      <td>5853.012447</td>\n",
       "    </tr>\n",
       "    <tr>\n",
       "      <th>9</th>\n",
       "      <td>peak_rpm</td>\n",
       "      <td>5923.633704</td>\n",
       "    </tr>\n",
       "    <tr>\n",
       "      <th>10</th>\n",
       "      <td>height</td>\n",
       "      <td>6421.197869</td>\n",
       "    </tr>\n",
       "    <tr>\n",
       "      <th>11</th>\n",
       "      <td>normalized_losses</td>\n",
       "      <td>6911.006492</td>\n",
       "    </tr>\n",
       "  </tbody>\n",
       "</table>\n",
       "</div>"
      ],
      "text/plain": [
       "                index            0\n",
       "0         highway_mpg  3029.050652\n",
       "1         engine_size  3092.109408\n",
       "2               width  3348.918814\n",
       "3            city_mpg  3558.993038\n",
       "4         curb_weight  3802.916492\n",
       "5              length  4493.283985\n",
       "6          wheel_base  4685.907910\n",
       "7          horsepower  4784.772541\n",
       "8   compression_ratio  5853.012447\n",
       "9            peak_rpm  5923.633704\n",
       "10             height  6421.197869\n",
       "11  normalized_losses  6911.006492"
      ]
     },
     "execution_count": 173,
     "metadata": {},
     "output_type": "execute_result"
    }
   ],
   "source": [
    "best_df = k_5_uni_knn.reset_index()\n",
    "best_df"
   ]
  },
  {
   "cell_type": "markdown",
   "metadata": {},
   "source": [
    "According to our univariate modeling above, the top five 'best' features (using a default `k_value` of 5) for the task are:\n",
    "\n",
    "* `highway_mpg`\n",
    "* `engine_size`\n",
    "* `width`\n",
    "* `city_mpg`\n",
    "* `curb_weight`"
   ]
  },
  {
   "cell_type": "code",
   "execution_count": 178,
   "metadata": {
    "collapsed": false,
    "jupyter": {
     "outputs_hidden": false
    }
   },
   "outputs": [],
   "source": [
    "multi_dic = {}\n",
    "# Using all features for comparison\n",
    "all_rmse = multi_knn_train_test(best_df['index'], \n",
    "                                        'price',norm_cars)\n",
    "multi_dic[12] = [all_rmse]"
   ]
  },
  {
   "cell_type": "code",
   "execution_count": 179,
   "metadata": {},
   "outputs": [],
   "source": [
    "# Using best X from the univariate model\n",
    "\n",
    "for x in [2,3,4,5]:\n",
    "    rmse = multi_knn_train_test(list(best_df['index'][0:x]), \n",
    "                                'price',norm_cars)\n",
    "    multi_dic[x] = [rmse]"
   ]
  },
  {
   "cell_type": "code",
   "execution_count": 184,
   "metadata": {
    "collapsed": false,
    "jupyter": {
     "outputs_hidden": false
    }
   },
   "outputs": [
    {
     "data": {
      "text/html": [
       "<div>\n",
       "<style scoped>\n",
       "    .dataframe tbody tr th:only-of-type {\n",
       "        vertical-align: middle;\n",
       "    }\n",
       "\n",
       "    .dataframe tbody tr th {\n",
       "        vertical-align: top;\n",
       "    }\n",
       "\n",
       "    .dataframe thead th {\n",
       "        text-align: right;\n",
       "    }\n",
       "</style>\n",
       "<table border=\"1\" class=\"dataframe\">\n",
       "  <thead>\n",
       "    <tr style=\"text-align: right;\">\n",
       "      <th></th>\n",
       "      <th>top_x_features</th>\n",
       "      <th>rmse</th>\n",
       "    </tr>\n",
       "  </thead>\n",
       "  <tbody>\n",
       "    <tr>\n",
       "      <th>0</th>\n",
       "      <td>3</td>\n",
       "      <td>2505.396792</td>\n",
       "    </tr>\n",
       "    <tr>\n",
       "      <th>1</th>\n",
       "      <td>4</td>\n",
       "      <td>2508.056958</td>\n",
       "    </tr>\n",
       "    <tr>\n",
       "      <th>2</th>\n",
       "      <td>5</td>\n",
       "      <td>2671.228941</td>\n",
       "    </tr>\n",
       "    <tr>\n",
       "      <th>3</th>\n",
       "      <td>2</td>\n",
       "      <td>2804.676028</td>\n",
       "    </tr>\n",
       "    <tr>\n",
       "      <th>4</th>\n",
       "      <td>12</td>\n",
       "      <td>2971.671980</td>\n",
       "    </tr>\n",
       "  </tbody>\n",
       "</table>\n",
       "</div>"
      ],
      "text/plain": [
       "   top_x_features         rmse\n",
       "0               3  2505.396792\n",
       "1               4  2508.056958\n",
       "2               5  2671.228941\n",
       "3               2  2804.676028\n",
       "4              12  2971.671980"
      ]
     },
     "execution_count": 184,
     "metadata": {},
     "output_type": "execute_result"
    }
   ],
   "source": [
    "multi_k_five = pd.DataFrame(multi_dic).T.sort_values(0).reset_index()\n",
    "multi_k_five.columns = ['top_x_features','rmse']\n",
    "multi_k_five.sort_values('rmse')"
   ]
  },
  {
   "cell_type": "code",
   "execution_count": 186,
   "metadata": {},
   "outputs": [
    {
     "data": {
      "text/plain": [
       "Text(0, 0.5, 'RMSE')"
      ]
     },
     "execution_count": 186,
     "metadata": {},
     "output_type": "execute_result"
    },
    {
     "data": {
      "image/png": "[encoded data removed]",
      "text/plain": [
       "<Figure size 432x288 with 1 Axes>"
      ]
     },
     "metadata": {
      "needs_background": "light"
     },
     "output_type": "display_data"
    }
   ],
   "source": [
    "sns.barplot(x='top_x_features',y='rmse',data=multi_k_five)\n",
    "plt.title('RMSE based on number of features used')\n",
    "plt.xlabel(\"Top x features\")\n",
    "plt.ylabel('RMSE')"
   ]
  },
  {
   "cell_type": "markdown",
   "metadata": {},
   "source": [
    "According to our multivariate model (with k neighbors of 5) the best `price` prediction we could get is with either 3 or 4 of the top univariate features. Using only 2 or as much as 5 features resulted in larger mean errors, and using all features did worse of all."
   ]
  },
  {
   "cell_type": "markdown",
   "metadata": {},
   "source": [
    "# Hyperparameter Optimization"
   ]
  },
  {
   "cell_type": "markdown",
   "metadata": {},
   "source": [
    "While we have an idea of which features to use, the question now is how wide to cast our net? How many k neighbors would be the most accurate way to predict the `price` of cars on the market?"
   ]
  },
  {
   "cell_type": "code",
   "execution_count": 188,
   "metadata": {
    "collapsed": false,
    "jupyter": {
     "outputs_hidden": false
    }
   },
   "outputs": [],
   "source": [
    "hyper_k_rmse_dic = {}\n",
    "\n",
    "# Run multivariate KNN using the top x features, as determined when k=5 was assumed.\n",
    "for x in [3,4,5]:\n",
    "    temp_dic = {}\n",
    "    # test with k values 1-25\n",
    "    for k in range(1,26):\n",
    "        features = list(best_df['index'][0:x])\n",
    "        rmse = multi_knn_train_test(features,\n",
    "                                    'price',norm_cars, k=k)\n",
    "        temp_dic[k] = rmse\n",
    "    hyper_k_rmse_dic[\"{0}_best_features\".format(x)] = temp_dic"
   ]
  },
  {
   "cell_type": "code",
   "execution_count": 200,
   "metadata": {},
   "outputs": [
    {
     "data": {
      "text/html": [
       "<div>\n",
       "<style scoped>\n",
       "    .dataframe tbody tr th:only-of-type {\n",
       "        vertical-align: middle;\n",
       "    }\n",
       "\n",
       "    .dataframe tbody tr th {\n",
       "        vertical-align: top;\n",
       "    }\n",
       "\n",
       "    .dataframe thead th {\n",
       "        text-align: right;\n",
       "    }\n",
       "</style>\n",
       "<table border=\"1\" class=\"dataframe\">\n",
       "  <thead>\n",
       "    <tr style=\"text-align: right;\">\n",
       "      <th></th>\n",
       "      <th>k_value</th>\n",
       "      <th>3_best_features</th>\n",
       "      <th>4_best_features</th>\n",
       "      <th>5_best_features</th>\n",
       "    </tr>\n",
       "  </thead>\n",
       "  <tbody>\n",
       "    <tr>\n",
       "      <th>0</th>\n",
       "      <td>1</td>\n",
       "      <td>1960.524463</td>\n",
       "      <td>1948.212421</td>\n",
       "      <td>2200.681052</td>\n",
       "    </tr>\n",
       "    <tr>\n",
       "      <th>1</th>\n",
       "      <td>2</td>\n",
       "      <td>1971.963128</td>\n",
       "      <td>2075.335704</td>\n",
       "      <td>2282.580271</td>\n",
       "    </tr>\n",
       "    <tr>\n",
       "      <th>2</th>\n",
       "      <td>3</td>\n",
       "      <td>2182.582965</td>\n",
       "      <td>2311.360363</td>\n",
       "      <td>2203.715255</td>\n",
       "    </tr>\n",
       "    <tr>\n",
       "      <th>3</th>\n",
       "      <td>4</td>\n",
       "      <td>2274.525564</td>\n",
       "      <td>2428.002917</td>\n",
       "      <td>2455.627547</td>\n",
       "    </tr>\n",
       "    <tr>\n",
       "      <th>4</th>\n",
       "      <td>5</td>\n",
       "      <td>2505.396792</td>\n",
       "      <td>2508.056958</td>\n",
       "      <td>2671.228941</td>\n",
       "    </tr>\n",
       "  </tbody>\n",
       "</table>\n",
       "</div>"
      ],
      "text/plain": [
       "   k_value  3_best_features  4_best_features  5_best_features\n",
       "0        1      1960.524463      1948.212421      2200.681052\n",
       "1        2      1971.963128      2075.335704      2282.580271\n",
       "2        3      2182.582965      2311.360363      2203.715255\n",
       "3        4      2274.525564      2428.002917      2455.627547\n",
       "4        5      2505.396792      2508.056958      2671.228941"
      ]
     },
     "execution_count": 200,
     "metadata": {},
     "output_type": "execute_result"
    }
   ],
   "source": [
    "multiv_multi_k = pd.DataFrame(hyper_k_rmse_dic).reset_index()\n",
    "multiv_multi_k.columns = ['k_value','3_best_features','4_best_features','5_best_features']\n",
    "multiv_multi_k.head()"
   ]
  },
  {
   "cell_type": "markdown",
   "metadata": {},
   "source": [
    "With `k_value`s ranging from 1 through 25, it is very difficult to determine the most optimal hyperparameter settings. We will graph the above table."
   ]
  },
  {
   "cell_type": "code",
   "execution_count": null,
   "metadata": {
    "collapsed": false,
    "jupyter": {
     "outputs_hidden": false
    }
   },
   "outputs": [],
   "source": [
    "multiv_multi_k = multiv_multi_k.melt(id_vars = 'k_value')\n",
    "multiv_multi_k.columns = ['k_value','top_features','rmse']"
   ]
  },
  {
   "cell_type": "code",
   "execution_count": 204,
   "metadata": {},
   "outputs": [
    {
     "data": {
      "text/html": [
       "<div>\n",
       "<style scoped>\n",
       "    .dataframe tbody tr th:only-of-type {\n",
       "        vertical-align: middle;\n",
       "    }\n",
       "\n",
       "    .dataframe tbody tr th {\n",
       "        vertical-align: top;\n",
       "    }\n",
       "\n",
       "    .dataframe thead th {\n",
       "        text-align: right;\n",
       "    }\n",
       "</style>\n",
       "<table border=\"1\" class=\"dataframe\">\n",
       "  <thead>\n",
       "    <tr style=\"text-align: right;\">\n",
       "      <th></th>\n",
       "      <th>k_value</th>\n",
       "      <th>top_features</th>\n",
       "      <th>rmse</th>\n",
       "    </tr>\n",
       "  </thead>\n",
       "  <tbody>\n",
       "    <tr>\n",
       "      <th>25</th>\n",
       "      <td>1</td>\n",
       "      <td>4_best_features</td>\n",
       "      <td>1948.212421</td>\n",
       "    </tr>\n",
       "    <tr>\n",
       "      <th>0</th>\n",
       "      <td>1</td>\n",
       "      <td>3_best_features</td>\n",
       "      <td>1960.524463</td>\n",
       "    </tr>\n",
       "    <tr>\n",
       "      <th>1</th>\n",
       "      <td>2</td>\n",
       "      <td>3_best_features</td>\n",
       "      <td>1971.963128</td>\n",
       "    </tr>\n",
       "    <tr>\n",
       "      <th>26</th>\n",
       "      <td>2</td>\n",
       "      <td>4_best_features</td>\n",
       "      <td>2075.335704</td>\n",
       "    </tr>\n",
       "    <tr>\n",
       "      <th>2</th>\n",
       "      <td>3</td>\n",
       "      <td>3_best_features</td>\n",
       "      <td>2182.582965</td>\n",
       "    </tr>\n",
       "    <tr>\n",
       "      <th>50</th>\n",
       "      <td>1</td>\n",
       "      <td>5_best_features</td>\n",
       "      <td>2200.681052</td>\n",
       "    </tr>\n",
       "    <tr>\n",
       "      <th>52</th>\n",
       "      <td>3</td>\n",
       "      <td>5_best_features</td>\n",
       "      <td>2203.715255</td>\n",
       "    </tr>\n",
       "    <tr>\n",
       "      <th>3</th>\n",
       "      <td>4</td>\n",
       "      <td>3_best_features</td>\n",
       "      <td>2274.525564</td>\n",
       "    </tr>\n",
       "    <tr>\n",
       "      <th>51</th>\n",
       "      <td>2</td>\n",
       "      <td>5_best_features</td>\n",
       "      <td>2282.580271</td>\n",
       "    </tr>\n",
       "    <tr>\n",
       "      <th>27</th>\n",
       "      <td>3</td>\n",
       "      <td>4_best_features</td>\n",
       "      <td>2311.360363</td>\n",
       "    </tr>\n",
       "  </tbody>\n",
       "</table>\n",
       "</div>"
      ],
      "text/plain": [
       "    k_value     top_features         rmse\n",
       "25        1  4_best_features  1948.212421\n",
       "0         1  3_best_features  1960.524463\n",
       "1         2  3_best_features  1971.963128\n",
       "26        2  4_best_features  2075.335704\n",
       "2         3  3_best_features  2182.582965\n",
       "50        1  5_best_features  2200.681052\n",
       "52        3  5_best_features  2203.715255\n",
       "3         4  3_best_features  2274.525564\n",
       "51        2  5_best_features  2282.580271\n",
       "27        3  4_best_features  2311.360363"
      ]
     },
     "execution_count": 204,
     "metadata": {},
     "output_type": "execute_result"
    }
   ],
   "source": [
    "multiv_multi_k.sort_values('rmse').head(10)"
   ]
  },
  {
   "cell_type": "code",
   "execution_count": 202,
   "metadata": {
    "collapsed": false,
    "jupyter": {
     "outputs_hidden": false
    }
   },
   "outputs": [
    {
     "data": {
      "text/plain": [
       "Text(0.5, 1.0, 'Root mean squared error by number of multivariate features and hyperparameter')"
      ]
     },
     "execution_count": 202,
     "metadata": {},
     "output_type": "execute_result"
    },
    {
     "data": {
      "image/png": "[encoded data removed]",
      "text/plain": [
       "<Figure size 432x288 with 1 Axes>"
      ]
     },
     "metadata": {
      "needs_background": "light"
     },
     "output_type": "display_data"
    }
   ],
   "source": [
    "sns.lineplot(x = 'k_value',y='rmse',hue='top_features',data=multiv_multi_k)\n",
    "plt.legend(bbox_to_anchor = (1,1))\n",
    "plt.title('Root mean squared error by number of multivariate features and hyperparameter')"
   ]
  },
  {
   "cell_type": "markdown",
   "metadata": {},
   "source": [
    "Each of the previously found models have `k_value`=1 as their optimal hyperparameters. \n",
    "\n",
    "* By using the top 4 features from our univariate model, and a `k_value`=1, we brought the `rmse` down to 1948.\n",
    "* By using the top 3 features from our univariate model, and a `k_value`=1, we brought the `rmse` down to 1960.\n",
    "* By using the top 5 features from our univariate model, and a `k_value`=1, we brought the `rmse` down to 2200."
   ]
  },
  {
   "cell_type": "markdown",
   "metadata": {},
   "source": [
    "# Conclusion"
   ]
  },
  {
   "cell_type": "markdown",
   "metadata": {},
   "source": [
    "The most accurate model we built with this dataset was a multivate KNN model:\n",
    "\n",
    "* `k_value` of 1\n",
    "* `algorithm` as \"brute\"\n",
    "* Using these features:\n",
    "    * `highway_mpg`\n",
    "    * `engine_size`\n",
    "    * `width`\n",
    "    * `city_mpg`\n",
    "    \n",
    "Individually these features were only able to predice the `price` with an `rmse` of around 3000-3500. Together, however, the final `rmse` value was decreased by 40% to just 1948.\n",
    "\n",
    "Based on our analysis the car market value is best predicted with those four variables."
   ]
  },
  {
   "cell_type": "markdown",
   "metadata": {},
   "source": [
    "# From Dataquest\n",
    "\n",
    "That's it for the guided steps. Here are some ideas for next steps:\n",
    "\n",
    "* Modify the `knn_train_test()` function to use k-fold cross validation instead of test/train validation.\n",
    "* Modify the `knn_train_test()` function to perform the data cleaning as well.\n"
   ]
  },
  {
   "cell_type": "markdown",
   "metadata": {},
   "source": [
    "# K-fold cross validation"
   ]
  },
  {
   "cell_type": "markdown",
   "metadata": {},
   "source": [
    "## Holdout validation"
   ]
  },
  {
   "cell_type": "code",
   "execution_count": 214,
   "metadata": {},
   "outputs": [],
   "source": [
    "def knn_hold(train_list, targ_col, df, k = 5):\n",
    "    '''\n",
    "    Trains and validates using KNN to predict the targ_col\n",
    "    from the train_col.\n",
    "    \n",
    "    input\n",
    "    -----\n",
    "    train_col: list\n",
    "    targ_col: str\n",
    "    df: pd.DataFrame\n",
    "    k: int\n",
    "    '''\n",
    "    ## setup ##\n",
    "    # define feature and target\n",
    "    np.random.seed(1)\n",
    "    feature = train_list\n",
    "    target = targ_col\n",
    "    \n",
    "    # shuffle the order of dataset\n",
    "    shuffled = df.loc[np.random.permutation(df.index)]\n",
    "    shuffled = shuffled.reindex()\n",
    "    \n",
    "    # divide the dataset into train and test dataframes\n",
    "    fifty = round(len(shuffled) * 0.5)\n",
    "    split_one = shuffled.loc[:fifty,:].copy()\n",
    "    split_two = shuffled.loc[fifty:,:].copy()\n",
    "    \n",
    "    ## split_one ##\n",
    "    train_one = split_one\n",
    "    test_one = split_two\n",
    "    # initiate and fit our model\n",
    "    knn = KNeighborsRegressor(n_neighbors = k, algorithm = 'brute')\n",
    "    knn.fit(train_one[feature],train_one[target])\n",
    "    # predict using the model\n",
    "    predict_one = knn.predict(test_one[feature])\n",
    "    mse_one = mean_squared_error(test_one[target],predict_one)\n",
    "    rmse_one = np.sqrt(mse_one)\n",
    "    \n",
    "    ## split_two ##\n",
    "    train_two = split_two\n",
    "    test_two = split_one\n",
    "    # initiate and fit our model\n",
    "    knn = KNeighborsRegressor(n_neighbors = k, algorithm = 'brute')\n",
    "    knn.fit(train_two[feature],train_two[target])\n",
    "    # predict using the model\n",
    "    predict_two = knn.predict(test_two[feature])\n",
    "    mse_two = mean_squared_error(test_two[target],predict_two)\n",
    "    rmse_two = np.sqrt(mse_two)\n",
    "    \n",
    "    avg_rmse = (rmse_one + rmse_two)/2\n",
    "    return avg_rmse"
   ]
  },
  {
   "cell_type": "code",
   "execution_count": 218,
   "metadata": {},
   "outputs": [],
   "source": [
    "# find the univariate rmse using holdout validation\n",
    "uni_rmse_hold = {}\n",
    "for col in norm_cols:\n",
    "    rmse = knn_hold([col], 'price', norm_cars)\n",
    "    uni_rmse_hold[col] = [rmse]"
   ]
  },
  {
   "cell_type": "code",
   "execution_count": 225,
   "metadata": {
    "comments": [
     {
      "body": [
       {
        "created": "2020-08-27T02:55:18.926Z",
        "creator": {
         "image": "https://avatars3.githubusercontent.com/u/8731022?v=4",
         "name": "pomkos",
         "user": "pomkos"
        },
        "edited": false,
        "value": "Compare these results with the univariate, train/test model."
       }
      ],
      "id": "anno/0",
      "resolved": false,
      "total": 1
     }
    ]
   },
   "outputs": [
    {
     "data": {
      "text/html": [
       "<div>\n",
       "<style scoped>\n",
       "    .dataframe tbody tr th:only-of-type {\n",
       "        vertical-align: middle;\n",
       "    }\n",
       "\n",
       "    .dataframe tbody tr th {\n",
       "        vertical-align: top;\n",
       "    }\n",
       "\n",
       "    .dataframe thead th {\n",
       "        text-align: right;\n",
       "    }\n",
       "</style>\n",
       "<table border=\"1\" class=\"dataframe\">\n",
       "  <thead>\n",
       "    <tr style=\"text-align: right;\">\n",
       "      <th></th>\n",
       "      <th>feature</th>\n",
       "      <th>rmse</th>\n",
       "    </tr>\n",
       "  </thead>\n",
       "  <tbody>\n",
       "    <tr>\n",
       "      <th>0</th>\n",
       "      <td>engine_size</td>\n",
       "      <td>3453.026762</td>\n",
       "    </tr>\n",
       "    <tr>\n",
       "      <th>1</th>\n",
       "      <td>highway_mpg</td>\n",
       "      <td>4137.692438</td>\n",
       "    </tr>\n",
       "    <tr>\n",
       "      <th>2</th>\n",
       "      <td>width</td>\n",
       "      <td>4140.871461</td>\n",
       "    </tr>\n",
       "    <tr>\n",
       "      <th>3</th>\n",
       "      <td>curb_weight</td>\n",
       "      <td>4185.776040</td>\n",
       "    </tr>\n",
       "    <tr>\n",
       "      <th>4</th>\n",
       "      <td>city_mpg</td>\n",
       "      <td>4221.084797</td>\n",
       "    </tr>\n",
       "  </tbody>\n",
       "</table>\n",
       "</div>"
      ],
      "text/plain": [
       "       feature         rmse\n",
       "0  engine_size  3453.026762\n",
       "1  highway_mpg  4137.692438\n",
       "2        width  4140.871461\n",
       "3  curb_weight  4185.776040\n",
       "4     city_mpg  4221.084797"
      ]
     },
     "execution_count": 225,
     "metadata": {},
     "output_type": "execute_result"
    }
   ],
   "source": [
    "uni_rmse_hold = pd.DataFrame(rmse_hold).T.reset_index()\n",
    "uni_rmse_hold.columns = ['feature','rmse']\n",
    "uni_rmse_hold = uni_rmse_hold.sort_values('rmse').reset_index(drop=True)\n",
    "uni_rmse_hold.head()"
   ]
  },
  {
   "cell_type": "code",
   "execution_count": 230,
   "metadata": {},
   "outputs": [
    {
     "data": {
      "text/plain": [
       "(array([ 0,  1,  2,  3,  4,  5,  6,  7,  8,  9, 10, 11]),\n",
       " [Text(0, 0, 'engine_size'),\n",
       "  Text(1, 0, 'highway_mpg'),\n",
       "  Text(2, 0, 'width'),\n",
       "  Text(3, 0, 'curb_weight'),\n",
       "  Text(4, 0, 'city_mpg'),\n",
       "  Text(5, 0, 'horsepower'),\n",
       "  Text(6, 0, 'length'),\n",
       "  Text(7, 0, 'wheel_base'),\n",
       "  Text(8, 0, 'compression_ratio'),\n",
       "  Text(9, 0, 'peak_rpm'),\n",
       "  Text(10, 0, 'height'),\n",
       "  Text(11, 0, 'normalized_losses')])"
      ]
     },
     "execution_count": 230,
     "metadata": {},
     "output_type": "execute_result"
    },
    {
     "data": {
      "image/png": "[encoded data removed]",
      "text/plain": [
       "<Figure size 432x288 with 1 Axes>"
      ]
     },
     "metadata": {
      "needs_background": "light"
     },
     "output_type": "display_data"
    }
   ],
   "source": [
    "sns.barplot(x='feature',y='rmse',data=uni_rmse_hold)\n",
    "plt.title('RMSE vs Feature, using holdout validation')\n",
    "plt.xticks(rotation=45, horizontalalignment='right')"
   ]
  },
  {
   "cell_type": "markdown",
   "metadata": {},
   "source": [
    "Univariate KNN with holdout variation resulted in the following top five features:\n",
    "\n",
    "* `engine_size`\n",
    "* `highway_mpg`\n",
    "* `width`\n",
    "* `curb_weight`\n",
    "* `city_mpg`"
   ]
  },
  {
   "cell_type": "code",
   "execution_count": 239,
   "metadata": {},
   "outputs": [],
   "source": [
    "# Using best X from the univariate model\n",
    "multi_hold = {}\n",
    "for x in [2,3,4,5]:\n",
    "    feature = list(uni_rmse_hold['feature'][0:x])\n",
    "    rmse = knn_hold(feature,'price',norm_cars)\n",
    "    multi_hold[x] = [rmse]\n",
    "    \n",
    "multi_hold[12] = knn_hold(uni_rmse_hold['feature'],'price',norm_cars)"
   ]
  },
  {
   "cell_type": "code",
   "execution_count": 240,
   "metadata": {},
   "outputs": [
    {
     "data": {
      "text/html": [
       "<div>\n",
       "<style scoped>\n",
       "    .dataframe tbody tr th:only-of-type {\n",
       "        vertical-align: middle;\n",
       "    }\n",
       "\n",
       "    .dataframe tbody tr th {\n",
       "        vertical-align: top;\n",
       "    }\n",
       "\n",
       "    .dataframe thead th {\n",
       "        text-align: right;\n",
       "    }\n",
       "</style>\n",
       "<table border=\"1\" class=\"dataframe\">\n",
       "  <thead>\n",
       "    <tr style=\"text-align: right;\">\n",
       "      <th></th>\n",
       "      <th>top_x_features</th>\n",
       "      <th>rmse</th>\n",
       "    </tr>\n",
       "  </thead>\n",
       "  <tbody>\n",
       "    <tr>\n",
       "      <th>0</th>\n",
       "      <td>5</td>\n",
       "      <td>3230.250616</td>\n",
       "    </tr>\n",
       "    <tr>\n",
       "      <th>1</th>\n",
       "      <td>3</td>\n",
       "      <td>3274.977805</td>\n",
       "    </tr>\n",
       "    <tr>\n",
       "      <th>2</th>\n",
       "      <td>4</td>\n",
       "      <td>3276.533136</td>\n",
       "    </tr>\n",
       "    <tr>\n",
       "      <th>3</th>\n",
       "      <td>2</td>\n",
       "      <td>3470.779137</td>\n",
       "    </tr>\n",
       "    <tr>\n",
       "      <th>4</th>\n",
       "      <td>12</td>\n",
       "      <td>3803.417477</td>\n",
       "    </tr>\n",
       "  </tbody>\n",
       "</table>\n",
       "</div>"
      ],
      "text/plain": [
       "   top_x_features         rmse\n",
       "0               5  3230.250616\n",
       "1               3  3274.977805\n",
       "2               4  3276.533136\n",
       "3               2  3470.779137\n",
       "4              12  3803.417477"
      ]
     },
     "execution_count": 240,
     "metadata": {},
     "output_type": "execute_result"
    }
   ],
   "source": [
    "multi_hold = pd.DataFrame(multi_hold).T.reset_index()\n",
    "multi_hold.columns = ['top_x_features','rmse']\n",
    "multi_hold = multi_hold.sort_values('rmse').reset_index(drop=True)\n",
    "multi_hold.head()"
   ]
  },
  {
   "cell_type": "code",
   "execution_count": 242,
   "metadata": {},
   "outputs": [
    {
     "data": {
      "text/plain": [
       "Text(0.5, 1.0, 'RMSE vs Top X Features, using holdout validation')"
      ]
     },
     "execution_count": 242,
     "metadata": {},
     "output_type": "execute_result"
    },
    {
     "data": {
      "image/png": "[encoded data removed]",
      "text/plain": [
       "<Figure size 432x288 with 1 Axes>"
      ]
     },
     "metadata": {
      "needs_background": "light"
     },
     "output_type": "display_data"
    }
   ],
   "source": [
    "sns.barplot(x='top_x_features',y='rmse',data=multi_hold)\n",
    "plt.title('RMSE vs Top X Features, using holdout validation')"
   ]
  },
  {
   "cell_type": "markdown",
   "metadata": {},
   "source": [
    "Each multivariate KNN performed similarly with `k_value`=5 as calculated by holdout validation, except when using all 12 features."
   ]
  },
  {
   "cell_type": "code",
   "execution_count": 265,
   "metadata": {},
   "outputs": [],
   "source": [
    "# Lets tune the hyperparameters for KNN holdout variation\n",
    "top_k_hold = {}\n",
    "for x in [3,4,5]:\n",
    "    k_dic = {}\n",
    "    for k in range(1,26):\n",
    "        feature = list(uni_rmse_hold['feature'][0:x])\n",
    "        rmse = knn_hold(feature,'price',norm_cars,k=k)\n",
    "        k_dic[k] = rmse\n",
    "    top_k_hold[f'top_{x}_features'] = k_dic"
   ]
  },
  {
   "cell_type": "code",
   "execution_count": null,
   "metadata": {},
   "outputs": [],
   "source": [
    "top_k_hold = pd.DataFrame(top_k_hold)\n",
    "top_k_hold = top_k_hold.reset_index()\n",
    "top_k_hold.columns = ['k_value','top_3_features','top_4_features','top_5_features']\n",
    "top_k_hold = top_k_hold.melt(id_vars = 'k_value')"
   ]
  },
  {
   "cell_type": "code",
   "execution_count": 269,
   "metadata": {},
   "outputs": [
    {
     "data": {
      "text/html": [
       "<div>\n",
       "<style scoped>\n",
       "    .dataframe tbody tr th:only-of-type {\n",
       "        vertical-align: middle;\n",
       "    }\n",
       "\n",
       "    .dataframe tbody tr th {\n",
       "        vertical-align: top;\n",
       "    }\n",
       "\n",
       "    .dataframe thead th {\n",
       "        text-align: right;\n",
       "    }\n",
       "</style>\n",
       "<table border=\"1\" class=\"dataframe\">\n",
       "  <thead>\n",
       "    <tr style=\"text-align: right;\">\n",
       "      <th></th>\n",
       "      <th>k_value</th>\n",
       "      <th>variable</th>\n",
       "      <th>value</th>\n",
       "    </tr>\n",
       "  </thead>\n",
       "  <tbody>\n",
       "    <tr>\n",
       "      <th>25</th>\n",
       "      <td>1</td>\n",
       "      <td>top_4_features</td>\n",
       "      <td>2872.469369</td>\n",
       "    </tr>\n",
       "    <tr>\n",
       "      <th>50</th>\n",
       "      <td>1</td>\n",
       "      <td>top_5_features</td>\n",
       "      <td>2957.370401</td>\n",
       "    </tr>\n",
       "    <tr>\n",
       "      <th>1</th>\n",
       "      <td>2</td>\n",
       "      <td>top_3_features</td>\n",
       "      <td>2964.804609</td>\n",
       "    </tr>\n",
       "    <tr>\n",
       "      <th>26</th>\n",
       "      <td>2</td>\n",
       "      <td>top_4_features</td>\n",
       "      <td>2965.461311</td>\n",
       "    </tr>\n",
       "    <tr>\n",
       "      <th>0</th>\n",
       "      <td>1</td>\n",
       "      <td>top_3_features</td>\n",
       "      <td>2976.061494</td>\n",
       "    </tr>\n",
       "  </tbody>\n",
       "</table>\n",
       "</div>"
      ],
      "text/plain": [
       "    k_value        variable        value\n",
       "25        1  top_4_features  2872.469369\n",
       "50        1  top_5_features  2957.370401\n",
       "1         2  top_3_features  2964.804609\n",
       "26        2  top_4_features  2965.461311\n",
       "0         1  top_3_features  2976.061494"
      ]
     },
     "execution_count": 269,
     "metadata": {},
     "output_type": "execute_result"
    }
   ],
   "source": [
    "top_k_hold.sort_values('value').head()"
   ]
  },
  {
   "cell_type": "code",
   "execution_count": 268,
   "metadata": {},
   "outputs": [
    {
     "data": {
      "text/plain": [
       "<AxesSubplot:xlabel='k_value', ylabel='value'>"
      ]
     },
     "execution_count": 268,
     "metadata": {},
     "output_type": "execute_result"
    },
    {
     "data": {
      "image/png": "[encoded data removed]",
      "text/plain": [
       "<Figure size 432x288 with 1 Axes>"
      ]
     },
     "metadata": {
      "needs_background": "light"
     },
     "output_type": "display_data"
    }
   ],
   "source": [
    "sns.lineplot(x = 'k_value', y='value', hue='variable', data=top_k_hold)"
   ]
  },
  {
   "cell_type": "markdown",
   "metadata": {},
   "source": [
    "Very similar results as with the train/test validation. Using the`top_4_features` with `k_value`=1 resulted in the smallest `rmse` for the dataset."
   ]
  },
  {
   "cell_type": "markdown",
   "metadata": {},
   "source": [
    "# k-fold validation"
   ]
  },
  {
   "cell_type": "markdown",
   "metadata": {},
   "source": [
    "Using both manual folds and the `KFold` and `cross_val_score` functions from the `sklearn.model_selection` library."
   ]
  },
  {
   "cell_type": "code",
   "execution_count": 270,
   "metadata": {},
   "outputs": [],
   "source": [
    "def knn_fold(train_list, targ_col, df, k = 5):\n",
    "    '''\n",
    "    Trains and validates using KNN to predict the targ_col\n",
    "    from the train_col.\n",
    "    \n",
    "    input\n",
    "    -----\n",
    "    train_col: str\n",
    "    targ_col: str\n",
    "    df: pd.DataFrame\n",
    "    k: int\n",
    "    '''\n",
    "    # define feature and target\n",
    "    np.random.seed(1)\n",
    "    feature = train_list\n",
    "    target = targ_col\n",
    "    \n",
    "    # shuffle the order of dataset\n",
    "    shuffled = df.loc[np.random.permutation(df.index)].copy()\n",
    "    shuffled = shuffled.reindex()\n",
    "    \n",
    "    # divide the dataset into train and test dataframes\n",
    "    eighty = round(len(shuffled) * 0.8)\n",
    "    train_df = shuffled.loc[:eighty,:]\n",
    "    test_df = shuffled.loc[eighty:,:]\n",
    "    \n",
    "    # initiate and fit our model to the dataset\n",
    "    knn = KNeighborsRegressor(n_neighbors = k, algorithm = 'brute')\n",
    "    knn.fit(train_df[feature],train_df[target])\n",
    "    \n",
    "    # predict using our KNN algorithm\n",
    "    prediction = knn.predict(test_df[feature])\n",
    "    \n",
    "    # calculate the evaluating statistic (root mean squared error)\n",
    "    mse = mean_squared_error(test_df[target],prediction)\n",
    "    rmse = np.sqrt(mse)\n",
    "    \n",
    "    return rmse"
   ]
  },
  {
   "cell_type": "code",
   "execution_count": null,
   "metadata": {},
   "outputs": [],
   "source": []
  }
 ],
 "metadata": {
  "kernelspec": {
   "display_name": "Data Python Env",
   "language": "python",
   "name": "data_env"
  },
  "language_info": {
   "codemirror_mode": {
    "name": "ipython",
    "version": 3
   },
   "file_extension": ".py",
   "mimetype": "text/x-python",
   "name": "python",
   "nbconvert_exporter": "python",
   "pygments_lexer": "ipython3",
   "version": "3.6.10"
  }
 },
 "nbformat": 4,
 "nbformat_minor": 4
}
