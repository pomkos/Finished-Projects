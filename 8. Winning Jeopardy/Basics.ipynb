{
 "cells": [
  {
   "cell_type": "markdown",
   "metadata": {},
   "source": [
    "# Evaluation of Jeopardy Questions"
   ]
  },
  {
   "cell_type": "markdown",
   "metadata": {},
   "source": [
    "We want to compete on Jeopardy. To help us gain an edge over our potential competitors, we will analyse a dataset of questions to see if there are any patterns.\n",
    "\n",
    "Our dataset is the first 20000 rows from [this full dataset](https://www.reddit.com/r/datasets/comments/1uyd0t/200000_jeopardy_questions_in_a_json_file) of Jeopardy questions."
   ]
  },
  {
   "cell_type": "markdown",
   "metadata": {},
   "source": [
    "# Clean"
   ]
  },
  {
   "cell_type": "code",
   "execution_count": 1,
   "metadata": {},
   "outputs": [],
   "source": [
    "import numpy as np\n",
    "import pandas as pd"
   ]
  },
  {
   "cell_type": "code",
   "execution_count": 2,
   "metadata": {
    "collapsed": false,
    "jupyter": {
     "outputs_hidden": false
    }
   },
   "outputs": [],
   "source": [
    "df = pd.read_csv('jeopardy.csv')"
   ]
  },
  {
   "cell_type": "code",
   "execution_count": 12,
   "metadata": {},
   "outputs": [
    {
     "data": {
      "text/html": [
       "<div>\n",
       "<style scoped>\n",
       "    .dataframe tbody tr th:only-of-type {\n",
       "        vertical-align: middle;\n",
       "    }\n",
       "\n",
       "    .dataframe tbody tr th {\n",
       "        vertical-align: top;\n",
       "    }\n",
       "\n",
       "    .dataframe thead th {\n",
       "        text-align: right;\n",
       "    }\n",
       "</style>\n",
       "<table border=\"1\" class=\"dataframe\">\n",
       "  <thead>\n",
       "    <tr style=\"text-align: right;\">\n",
       "      <th></th>\n",
       "      <th>Show Number</th>\n",
       "      <th>Air Date</th>\n",
       "      <th>Round</th>\n",
       "      <th>Category</th>\n",
       "      <th>Value</th>\n",
       "      <th>Question</th>\n",
       "      <th>Answer</th>\n",
       "    </tr>\n",
       "  </thead>\n",
       "  <tbody>\n",
       "    <tr>\n",
       "      <th>14836</th>\n",
       "      <td>4511</td>\n",
       "      <td>2004-03-29</td>\n",
       "      <td>Double Jeopardy!</td>\n",
       "      <td>ALL MY LIFE</td>\n",
       "      <td>$1,000</td>\n",
       "      <td>Born in Connecticut in 1800, helped capture an...</td>\n",
       "      <td>John Brown</td>\n",
       "    </tr>\n",
       "    <tr>\n",
       "      <th>9308</th>\n",
       "      <td>3820</td>\n",
       "      <td>2001-03-23</td>\n",
       "      <td>Double Jeopardy!</td>\n",
       "      <td>BRITISH NOBILITY</td>\n",
       "      <td>$1,000</td>\n",
       "      <td>As a boy in 1461, the future King Richard III ...</td>\n",
       "      <td>Gloucester</td>\n",
       "    </tr>\n",
       "    <tr>\n",
       "      <th>15018</th>\n",
       "      <td>3731</td>\n",
       "      <td>2000-11-20</td>\n",
       "      <td>Double Jeopardy!</td>\n",
       "      <td>THE AMERICAN REVOLUTION</td>\n",
       "      <td>$1,000</td>\n",
       "      <td>Guerrilla leader Francis Marion earned this ni...</td>\n",
       "      <td>\"The Swamp Fox\"</td>\n",
       "    </tr>\n",
       "    <tr>\n",
       "      <th>4697</th>\n",
       "      <td>5419</td>\n",
       "      <td>2008-03-13</td>\n",
       "      <td>Jeopardy!</td>\n",
       "      <td>ALL MY SONS</td>\n",
       "      <td>$1,000</td>\n",
       "      <td>Egypt is sometimes called the land of this fer...</td>\n",
       "      <td>Ham</td>\n",
       "    </tr>\n",
       "    <tr>\n",
       "      <th>18875</th>\n",
       "      <td>5253</td>\n",
       "      <td>2007-06-13</td>\n",
       "      <td>Jeopardy!</td>\n",
       "      <td>LEAGUES</td>\n",
       "      <td>$1,000</td>\n",
       "      <td>This organization was founded in 1920 by Carri...</td>\n",
       "      <td>the League of Women Voters</td>\n",
       "    </tr>\n",
       "    <tr>\n",
       "      <th>...</th>\n",
       "      <td>...</td>\n",
       "      <td>...</td>\n",
       "      <td>...</td>\n",
       "      <td>...</td>\n",
       "      <td>...</td>\n",
       "      <td>...</td>\n",
       "      <td>...</td>\n",
       "    </tr>\n",
       "    <tr>\n",
       "      <th>12304</th>\n",
       "      <td>5332</td>\n",
       "      <td>2007-11-13</td>\n",
       "      <td>Final Jeopardy!</td>\n",
       "      <td>THE MOVIES</td>\n",
       "      <td>None</td>\n",
       "      <td>The title of this award-winning 1963 film refe...</td>\n",
       "      <td>8½</td>\n",
       "    </tr>\n",
       "    <tr>\n",
       "      <th>1247</th>\n",
       "      <td>1302</td>\n",
       "      <td>1990-04-10</td>\n",
       "      <td>Final Jeopardy!</td>\n",
       "      <td>CABLE TELEVISION</td>\n",
       "      <td>None</td>\n",
       "      <td>The name of this channel can be traced back to...</td>\n",
       "      <td>Nickelodeon</td>\n",
       "    </tr>\n",
       "    <tr>\n",
       "      <th>2801</th>\n",
       "      <td>3815</td>\n",
       "      <td>2001-03-16</td>\n",
       "      <td>Final Jeopardy!</td>\n",
       "      <td>SPORTS NAME ORIGINS</td>\n",
       "      <td>None</td>\n",
       "      <td>This racket sport takes its name from the coun...</td>\n",
       "      <td>Badminton</td>\n",
       "    </tr>\n",
       "    <tr>\n",
       "      <th>16107</th>\n",
       "      <td>5001</td>\n",
       "      <td>2006-05-15</td>\n",
       "      <td>Final Jeopardy!</td>\n",
       "      <td>MYTHOLOGY</td>\n",
       "      <td>None</td>\n",
       "      <td>The name of this monster is from the Greek for...</td>\n",
       "      <td>the Chimera</td>\n",
       "    </tr>\n",
       "    <tr>\n",
       "      <th>3161</th>\n",
       "      <td>5807</td>\n",
       "      <td>2009-12-08</td>\n",
       "      <td>Final Jeopardy!</td>\n",
       "      <td>LITERATURE OF THE 1800s</td>\n",
       "      <td>None</td>\n",
       "      <td>This character said, \"I will live in the past,...</td>\n",
       "      <td>Ebenezer Scrooge</td>\n",
       "    </tr>\n",
       "  </tbody>\n",
       "</table>\n",
       "<p>19999 rows × 7 columns</p>\n",
       "</div>"
      ],
      "text/plain": [
       "       Show Number    Air Date             Round                 Category  \\\n",
       "14836         4511  2004-03-29  Double Jeopardy!              ALL MY LIFE   \n",
       "9308          3820  2001-03-23  Double Jeopardy!         BRITISH NOBILITY   \n",
       "15018         3731  2000-11-20  Double Jeopardy!  THE AMERICAN REVOLUTION   \n",
       "4697          5419  2008-03-13         Jeopardy!              ALL MY SONS   \n",
       "18875         5253  2007-06-13         Jeopardy!                  LEAGUES   \n",
       "...            ...         ...               ...                      ...   \n",
       "12304         5332  2007-11-13   Final Jeopardy!               THE MOVIES   \n",
       "1247          1302  1990-04-10   Final Jeopardy!         CABLE TELEVISION   \n",
       "2801          3815  2001-03-16   Final Jeopardy!      SPORTS NAME ORIGINS   \n",
       "16107         5001  2006-05-15   Final Jeopardy!                MYTHOLOGY   \n",
       "3161          5807  2009-12-08   Final Jeopardy!  LITERATURE OF THE 1800s   \n",
       "\n",
       "        Value                                           Question  \\\n",
       "14836  $1,000  Born in Connecticut in 1800, helped capture an...   \n",
       "9308   $1,000  As a boy in 1461, the future King Richard III ...   \n",
       "15018  $1,000  Guerrilla leader Francis Marion earned this ni...   \n",
       "4697   $1,000  Egypt is sometimes called the land of this fer...   \n",
       "18875  $1,000  This organization was founded in 1920 by Carri...   \n",
       "...       ...                                                ...   \n",
       "12304    None  The title of this award-winning 1963 film refe...   \n",
       "1247     None  The name of this channel can be traced back to...   \n",
       "2801     None  This racket sport takes its name from the coun...   \n",
       "16107    None  The name of this monster is from the Greek for...   \n",
       "3161     None  This character said, \"I will live in the past,...   \n",
       "\n",
       "                           Answer  \n",
       "14836                  John Brown  \n",
       "9308                   Gloucester  \n",
       "15018             \"The Swamp Fox\"  \n",
       "4697                          Ham  \n",
       "18875  the League of Women Voters  \n",
       "...                           ...  \n",
       "12304                          8½  \n",
       "1247                  Nickelodeon  \n",
       "2801                    Badminton  \n",
       "16107                 the Chimera  \n",
       "3161             Ebenezer Scrooge  \n",
       "\n",
       "[19999 rows x 7 columns]"
      ]
     },
     "execution_count": 12,
     "metadata": {},
     "output_type": "execute_result"
    }
   ],
   "source": [
    "df.sort_values(' Value')"
   ]
  },
  {
   "cell_type": "code",
   "execution_count": 9,
   "metadata": {},
   "outputs": [
    {
     "data": {
      "text/html": [
       "<div>\n",
       "<style scoped>\n",
       "    .dataframe tbody tr th:only-of-type {\n",
       "        vertical-align: middle;\n",
       "    }\n",
       "\n",
       "    .dataframe tbody tr th {\n",
       "        vertical-align: top;\n",
       "    }\n",
       "\n",
       "    .dataframe thead th {\n",
       "        text-align: right;\n",
       "    }\n",
       "</style>\n",
       "<table border=\"1\" class=\"dataframe\">\n",
       "  <thead>\n",
       "    <tr style=\"text-align: right;\">\n",
       "      <th></th>\n",
       "      <th>Show Number</th>\n",
       "      <th>Air Date</th>\n",
       "      <th>Round</th>\n",
       "      <th>Category</th>\n",
       "      <th>Value</th>\n",
       "      <th>Question</th>\n",
       "      <th>Answer</th>\n",
       "    </tr>\n",
       "  </thead>\n",
       "  <tbody>\n",
       "    <tr>\n",
       "      <th>11708</th>\n",
       "      <td>2903</td>\n",
       "      <td>1997-03-26</td>\n",
       "      <td>Double Jeopardy!</td>\n",
       "      <td>YOUTH ORGANIZATIONS</td>\n",
       "      <td>$600</td>\n",
       "      <td>A team from Williamsport, PA. won this athleti...</td>\n",
       "      <td>Little League</td>\n",
       "    </tr>\n",
       "    <tr>\n",
       "      <th>8894</th>\n",
       "      <td>6293</td>\n",
       "      <td>2012-01-18</td>\n",
       "      <td>Double Jeopardy!</td>\n",
       "      <td>BARTLETT'S PAIRS</td>\n",
       "      <td>$1600</td>\n",
       "      <td>The 2 quotes by Charles Evans Hughes, the USA'...</td>\n",
       "      <td>Chief Justice</td>\n",
       "    </tr>\n",
       "    <tr>\n",
       "      <th>3706</th>\n",
       "      <td>4398</td>\n",
       "      <td>2003-10-22</td>\n",
       "      <td>Jeopardy!</td>\n",
       "      <td>A TOM CRUISE FILM FESTIVAL</td>\n",
       "      <td>$200</td>\n",
       "      <td>\"I lost the Number 1 draft pick the night befo...</td>\n",
       "      <td>Jerry Maguire</td>\n",
       "    </tr>\n",
       "    <tr>\n",
       "      <th>8090</th>\n",
       "      <td>2679</td>\n",
       "      <td>1996-04-04</td>\n",
       "      <td>Jeopardy!</td>\n",
       "      <td>BIBLICAL WORDS &amp; PHRASES</td>\n",
       "      <td>$500</td>\n",
       "      <td>\"Pale Horse\" is a metaphor for the approach of...</td>\n",
       "      <td>Death</td>\n",
       "    </tr>\n",
       "    <tr>\n",
       "      <th>12296</th>\n",
       "      <td>5332</td>\n",
       "      <td>2007-11-13</td>\n",
       "      <td>Double Jeopardy!</td>\n",
       "      <td>YOGA TIME</td>\n",
       "      <td>$1600</td>\n",
       "      <td>Yoga is mentioned in these ancient religious t...</td>\n",
       "      <td>the Vedas</td>\n",
       "    </tr>\n",
       "    <tr>\n",
       "      <th>...</th>\n",
       "      <td>...</td>\n",
       "      <td>...</td>\n",
       "      <td>...</td>\n",
       "      <td>...</td>\n",
       "      <td>...</td>\n",
       "      <td>...</td>\n",
       "      <td>...</td>\n",
       "    </tr>\n",
       "    <tr>\n",
       "      <th>5569</th>\n",
       "      <td>5173</td>\n",
       "      <td>2007-02-21</td>\n",
       "      <td>Final Jeopardy!</td>\n",
       "      <td>EXPLORERS</td>\n",
       "      <td>None</td>\n",
       "      <td>In 1616, after Hudson died, this man became th...</td>\n",
       "      <td>(William) Baffin</td>\n",
       "    </tr>\n",
       "    <tr>\n",
       "      <th>10280</th>\n",
       "      <td>3205</td>\n",
       "      <td>1998-07-03</td>\n",
       "      <td>Double Jeopardy!</td>\n",
       "      <td>PEOPLE WITH FOOD NAMES</td>\n",
       "      <td>$800</td>\n",
       "      <td>\"King of the Hill\"'s guitar-playing comedian C...</td>\n",
       "      <td>Carrot Top</td>\n",
       "    </tr>\n",
       "    <tr>\n",
       "      <th>13175</th>\n",
       "      <td>4849</td>\n",
       "      <td>2005-10-13</td>\n",
       "      <td>Double Jeopardy!</td>\n",
       "      <td>MUSIC CLASS</td>\n",
       "      <td>$1200</td>\n",
       "      <td>In a symphony orchestra, this section of instr...</td>\n",
       "      <td>percussion</td>\n",
       "    </tr>\n",
       "    <tr>\n",
       "      <th>5281</th>\n",
       "      <td>5903</td>\n",
       "      <td>2010-04-21</td>\n",
       "      <td>Jeopardy!</td>\n",
       "      <td>BUSY AS A BEAVER</td>\n",
       "      <td>$600</td>\n",
       "      <td>Grey Beaver is the first master of this Jack L...</td>\n",
       "      <td>White Fang</td>\n",
       "    </tr>\n",
       "    <tr>\n",
       "      <th>2326</th>\n",
       "      <td>4595</td>\n",
       "      <td>2004-07-23</td>\n",
       "      <td>Jeopardy!</td>\n",
       "      <td>TRANSPORTATION</td>\n",
       "      <td>$200</td>\n",
       "      <td>The twin rotor type of this has 2 main rotors ...</td>\n",
       "      <td>a helicopter</td>\n",
       "    </tr>\n",
       "  </tbody>\n",
       "</table>\n",
       "<p>19999 rows × 7 columns</p>\n",
       "</div>"
      ],
      "text/plain": [
       "       Show Number    Air Date             Round                    Category  \\\n",
       "11708         2903  1997-03-26  Double Jeopardy!         YOUTH ORGANIZATIONS   \n",
       "8894          6293  2012-01-18  Double Jeopardy!            BARTLETT'S PAIRS   \n",
       "3706          4398  2003-10-22         Jeopardy!  A TOM CRUISE FILM FESTIVAL   \n",
       "8090          2679  1996-04-04         Jeopardy!    BIBLICAL WORDS & PHRASES   \n",
       "12296         5332  2007-11-13  Double Jeopardy!                   YOGA TIME   \n",
       "...            ...         ...               ...                         ...   \n",
       "5569          5173  2007-02-21   Final Jeopardy!                   EXPLORERS   \n",
       "10280         3205  1998-07-03  Double Jeopardy!      PEOPLE WITH FOOD NAMES   \n",
       "13175         4849  2005-10-13  Double Jeopardy!                 MUSIC CLASS   \n",
       "5281          5903  2010-04-21         Jeopardy!            BUSY AS A BEAVER   \n",
       "2326          4595  2004-07-23         Jeopardy!              TRANSPORTATION   \n",
       "\n",
       "       Value                                           Question  \\\n",
       "11708   $600  A team from Williamsport, PA. won this athleti...   \n",
       "8894   $1600  The 2 quotes by Charles Evans Hughes, the USA'...   \n",
       "3706    $200  \"I lost the Number 1 draft pick the night befo...   \n",
       "8090    $500  \"Pale Horse\" is a metaphor for the approach of...   \n",
       "12296  $1600  Yoga is mentioned in these ancient religious t...   \n",
       "...      ...                                                ...   \n",
       "5569    None  In 1616, after Hudson died, this man became th...   \n",
       "10280   $800  \"King of the Hill\"'s guitar-playing comedian C...   \n",
       "13175  $1200  In a symphony orchestra, this section of instr...   \n",
       "5281    $600  Grey Beaver is the first master of this Jack L...   \n",
       "2326    $200  The twin rotor type of this has 2 main rotors ...   \n",
       "\n",
       "                 Answer  \n",
       "11708     Little League  \n",
       "8894      Chief Justice  \n",
       "3706      Jerry Maguire  \n",
       "8090              Death  \n",
       "12296         the Vedas  \n",
       "...                 ...  \n",
       "5569   (William) Baffin  \n",
       "10280        Carrot Top  \n",
       "13175        percussion  \n",
       "5281         White Fang  \n",
       "2326       a helicopter  \n",
       "\n",
       "[19999 rows x 7 columns]"
      ]
     },
     "execution_count": 9,
     "metadata": {},
     "output_type": "execute_result"
    }
   ],
   "source": [
    "df.loc[np.random.permutation(df.index)]"
   ]
  },
  {
   "cell_type": "code",
   "execution_count": 3,
   "metadata": {
    "collapsed": false,
    "jupyter": {
     "outputs_hidden": false
    },
    "scrolled": true
   },
   "outputs": [
    {
     "data": {
      "text/html": [
       "<div>\n",
       "<style scoped>\n",
       "    .dataframe tbody tr th:only-of-type {\n",
       "        vertical-align: middle;\n",
       "    }\n",
       "\n",
       "    .dataframe tbody tr th {\n",
       "        vertical-align: top;\n",
       "    }\n",
       "\n",
       "    .dataframe thead th {\n",
       "        text-align: right;\n",
       "    }\n",
       "</style>\n",
       "<table border=\"1\" class=\"dataframe\">\n",
       "  <thead>\n",
       "    <tr style=\"text-align: right;\">\n",
       "      <th></th>\n",
       "      <th>Show Number</th>\n",
       "      <th>Air Date</th>\n",
       "      <th>Round</th>\n",
       "      <th>Category</th>\n",
       "      <th>Value</th>\n",
       "      <th>Question</th>\n",
       "      <th>Answer</th>\n",
       "    </tr>\n",
       "  </thead>\n",
       "  <tbody>\n",
       "    <tr>\n",
       "      <th>0</th>\n",
       "      <td>4680</td>\n",
       "      <td>2004-12-31</td>\n",
       "      <td>Jeopardy!</td>\n",
       "      <td>HISTORY</td>\n",
       "      <td>$200</td>\n",
       "      <td>For the last 8 years of his life, Galileo was ...</td>\n",
       "      <td>Copernicus</td>\n",
       "    </tr>\n",
       "    <tr>\n",
       "      <th>1</th>\n",
       "      <td>4680</td>\n",
       "      <td>2004-12-31</td>\n",
       "      <td>Jeopardy!</td>\n",
       "      <td>ESPN's TOP 10 ALL-TIME ATHLETES</td>\n",
       "      <td>$200</td>\n",
       "      <td>No. 2: 1912 Olympian; football star at Carlisl...</td>\n",
       "      <td>Jim Thorpe</td>\n",
       "    </tr>\n",
       "    <tr>\n",
       "      <th>2</th>\n",
       "      <td>4680</td>\n",
       "      <td>2004-12-31</td>\n",
       "      <td>Jeopardy!</td>\n",
       "      <td>EVERYBODY TALKS ABOUT IT...</td>\n",
       "      <td>$200</td>\n",
       "      <td>The city of Yuma in this state has a record av...</td>\n",
       "      <td>Arizona</td>\n",
       "    </tr>\n",
       "    <tr>\n",
       "      <th>3</th>\n",
       "      <td>4680</td>\n",
       "      <td>2004-12-31</td>\n",
       "      <td>Jeopardy!</td>\n",
       "      <td>THE COMPANY LINE</td>\n",
       "      <td>$200</td>\n",
       "      <td>In 1963, live on \"The Art Linkletter Show\", th...</td>\n",
       "      <td>McDonald's</td>\n",
       "    </tr>\n",
       "    <tr>\n",
       "      <th>4</th>\n",
       "      <td>4680</td>\n",
       "      <td>2004-12-31</td>\n",
       "      <td>Jeopardy!</td>\n",
       "      <td>EPITAPHS &amp; TRIBUTES</td>\n",
       "      <td>$200</td>\n",
       "      <td>Signer of the Dec. of Indep., framer of the Co...</td>\n",
       "      <td>John Adams</td>\n",
       "    </tr>\n",
       "  </tbody>\n",
       "</table>\n",
       "</div>"
      ],
      "text/plain": [
       "   Show Number    Air Date      Round                         Category  Value  \\\n",
       "0         4680  2004-12-31  Jeopardy!                          HISTORY   $200   \n",
       "1         4680  2004-12-31  Jeopardy!  ESPN's TOP 10 ALL-TIME ATHLETES   $200   \n",
       "2         4680  2004-12-31  Jeopardy!      EVERYBODY TALKS ABOUT IT...   $200   \n",
       "3         4680  2004-12-31  Jeopardy!                 THE COMPANY LINE   $200   \n",
       "4         4680  2004-12-31  Jeopardy!              EPITAPHS & TRIBUTES   $200   \n",
       "\n",
       "                                            Question      Answer  \n",
       "0  For the last 8 years of his life, Galileo was ...  Copernicus  \n",
       "1  No. 2: 1912 Olympian; football star at Carlisl...  Jim Thorpe  \n",
       "2  The city of Yuma in this state has a record av...     Arizona  \n",
       "3  In 1963, live on \"The Art Linkletter Show\", th...  McDonald's  \n",
       "4  Signer of the Dec. of Indep., framer of the Co...  John Adams  "
      ]
     },
     "execution_count": 3,
     "metadata": {},
     "output_type": "execute_result"
    }
   ],
   "source": [
    "df.head()"
   ]
  },
  {
   "cell_type": "code",
   "execution_count": 4,
   "metadata": {
    "collapsed": false,
    "jupyter": {
     "outputs_hidden": false
    }
   },
   "outputs": [
    {
     "data": {
      "text/plain": [
       "Index(['Show Number', ' Air Date', ' Round', ' Category', ' Value',\n",
       "       ' Question', ' Answer'],\n",
       "      dtype='object')"
      ]
     },
     "execution_count": 4,
     "metadata": {},
     "output_type": "execute_result"
    }
   ],
   "source": [
    "df.columns"
   ]
  },
  {
   "cell_type": "code",
   "execution_count": 5,
   "metadata": {
    "collapsed": false,
    "jupyter": {
     "outputs_hidden": false
    }
   },
   "outputs": [],
   "source": [
    "# remove space from the columns\n",
    "df.columns = pd.Series(df.columns).str.strip()"
   ]
  },
  {
   "cell_type": "code",
   "execution_count": 6,
   "metadata": {
    "collapsed": false,
    "jupyter": {
     "outputs_hidden": false
    }
   },
   "outputs": [
    {
     "data": {
      "text/plain": [
       "Index(['Show Number', 'Air Date', 'Round', 'Category', 'Value', 'Question',\n",
       "       'Answer'],\n",
       "      dtype='object')"
      ]
     },
     "execution_count": 6,
     "metadata": {},
     "output_type": "execute_result"
    }
   ],
   "source": [
    "df.columns"
   ]
  },
  {
   "cell_type": "code",
   "execution_count": 7,
   "metadata": {},
   "outputs": [],
   "source": [
    "import re\n",
    "def normal_str(my_str):\n",
    "    '''\n",
    "    Normalize any string by removing all punctuation and lowercasing it.\n",
    "    '''\n",
    "    new_str = my_str.lower()\n",
    "    return re.sub('\\W',' ',new_str)\n",
    "    "
   ]
  },
  {
   "cell_type": "code",
   "execution_count": 8,
   "metadata": {
    "collapsed": false,
    "jupyter": {
     "outputs_hidden": false
    }
   },
   "outputs": [],
   "source": [
    "df['clean_question'] = df['Question'].apply(normal_str)\n",
    "df['clean_answer'] = df['Answer'].apply(normal_str)"
   ]
  },
  {
   "cell_type": "code",
   "execution_count": 9,
   "metadata": {},
   "outputs": [],
   "source": [
    "df['Air Date'] = pd.to_datetime(df['Air Date'])"
   ]
  },
  {
   "cell_type": "code",
   "execution_count": 10,
   "metadata": {},
   "outputs": [],
   "source": [
    "def normal_money(my_dol):\n",
    "    '''\n",
    "    Normalize any number-string by removing punctuation and\n",
    "    converting it to an integer\n",
    "    '''\n",
    "    try:\n",
    "        new_dol = re.sub('\\W','',my_dol)\n",
    "        return int(new_dol)\n",
    "    except:\n",
    "        return 0"
   ]
  },
  {
   "cell_type": "code",
   "execution_count": 11,
   "metadata": {
    "collapsed": false,
    "jupyter": {
     "outputs_hidden": false
    }
   },
   "outputs": [],
   "source": [
    "df['clean_value'] = df['Value'].apply(normal_money)"
   ]
  },
  {
   "cell_type": "markdown",
   "metadata": {},
   "source": [
    "# Analysis\n",
    "\n",
    "## How often can the answer be deduced from the question?\n",
    "\n",
    "Strategy: Count how many times the answer contains words from the question."
   ]
  },
  {
   "cell_type": "code",
   "execution_count": 12,
   "metadata": {},
   "outputs": [],
   "source": [
    "def ans_v_ques(row):\n",
    "    '''\n",
    "    Counts how many times each word in the answer\n",
    "    also occurs in the question\n",
    "    '''\n",
    "    split_answer = row['clean_answer'].split(' ')\n",
    "    split_question = row['clean_question'].split(' ')\n",
    "    \n",
    "    match_count = 0\n",
    "    if 'the' in split_answer:\n",
    "        split_answer.remove('the')\n",
    "    if len(split_answer) == 0:\n",
    "        return 0\n",
    "    for ans in split_answer:\n",
    "        if ans in split_question:\n",
    "            match_count += 1\n",
    "    return match_count/(len(split_answer))"
   ]
  },
  {
   "cell_type": "code",
   "execution_count": 13,
   "metadata": {},
   "outputs": [],
   "source": [
    "# apply the function to all rows\n",
    "answer_in_question = df.apply(ans_v_ques, axis=1)"
   ]
  },
  {
   "cell_type": "code",
   "execution_count": 14,
   "metadata": {},
   "outputs": [],
   "source": [
    "df['answer_in_question'] = answer_in_question"
   ]
  },
  {
   "cell_type": "code",
   "execution_count": 15,
   "metadata": {
    "collapsed": false,
    "jupyter": {
     "outputs_hidden": false
    }
   },
   "outputs": [
    {
     "data": {
      "text/plain": [
       "0.09565366087691443"
      ]
     },
     "execution_count": 15,
     "metadata": {},
     "output_type": "execute_result"
    }
   ],
   "source": [
    "answer_in_question.mean()"
   ]
  },
  {
   "cell_type": "markdown",
   "metadata": {},
   "source": [
    "On average, 9.5% of the words in the answer are repeats from the question. While it might be useful to use the question itself as a clue for the answer, our rough estimate is that 90.5% of the questions do not explicitly hint at the answer in Jeopardy."
   ]
  },
  {
   "cell_type": "markdown",
   "metadata": {},
   "source": [
    "## How often are old questions repeated?\n",
    "\n",
    "Strategy: Count how often words that are >6 characters in length reoccur over time."
   ]
  },
  {
   "cell_type": "code",
   "execution_count": 16,
   "metadata": {
    "collapsed": false,
    "jupyter": {
     "outputs_hidden": false
    },
    "scrolled": true
   },
   "outputs": [
    {
     "data": {
      "text/html": [
       "<div>\n",
       "<style scoped>\n",
       "    .dataframe tbody tr th:only-of-type {\n",
       "        vertical-align: middle;\n",
       "    }\n",
       "\n",
       "    .dataframe tbody tr th {\n",
       "        vertical-align: top;\n",
       "    }\n",
       "\n",
       "    .dataframe thead th {\n",
       "        text-align: right;\n",
       "    }\n",
       "</style>\n",
       "<table border=\"1\" class=\"dataframe\">\n",
       "  <thead>\n",
       "    <tr style=\"text-align: right;\">\n",
       "      <th></th>\n",
       "      <th>Show Number</th>\n",
       "      <th>Air Date</th>\n",
       "      <th>Round</th>\n",
       "      <th>Category</th>\n",
       "      <th>Value</th>\n",
       "      <th>Question</th>\n",
       "      <th>Answer</th>\n",
       "      <th>clean_question</th>\n",
       "      <th>clean_answer</th>\n",
       "      <th>clean_value</th>\n",
       "      <th>answer_in_question</th>\n",
       "    </tr>\n",
       "  </thead>\n",
       "  <tbody>\n",
       "    <tr>\n",
       "      <th>19325</th>\n",
       "      <td>10</td>\n",
       "      <td>1984-09-21</td>\n",
       "      <td>Final Jeopardy!</td>\n",
       "      <td>U.S. PRESIDENTS</td>\n",
       "      <td>None</td>\n",
       "      <td>Adventurous 26th president, he was 1st to ride...</td>\n",
       "      <td>Theodore Roosevelt</td>\n",
       "      <td>adventurous 26th president  he was 1st to ride...</td>\n",
       "      <td>theodore roosevelt</td>\n",
       "      <td>0</td>\n",
       "      <td>0.0</td>\n",
       "    </tr>\n",
       "    <tr>\n",
       "      <th>19301</th>\n",
       "      <td>10</td>\n",
       "      <td>1984-09-21</td>\n",
       "      <td>Double Jeopardy!</td>\n",
       "      <td>LABOR UNIONS</td>\n",
       "      <td>$200</td>\n",
       "      <td>Notorious labor leader missing since '75</td>\n",
       "      <td>Jimmy Hoffa</td>\n",
       "      <td>notorious labor leader missing since  75</td>\n",
       "      <td>jimmy hoffa</td>\n",
       "      <td>200</td>\n",
       "      <td>0.0</td>\n",
       "    </tr>\n",
       "    <tr>\n",
       "      <th>19302</th>\n",
       "      <td>10</td>\n",
       "      <td>1984-09-21</td>\n",
       "      <td>Double Jeopardy!</td>\n",
       "      <td>1789</td>\n",
       "      <td>$200</td>\n",
       "      <td>Washington proclaimed Nov. 26, 1789 this first...</td>\n",
       "      <td>Thanksgiving</td>\n",
       "      <td>washington proclaimed nov  26  1789 this first...</td>\n",
       "      <td>thanksgiving</td>\n",
       "      <td>200</td>\n",
       "      <td>0.0</td>\n",
       "    </tr>\n",
       "    <tr>\n",
       "      <th>19303</th>\n",
       "      <td>10</td>\n",
       "      <td>1984-09-21</td>\n",
       "      <td>Double Jeopardy!</td>\n",
       "      <td>TOURIST TRAPS</td>\n",
       "      <td>$200</td>\n",
       "      <td>Both Ferde Grofe' &amp; the Colorado River dug thi...</td>\n",
       "      <td>the Grand Canyon</td>\n",
       "      <td>both ferde grofe    the colorado river dug thi...</td>\n",
       "      <td>the grand canyon</td>\n",
       "      <td>200</td>\n",
       "      <td>0.0</td>\n",
       "    </tr>\n",
       "    <tr>\n",
       "      <th>19304</th>\n",
       "      <td>10</td>\n",
       "      <td>1984-09-21</td>\n",
       "      <td>Double Jeopardy!</td>\n",
       "      <td>LITERATURE</td>\n",
       "      <td>$200</td>\n",
       "      <td>Depending on the book, he could be a \"Jones\", ...</td>\n",
       "      <td>Tom</td>\n",
       "      <td>depending on the book  he could be a  jones   ...</td>\n",
       "      <td>tom</td>\n",
       "      <td>200</td>\n",
       "      <td>0.0</td>\n",
       "    </tr>\n",
       "  </tbody>\n",
       "</table>\n",
       "</div>"
      ],
      "text/plain": [
       "       Show Number   Air Date             Round         Category Value  \\\n",
       "19325           10 1984-09-21   Final Jeopardy!  U.S. PRESIDENTS  None   \n",
       "19301           10 1984-09-21  Double Jeopardy!     LABOR UNIONS  $200   \n",
       "19302           10 1984-09-21  Double Jeopardy!             1789  $200   \n",
       "19303           10 1984-09-21  Double Jeopardy!    TOURIST TRAPS  $200   \n",
       "19304           10 1984-09-21  Double Jeopardy!       LITERATURE  $200   \n",
       "\n",
       "                                                Question              Answer  \\\n",
       "19325  Adventurous 26th president, he was 1st to ride...  Theodore Roosevelt   \n",
       "19301           Notorious labor leader missing since '75         Jimmy Hoffa   \n",
       "19302  Washington proclaimed Nov. 26, 1789 this first...        Thanksgiving   \n",
       "19303  Both Ferde Grofe' & the Colorado River dug thi...    the Grand Canyon   \n",
       "19304  Depending on the book, he could be a \"Jones\", ...                 Tom   \n",
       "\n",
       "                                          clean_question        clean_answer  \\\n",
       "19325  adventurous 26th president  he was 1st to ride...  theodore roosevelt   \n",
       "19301           notorious labor leader missing since  75         jimmy hoffa   \n",
       "19302  washington proclaimed nov  26  1789 this first...        thanksgiving   \n",
       "19303  both ferde grofe    the colorado river dug thi...    the grand canyon   \n",
       "19304  depending on the book  he could be a  jones   ...                 tom   \n",
       "\n",
       "       clean_value  answer_in_question  \n",
       "19325            0                 0.0  \n",
       "19301          200                 0.0  \n",
       "19302          200                 0.0  \n",
       "19303          200                 0.0  \n",
       "19304          200                 0.0  "
      ]
     },
     "execution_count": 16,
     "metadata": {},
     "output_type": "execute_result"
    }
   ],
   "source": [
    "df = df.sort_values('Air Date')\n",
    "df.head()"
   ]
  },
  {
   "cell_type": "code",
   "execution_count": 17,
   "metadata": {
    "collapsed": false,
    "jupyter": {
     "outputs_hidden": false
    }
   },
   "outputs": [],
   "source": [
    "question_overlap = []\n",
    "terms_used = set()\n",
    "\n",
    "for index, row in df.iterrows():\n",
    "    split_question = row['clean_question'].split(' ')\n",
    "    split_question = [word for word in split_question if len(word)>=6]\n",
    "    \n",
    "    match_count = 0\n",
    "    for word in split_question:\n",
    "        if word in terms_used:\n",
    "            match_count +=1\n",
    "        terms_used.add(word)\n",
    "    if len(split_question) > 0:\n",
    "        question_overlap.append(round(match_count/len(split_question),2))\n",
    "    else:\n",
    "        question_overlap.append(0)"
   ]
  },
  {
   "cell_type": "code",
   "execution_count": 18,
   "metadata": {
    "collapsed": false,
    "jupyter": {
     "outputs_hidden": false
    }
   },
   "outputs": [],
   "source": [
    "df['question_overlap'] = question_overlap"
   ]
  },
  {
   "cell_type": "code",
   "execution_count": 19,
   "metadata": {
    "collapsed": false,
    "jupyter": {
     "outputs_hidden": false
    },
    "scrolled": true
   },
   "outputs": [
    {
     "data": {
      "text/html": [
       "<div>\n",
       "<style scoped>\n",
       "    .dataframe tbody tr th:only-of-type {\n",
       "        vertical-align: middle;\n",
       "    }\n",
       "\n",
       "    .dataframe tbody tr th {\n",
       "        vertical-align: top;\n",
       "    }\n",
       "\n",
       "    .dataframe thead th {\n",
       "        text-align: right;\n",
       "    }\n",
       "</style>\n",
       "<table border=\"1\" class=\"dataframe\">\n",
       "  <thead>\n",
       "    <tr style=\"text-align: right;\">\n",
       "      <th></th>\n",
       "      <th>Show Number</th>\n",
       "      <th>Air Date</th>\n",
       "      <th>Round</th>\n",
       "      <th>Category</th>\n",
       "      <th>Value</th>\n",
       "      <th>Question</th>\n",
       "      <th>Answer</th>\n",
       "      <th>clean_question</th>\n",
       "      <th>clean_answer</th>\n",
       "      <th>clean_value</th>\n",
       "      <th>answer_in_question</th>\n",
       "      <th>question_overlap</th>\n",
       "    </tr>\n",
       "  </thead>\n",
       "  <tbody>\n",
       "    <tr>\n",
       "      <th>19325</th>\n",
       "      <td>10</td>\n",
       "      <td>1984-09-21</td>\n",
       "      <td>Final Jeopardy!</td>\n",
       "      <td>U.S. PRESIDENTS</td>\n",
       "      <td>None</td>\n",
       "      <td>Adventurous 26th president, he was 1st to ride...</td>\n",
       "      <td>Theodore Roosevelt</td>\n",
       "      <td>adventurous 26th president  he was 1st to ride...</td>\n",
       "      <td>theodore roosevelt</td>\n",
       "      <td>0</td>\n",
       "      <td>0.0</td>\n",
       "      <td>0.0</td>\n",
       "    </tr>\n",
       "    <tr>\n",
       "      <th>19301</th>\n",
       "      <td>10</td>\n",
       "      <td>1984-09-21</td>\n",
       "      <td>Double Jeopardy!</td>\n",
       "      <td>LABOR UNIONS</td>\n",
       "      <td>$200</td>\n",
       "      <td>Notorious labor leader missing since '75</td>\n",
       "      <td>Jimmy Hoffa</td>\n",
       "      <td>notorious labor leader missing since  75</td>\n",
       "      <td>jimmy hoffa</td>\n",
       "      <td>200</td>\n",
       "      <td>0.0</td>\n",
       "      <td>0.0</td>\n",
       "    </tr>\n",
       "    <tr>\n",
       "      <th>19302</th>\n",
       "      <td>10</td>\n",
       "      <td>1984-09-21</td>\n",
       "      <td>Double Jeopardy!</td>\n",
       "      <td>1789</td>\n",
       "      <td>$200</td>\n",
       "      <td>Washington proclaimed Nov. 26, 1789 this first...</td>\n",
       "      <td>Thanksgiving</td>\n",
       "      <td>washington proclaimed nov  26  1789 this first...</td>\n",
       "      <td>thanksgiving</td>\n",
       "      <td>200</td>\n",
       "      <td>0.0</td>\n",
       "      <td>0.0</td>\n",
       "    </tr>\n",
       "    <tr>\n",
       "      <th>19303</th>\n",
       "      <td>10</td>\n",
       "      <td>1984-09-21</td>\n",
       "      <td>Double Jeopardy!</td>\n",
       "      <td>TOURIST TRAPS</td>\n",
       "      <td>$200</td>\n",
       "      <td>Both Ferde Grofe' &amp; the Colorado River dug thi...</td>\n",
       "      <td>the Grand Canyon</td>\n",
       "      <td>both ferde grofe    the colorado river dug thi...</td>\n",
       "      <td>the grand canyon</td>\n",
       "      <td>200</td>\n",
       "      <td>0.0</td>\n",
       "      <td>0.5</td>\n",
       "    </tr>\n",
       "    <tr>\n",
       "      <th>19304</th>\n",
       "      <td>10</td>\n",
       "      <td>1984-09-21</td>\n",
       "      <td>Double Jeopardy!</td>\n",
       "      <td>LITERATURE</td>\n",
       "      <td>$200</td>\n",
       "      <td>Depending on the book, he could be a \"Jones\", ...</td>\n",
       "      <td>Tom</td>\n",
       "      <td>depending on the book  he could be a  jones   ...</td>\n",
       "      <td>tom</td>\n",
       "      <td>200</td>\n",
       "      <td>0.0</td>\n",
       "      <td>0.0</td>\n",
       "    </tr>\n",
       "  </tbody>\n",
       "</table>\n",
       "</div>"
      ],
      "text/plain": [
       "       Show Number   Air Date             Round         Category Value  \\\n",
       "19325           10 1984-09-21   Final Jeopardy!  U.S. PRESIDENTS  None   \n",
       "19301           10 1984-09-21  Double Jeopardy!     LABOR UNIONS  $200   \n",
       "19302           10 1984-09-21  Double Jeopardy!             1789  $200   \n",
       "19303           10 1984-09-21  Double Jeopardy!    TOURIST TRAPS  $200   \n",
       "19304           10 1984-09-21  Double Jeopardy!       LITERATURE  $200   \n",
       "\n",
       "                                                Question              Answer  \\\n",
       "19325  Adventurous 26th president, he was 1st to ride...  Theodore Roosevelt   \n",
       "19301           Notorious labor leader missing since '75         Jimmy Hoffa   \n",
       "19302  Washington proclaimed Nov. 26, 1789 this first...        Thanksgiving   \n",
       "19303  Both Ferde Grofe' & the Colorado River dug thi...    the Grand Canyon   \n",
       "19304  Depending on the book, he could be a \"Jones\", ...                 Tom   \n",
       "\n",
       "                                          clean_question        clean_answer  \\\n",
       "19325  adventurous 26th president  he was 1st to ride...  theodore roosevelt   \n",
       "19301           notorious labor leader missing since  75         jimmy hoffa   \n",
       "19302  washington proclaimed nov  26  1789 this first...        thanksgiving   \n",
       "19303  both ferde grofe    the colorado river dug thi...    the grand canyon   \n",
       "19304  depending on the book  he could be a  jones   ...                 tom   \n",
       "\n",
       "       clean_value  answer_in_question  question_overlap  \n",
       "19325            0                 0.0               0.0  \n",
       "19301          200                 0.0               0.0  \n",
       "19302          200                 0.0               0.0  \n",
       "19303          200                 0.0               0.5  \n",
       "19304          200                 0.0               0.0  "
      ]
     },
     "execution_count": 19,
     "metadata": {},
     "output_type": "execute_result"
    }
   ],
   "source": [
    "df.head()"
   ]
  },
  {
   "cell_type": "code",
   "execution_count": 20,
   "metadata": {
    "collapsed": false,
    "jupyter": {
     "outputs_hidden": false
    }
   },
   "outputs": [
    {
     "data": {
      "text/plain": [
       "0.721711585579279"
      ]
     },
     "execution_count": 20,
     "metadata": {},
     "output_type": "execute_result"
    }
   ],
   "source": [
    "df['question_overlap'].mean()"
   ]
  },
  {
   "cell_type": "markdown",
   "metadata": {},
   "source": [
    "Our process for each row was to:\n",
    "\n",
    "1. Split the question into a list of words\n",
    "2. Eliminate any words that were <6 characters long from the list\n",
    "3. Create a set of words (sets only contain unique items)\n",
    "4. If a word from our question exists in the set, increment the counter by 1\n",
    "5. Finally, we calculate the proportion of repeated:total words. In other words (pun intended) the average number of repeated words for the question and append it to a new list.\n",
    "\n",
    "The mean of the average-repeated-words is 0.72. On average, 72% of words >6 characters long were repeated from previous questions. "
   ]
  },
  {
   "cell_type": "code",
   "execution_count": 21,
   "metadata": {
    "collapsed": false,
    "jupyter": {
     "outputs_hidden": false
    }
   },
   "outputs": [
    {
     "data": {
      "text/plain": [
       "1.00    7110\n",
       "0.50    1910\n",
       "0.67    1790\n",
       "0.75    1537\n",
       "0.00    1515\n",
       "0.80    1294\n",
       "0.83     814\n",
       "0.60     801\n",
       "0.33     613\n",
       "0.86     470\n",
       "Name: question_overlap, dtype: int64"
      ]
     },
     "execution_count": 21,
     "metadata": {},
     "output_type": "execute_result"
    }
   ],
   "source": [
    "df['question_overlap'].value_counts().head(10)"
   ]
  },
  {
   "cell_type": "code",
   "execution_count": 22,
   "metadata": {
    "collapsed": false,
    "jupyter": {
     "outputs_hidden": false
    }
   },
   "outputs": [
    {
     "data": {
      "text/plain": [
       "12193"
      ]
     },
     "execution_count": 22,
     "metadata": {},
     "output_type": "execute_result"
    }
   ],
   "source": [
    "qo = df['question_overlap'].value_counts().reset_index()\n",
    "qo.columns=['avg_repeat','number_of_questions']\n",
    "qo[qo['avg_repeat']>=0.7]['number_of_questions'].sum()"
   ]
  },
  {
   "cell_type": "markdown",
   "metadata": {},
   "source": [
    "Approximately 7114 questions had all \"long words\" previously used in other questions. Furthermore, 12,204 questions out of the total 20,000 had more at least 70% of their \"long words\" repeated from previous questions.\n",
    "\n",
    "Based on this information, we would recommend reviewing previous questions."
   ]
  },
  {
   "cell_type": "markdown",
   "metadata": {},
   "source": [
    "## What characterizes high value questions?\n",
    "\n",
    "To answer this question we will find the observed and expected counts for 10 terms, then run a Chisquare to see if there are any differences."
   ]
  },
  {
   "cell_type": "markdown",
   "metadata": {},
   "source": [
    "### Observed Counts"
   ]
  },
  {
   "cell_type": "code",
   "execution_count": 23,
   "metadata": {},
   "outputs": [],
   "source": [
    "df['high_value'] = df['clean_value'].apply(lambda x: 1 if x > 800 else 0)"
   ]
  },
  {
   "cell_type": "code",
   "execution_count": 24,
   "metadata": {},
   "outputs": [],
   "source": [
    "def word_values(word):\n",
    "    low_count = 0\n",
    "    high_count = 0\n",
    "    \n",
    "    for index, row in df.iterrows():\n",
    "        cleanq_list = row['clean_question'].split()\n",
    "        if word in cleanq_list:\n",
    "            if row['high_value'] == 1:\n",
    "                high_count += 1\n",
    "            else:\n",
    "                low_count += 1\n",
    "    return [high_count,low_count]"
   ]
  },
  {
   "cell_type": "code",
   "execution_count": 25,
   "metadata": {},
   "outputs": [],
   "source": [
    "import random"
   ]
  },
  {
   "cell_type": "code",
   "execution_count": 26,
   "metadata": {},
   "outputs": [],
   "source": [
    "random.seed(a=2)\n",
    "comparison_terms = random.sample(terms_used,10, )"
   ]
  },
  {
   "cell_type": "code",
   "execution_count": 27,
   "metadata": {},
   "outputs": [
    {
     "data": {
      "text/plain": [
       "['curtis',\n",
       " 'indians',\n",
       " 'expensive',\n",
       " 'catkins',\n",
       " 'recreational',\n",
       " 'tierney',\n",
       " 'residence',\n",
       " '22_j_30',\n",
       " '07_dj_16',\n",
       " 'tuesday']"
      ]
     },
     "execution_count": 27,
     "metadata": {},
     "output_type": "execute_result"
    }
   ],
   "source": [
    "comparison_terms"
   ]
  },
  {
   "cell_type": "code",
   "execution_count": 28,
   "metadata": {},
   "outputs": [],
   "source": [
    "observed_words_count = {}\n",
    "for word in comparison_terms:\n",
    "    observed_words_count[word] = word_values(word)"
   ]
  },
  {
   "cell_type": "code",
   "execution_count": 29,
   "metadata": {
    "collapsed": false,
    "jupyter": {
     "outputs_hidden": false
    }
   },
   "outputs": [
    {
     "data": {
      "text/plain": [
       "{'curtis': [2, 3],\n",
       " 'indians': [4, 8],\n",
       " 'expensive': [0, 8],\n",
       " 'catkins': [1, 0],\n",
       " 'recreational': [0, 1],\n",
       " 'tierney': [0, 1],\n",
       " 'residence': [4, 4],\n",
       " '22_j_30': [1, 0],\n",
       " '07_dj_16': [1, 0],\n",
       " 'tuesday': [0, 3]}"
      ]
     },
     "execution_count": 29,
     "metadata": {},
     "output_type": "execute_result"
    }
   ],
   "source": [
    "observed_words_count"
   ]
  },
  {
   "cell_type": "markdown",
   "metadata": {},
   "source": [
    "### Chisquare"
   ]
  },
  {
   "cell_type": "code",
   "execution_count": 30,
   "metadata": {
    "collapsed": false,
    "jupyter": {
     "outputs_hidden": false
    }
   },
   "outputs": [],
   "source": [
    "high_value_count = sum(df['high_value'] == 1)\n",
    "low_value_count = sum(df['high_value'] == 0)"
   ]
  },
  {
   "cell_type": "code",
   "execution_count": 31,
   "metadata": {},
   "outputs": [],
   "source": [
    "from scipy.stats import chisquare"
   ]
  },
  {
   "cell_type": "code",
   "execution_count": 32,
   "metadata": {
    "collapsed": false,
    "jupyter": {
     "outputs_hidden": false
    }
   },
   "outputs": [],
   "source": [
    "chi_squared = {}\n",
    "for key in observed_words_count:\n",
    "    value = observed_words_count[key] \n",
    "    total = sum(value) # number of questions word occurred in\n",
    "    total_prop = total/len(df) # proportion of occurences out of total questions\n",
    "    \n",
    "    exp_high_value = total_prop * high_value_count\n",
    "    exp_low_value = total_prop * low_value_count\n",
    "    \n",
    "    observed = np.array([value[0], value[1]])\n",
    "    expected = np.array([exp_high_value,exp_low_value]) # word_values() returns stat in high_count, low_count order\n",
    "    chi_squared[key] = chisquare(observed, expected)"
   ]
  },
  {
   "cell_type": "code",
   "execution_count": 33,
   "metadata": {
    "collapsed": false,
    "jupyter": {
     "outputs_hidden": false
    }
   },
   "outputs": [
    {
     "data": {
      "text/html": [
       "<div>\n",
       "<style scoped>\n",
       "    .dataframe tbody tr th:only-of-type {\n",
       "        vertical-align: middle;\n",
       "    }\n",
       "\n",
       "    .dataframe tbody tr th {\n",
       "        vertical-align: top;\n",
       "    }\n",
       "\n",
       "    .dataframe thead th {\n",
       "        text-align: right;\n",
       "    }\n",
       "</style>\n",
       "<table border=\"1\" class=\"dataframe\">\n",
       "  <thead>\n",
       "    <tr style=\"text-align: right;\">\n",
       "      <th></th>\n",
       "      <th>sum_of_chisq</th>\n",
       "      <th>p_value</th>\n",
       "    </tr>\n",
       "  </thead>\n",
       "  <tbody>\n",
       "    <tr>\n",
       "      <th>curtis</th>\n",
       "      <td>0.313767</td>\n",
       "      <td>0.575378</td>\n",
       "    </tr>\n",
       "    <tr>\n",
       "      <th>indians</th>\n",
       "      <td>0.127525</td>\n",
       "      <td>0.721012</td>\n",
       "    </tr>\n",
       "    <tr>\n",
       "      <th>expensive</th>\n",
       "      <td>3.215703</td>\n",
       "      <td>0.072935</td>\n",
       "    </tr>\n",
       "    <tr>\n",
       "      <th>catkins</th>\n",
       "      <td>2.487792</td>\n",
       "      <td>0.114733</td>\n",
       "    </tr>\n",
       "    <tr>\n",
       "      <th>recreational</th>\n",
       "      <td>0.401963</td>\n",
       "      <td>0.526077</td>\n",
       "    </tr>\n",
       "    <tr>\n",
       "      <th>tierney</th>\n",
       "      <td>0.401963</td>\n",
       "      <td>0.526077</td>\n",
       "    </tr>\n",
       "    <tr>\n",
       "      <th>residence</th>\n",
       "      <td>1.779510</td>\n",
       "      <td>0.182210</td>\n",
       "    </tr>\n",
       "    <tr>\n",
       "      <th>22_j_30</th>\n",
       "      <td>2.487792</td>\n",
       "      <td>0.114733</td>\n",
       "    </tr>\n",
       "    <tr>\n",
       "      <th>07_dj_16</th>\n",
       "      <td>2.487792</td>\n",
       "      <td>0.114733</td>\n",
       "    </tr>\n",
       "    <tr>\n",
       "      <th>tuesday</th>\n",
       "      <td>1.205889</td>\n",
       "      <td>0.272148</td>\n",
       "    </tr>\n",
       "  </tbody>\n",
       "</table>\n",
       "</div>"
      ],
      "text/plain": [
       "              sum_of_chisq   p_value\n",
       "curtis            0.313767  0.575378\n",
       "indians           0.127525  0.721012\n",
       "expensive         3.215703  0.072935\n",
       "catkins           2.487792  0.114733\n",
       "recreational      0.401963  0.526077\n",
       "tierney           0.401963  0.526077\n",
       "residence         1.779510  0.182210\n",
       "22_j_30           2.487792  0.114733\n",
       "07_dj_16          2.487792  0.114733\n",
       "tuesday           1.205889  0.272148"
      ]
     },
     "execution_count": 33,
     "metadata": {},
     "output_type": "execute_result"
    }
   ],
   "source": [
    "chi_df = pd.DataFrame(chi_squared).T\n",
    "chi_df.columns = ['sum_of_chisq','p_value']\n",
    "chi_df"
   ]
  },
  {
   "cell_type": "markdown",
   "metadata": {},
   "source": [
    "Some of our sample of 10 words occurred at statistically different rate from their expected appearance. The following words in our `comparison_terms` appeared statistically differently than expected:"
   ]
  },
  {
   "cell_type": "code",
   "execution_count": 34,
   "metadata": {},
   "outputs": [
    {
     "data": {
      "text/html": [
       "<div>\n",
       "<style scoped>\n",
       "    .dataframe tbody tr th:only-of-type {\n",
       "        vertical-align: middle;\n",
       "    }\n",
       "\n",
       "    .dataframe tbody tr th {\n",
       "        vertical-align: top;\n",
       "    }\n",
       "\n",
       "    .dataframe thead th {\n",
       "        text-align: right;\n",
       "    }\n",
       "</style>\n",
       "<table border=\"1\" class=\"dataframe\">\n",
       "  <thead>\n",
       "    <tr style=\"text-align: right;\">\n",
       "      <th></th>\n",
       "      <th>sum_of_chisq</th>\n",
       "      <th>p_value</th>\n",
       "    </tr>\n",
       "  </thead>\n",
       "  <tbody>\n",
       "    <tr>\n",
       "      <th>expensive</th>\n",
       "      <td>3.215703</td>\n",
       "      <td>0.072935</td>\n",
       "    </tr>\n",
       "  </tbody>\n",
       "</table>\n",
       "</div>"
      ],
      "text/plain": [
       "           sum_of_chisq   p_value\n",
       "expensive      3.215703  0.072935"
      ]
     },
     "execution_count": 34,
     "metadata": {},
     "output_type": "execute_result"
    }
   ],
   "source": [
    "chi_df[chi_df['p_value'] <= 0.1]"
   ]
  },
  {
   "cell_type": "markdown",
   "metadata": {},
   "source": [
    "If the word `pittsburgh` appeared randomly, only 0.1% of the values in a random sampling distribution would be greater than 10.70.\n",
    "\n",
    "There is a statistically significant difference between our expected and observed categorical values. In other words, `trucks` was used statistically more as either a high or low value word than expected."
   ]
  },
  {
   "cell_type": "markdown",
   "metadata": {},
   "source": [
    "______________________________\n",
    "This is incorrect"
   ]
  },
  {
   "cell_type": "markdown",
   "metadata": {},
   "source": [
    "### Manual permutation chisquare test with sampling distribution"
   ]
  },
  {
   "cell_type": "code",
   "execution_count": 35,
   "metadata": {},
   "outputs": [
    {
     "data": {
      "text/plain": [
       "{'curtis': [2, 3],\n",
       " 'indians': [4, 8],\n",
       " 'expensive': [0, 8],\n",
       " 'catkins': [1, 0],\n",
       " 'recreational': [0, 1],\n",
       " 'tierney': [0, 1],\n",
       " 'residence': [4, 4],\n",
       " '22_j_30': [1, 0],\n",
       " '07_dj_16': [1, 0],\n",
       " 'tuesday': [0, 3]}"
      ]
     },
     "execution_count": 35,
     "metadata": {},
     "output_type": "execute_result"
    }
   ],
   "source": [
    "observed_words_count"
   ]
  },
  {
   "cell_type": "code",
   "execution_count": 36,
   "metadata": {},
   "outputs": [],
   "source": [
    "def chisq_calc(obs_list,exp_list):\n",
    "    differences = []\n",
    "    for i in range(len(obs_list)):\n",
    "        diff = ((obs_list[i]-exp_list[i])**2)/exp_list[i]\n",
    "        differences.append(diff)\n",
    "    return sum(differences)"
   ]
  },
  {
   "cell_type": "code",
   "execution_count": 51,
   "metadata": {},
   "outputs": [],
   "source": [
    "key = 'expensive'"
   ]
  },
  {
   "cell_type": "markdown",
   "metadata": {},
   "source": [
    "__null hypothesis:__ there is no difference in useage of the word during high and low value questions."
   ]
  },
  {
   "cell_type": "code",
   "execution_count": 52,
   "metadata": {},
   "outputs": [],
   "source": [
    "obs = observed_words_count[key]\n",
    "total = sum(obs)\n",
    "exp = [int(round(total/2)), int(round(total/2))]"
   ]
  },
  {
   "cell_type": "code",
   "execution_count": 53,
   "metadata": {},
   "outputs": [
    {
     "name": "stdout",
     "output_type": "stream",
     "text": [
      "\n",
      "observed: [0, 8]\n",
      "expected: [4, 4]\n",
      "total: 8\n",
      "\n"
     ]
    }
   ],
   "source": [
    "print(f'''\n",
    "observed: {obs}\n",
    "expected: {exp}\n",
    "total: {total}\n",
    "''')"
   ]
  },
  {
   "cell_type": "code",
   "execution_count": 54,
   "metadata": {},
   "outputs": [
    {
     "data": {
      "text/plain": [
       "8.0"
      ]
     },
     "execution_count": 54,
     "metadata": {},
     "output_type": "execute_result"
    }
   ],
   "source": [
    "obs_chisq = chisq_calc(obs, exp)\n",
    "obs_chisq"
   ]
  },
  {
   "cell_type": "code",
   "execution_count": 55,
   "metadata": {},
   "outputs": [],
   "source": [
    "sample_chisq_values = []\n",
    "\n",
    "for i in range(1000):\n",
    "    rando = np.random.random(total,)\n",
    "    rando[rando < 0.5] = 0 # low_value\n",
    "    rando[rando >= 0.5] = 1 # high_value\n",
    "    \n",
    "    low_v_count = sum(rando == 0)\n",
    "    high_v_count = sum(rando == 1)\n",
    "    \n",
    "    sample_obs = [high_v_count, low_v_count]\n",
    "    \n",
    "    sample_chisq_values.append(chisq_calc(sample_obs, expected))"
   ]
  },
  {
   "cell_type": "code",
   "execution_count": 56,
   "metadata": {},
   "outputs": [
    {
     "data": {
      "text/plain": [
       "[4, 4]"
      ]
     },
     "execution_count": 56,
     "metadata": {},
     "output_type": "execute_result"
    }
   ],
   "source": [
    "sample_obs"
   ]
  },
  {
   "cell_type": "code",
   "execution_count": 57,
   "metadata": {},
   "outputs": [],
   "source": [
    "import matplotlib.pyplot as plt"
   ]
  },
  {
   "cell_type": "code",
   "execution_count": 58,
   "metadata": {},
   "outputs": [
    {
     "data": {
      "text/plain": [
       "<matplotlib.legend.Legend at 0x7f937dcbc780>"
      ]
     },
     "execution_count": 58,
     "metadata": {},
     "output_type": "execute_result"
    },
    {
     "data": {
      "image/png": "[encoded data removed]",
      "text/plain": [
       "<Figure size 432x288 with 1 Axes>"
      ]
     },
     "metadata": {
      "needs_background": "light"
     },
     "output_type": "display_data"
    }
   ],
   "source": [
    "plt.hist(sample_chisq_values)\n",
    "plt.vlines(obs_chisq,0,800, color='red', linestyles=':', label='Observed chisq')\n",
    "plt.title(f'{key}: Histogram of Chisq from Random Sampling')\n",
    "plt.xlabel('Chi Squared')\n",
    "plt.ylabel('Number of samples')\n",
    "plt.legend()"
   ]
  },
  {
   "cell_type": "markdown",
   "metadata": {},
   "source": [
    "Our chi_sq of `obs_chi` is well outside the distribution of randomly-sampled expected values, and so not significantly different. For this reason, the word `trucks` was not used significantly more or less than expected in high or low-value questions."
   ]
  },
  {
   "cell_type": "code",
   "execution_count": 59,
   "metadata": {},
   "outputs": [
    {
     "name": "stdout",
     "output_type": "stream",
     "text": [
      "The p value is 1.0 which is > 0.1\n"
     ]
    }
   ],
   "source": [
    "p_value = sum(pd.Series(sample_chisq_values) > obs_chisq)/len(sample_chisq_values)\n",
    "if p_value <= 0.1:\n",
    "    print(f\"The p value is {p_value} which is <= 0.1\")\n",
    "else:\n",
    "    print(f\"The p value is {p_value} which is > 0.1\")"
   ]
  },
  {
   "cell_type": "markdown",
   "metadata": {},
   "source": [
    "2% of the `sample_chisq_values` are greater than our observed chisq value, so the p-value is 0.02 and thus statistically significant.\n",
    "\n",
    "In other words, there is a statistically significant difference in the use of the word in a high or low value question."
   ]
  },
  {
   "cell_type": "markdown",
   "metadata": {},
   "source": [
    "_____________________________________________"
   ]
  },
  {
   "cell_type": "markdown",
   "metadata": {},
   "source": [
    "# Playing with ChiSq"
   ]
  },
  {
   "cell_type": "markdown",
   "metadata": {},
   "source": [
    "From Dataquest, Step 5 mission 4"
   ]
  },
  {
   "cell_type": "markdown",
   "metadata": {},
   "source": [
    "## Manual"
   ]
  },
  {
   "cell_type": "code",
   "execution_count": 60,
   "metadata": {},
   "outputs": [],
   "source": [
    "# Number of observed people, by gender, in Town A\n",
    "df = pd.DataFrame({\n",
    "    'male':[21790],\n",
    "    'female':[10771]\n",
    "})"
   ]
  },
  {
   "cell_type": "code",
   "execution_count": 61,
   "metadata": {},
   "outputs": [
    {
     "data": {
      "text/html": [
       "<div>\n",
       "<style scoped>\n",
       "    .dataframe tbody tr th:only-of-type {\n",
       "        vertical-align: middle;\n",
       "    }\n",
       "\n",
       "    .dataframe tbody tr th {\n",
       "        vertical-align: top;\n",
       "    }\n",
       "\n",
       "    .dataframe thead th {\n",
       "        text-align: right;\n",
       "    }\n",
       "</style>\n",
       "<table border=\"1\" class=\"dataframe\">\n",
       "  <thead>\n",
       "    <tr style=\"text-align: right;\">\n",
       "      <th></th>\n",
       "      <th>male</th>\n",
       "      <th>female</th>\n",
       "    </tr>\n",
       "  </thead>\n",
       "  <tbody>\n",
       "    <tr>\n",
       "      <th>0</th>\n",
       "      <td>21790</td>\n",
       "      <td>10771</td>\n",
       "    </tr>\n",
       "  </tbody>\n",
       "</table>\n",
       "</div>"
      ],
      "text/plain": [
       "    male  female\n",
       "0  21790   10771"
      ]
     },
     "execution_count": 61,
     "metadata": {},
     "output_type": "execute_result"
    }
   ],
   "source": [
    "df"
   ]
  },
  {
   "cell_type": "code",
   "execution_count": 62,
   "metadata": {},
   "outputs": [],
   "source": [
    "observed = [df.loc[0,'male'],df.loc[0,'female']]\n",
    "total = df.sum(axis=1)[0]\n",
    "expected = [total/2, total/2]"
   ]
  },
  {
   "cell_type": "code",
   "execution_count": 63,
   "metadata": {},
   "outputs": [
    {
     "name": "stdout",
     "output_type": "stream",
     "text": [
      "\n",
      "observed: [21790, 10771]\n",
      "expected: [16280.5, 16280.5]\n",
      "total: 32561\n",
      "\n"
     ]
    }
   ],
   "source": [
    "print(f'''\n",
    "observed: {observed}\n",
    "expected: {expected}\n",
    "total: {total}\n",
    "''')"
   ]
  },
  {
   "cell_type": "markdown",
   "metadata": {},
   "source": [
    "__Question:__ Is there a significant difference between male and female numbers when compared to expected numbers?"
   ]
  },
  {
   "cell_type": "code",
   "execution_count": 64,
   "metadata": {},
   "outputs": [],
   "source": [
    "def chisq_calc(obs_list,exp_list):\n",
    "    differences = []\n",
    "    for i in range(len(obs_list)):\n",
    "        diff = ((obs_list[i]-exp_list[i])**2)/exp_list[i]\n",
    "        differences.append(diff)\n",
    "    return sum(differences)"
   ]
  },
  {
   "cell_type": "code",
   "execution_count": 65,
   "metadata": {},
   "outputs": [],
   "source": [
    "my_chisq = chisq_calc(observed, expected)"
   ]
  },
  {
   "cell_type": "code",
   "execution_count": 66,
   "metadata": {},
   "outputs": [
    {
     "data": {
      "text/plain": [
       "3728.950615767329"
      ]
     },
     "execution_count": 66,
     "metadata": {},
     "output_type": "execute_result"
    }
   ],
   "source": [
    "my_chisq"
   ]
  },
  {
   "cell_type": "code",
   "execution_count": 67,
   "metadata": {},
   "outputs": [],
   "source": [
    "chi_values = []\n",
    "for i in range(1000):\n",
    "    my_matrix = np.random.random(total)\n",
    "    my_matrix[my_matrix < 0.5] = 0\n",
    "    my_matrix[my_matrix >= 0.5] = 1\n",
    "    \n",
    "    male_count = (my_matrix == 0).sum()\n",
    "    female_count = (my_matrix == 1).sum()\n",
    "    \n",
    "    obs = [male_count, female_count]\n",
    "    chi_values.append(chisq_calc(obs, expected))"
   ]
  },
  {
   "cell_type": "code",
   "execution_count": 68,
   "metadata": {},
   "outputs": [
    {
     "data": {
      "text/plain": [
       "<matplotlib.legend.Legend at 0x7f937dbda198>"
      ]
     },
     "execution_count": 68,
     "metadata": {},
     "output_type": "execute_result"
    },
    {
     "data": {
      "image/png": "[encoded data removed]",
      "text/plain": [
       "<Figure size 432x288 with 1 Axes>"
      ]
     },
     "metadata": {
      "needs_background": "light"
     },
     "output_type": "display_data"
    }
   ],
   "source": [
    "plt.hist(chi_values)\n",
    "plt.vlines(my_chisq,0,800, color='red', linestyles=':', label='Observed chisq')\n",
    "plt.title(f'Histogram of Chisq from Random Sampling')\n",
    "plt.xlabel('Chi Squared')\n",
    "plt.ylabel('Number of samples')\n",
    "plt.legend()"
   ]
  },
  {
   "cell_type": "code",
   "execution_count": 69,
   "metadata": {},
   "outputs": [
    {
     "name": "stdout",
     "output_type": "stream",
     "text": [
      "The p value is 0.0 which is <= 0.05\n"
     ]
    }
   ],
   "source": [
    "p_value = sum(pd.Series(chi_values) > my_chisq)/len(chi_values)\n",
    "if p_value <= 0.05:\n",
    "    print(f\"The p value is {p_value} which is <= 0.05\")\n",
    "else:\n",
    "    print(f\"The p value is {p_value} which is > 0.05\")"
   ]
  },
  {
   "cell_type": "markdown",
   "metadata": {},
   "source": [
    "## Scipy"
   ]
  },
  {
   "cell_type": "code",
   "execution_count": 70,
   "metadata": {},
   "outputs": [],
   "source": [
    "from scipy.stats import chisquare"
   ]
  },
  {
   "cell_type": "code",
   "execution_count": 71,
   "metadata": {},
   "outputs": [
    {
     "data": {
      "text/plain": [
       "[21790, 10771]"
      ]
     },
     "execution_count": 71,
     "metadata": {},
     "output_type": "execute_result"
    }
   ],
   "source": [
    "observed"
   ]
  },
  {
   "cell_type": "code",
   "execution_count": 72,
   "metadata": {},
   "outputs": [
    {
     "data": {
      "text/plain": [
       "[16280.5, 16280.5]"
      ]
     },
     "execution_count": 72,
     "metadata": {},
     "output_type": "execute_result"
    }
   ],
   "source": [
    "expected"
   ]
  },
  {
   "cell_type": "code",
   "execution_count": 73,
   "metadata": {},
   "outputs": [
    {
     "name": "stdout",
     "output_type": "stream",
     "text": [
      "The chisquare statistic for this set is 3728.95, with a p value of 0.0\n"
     ]
    }
   ],
   "source": [
    "chisq, p_value = chisquare(observed, expected)\n",
    "\n",
    "print(f\"The chisquare statistic for this set is {round(chisq,2)}, with a p value of {p_value}\")"
   ]
  },
  {
   "cell_type": "markdown",
   "metadata": {},
   "source": [
    "# From Dataquest:\n",
    "\n",
    "Here are some potential next steps:\n",
    "\n",
    "* Find a better way to eliminate non-informative words than just removing words that are less than `6` characters long. Some ideas:\n",
    "    * Manually create a list of words to remove, like `the`, `than`, etc.\n",
    "    * Find a list of stopwords to remove.\n",
    "    * Remove words that occur in more than a certain percentage (like `5%`) of questions.\n",
    "* Perform the chi-squared test across more terms to see what terms have larger differences. This is hard to do currently because the code is slow, but here are some ideas:\n",
    "    * Use the apply method to make the code that calculates frequencies more efficient.\n",
    "    * Only select terms that have high frequencies across the dataset, and ignore the others.\n",
    "* Look more into the `Category` column and see if any interesting analysis can be done with it. Some ideas:\n",
    "    * See which categories appear the most often.\n",
    "    * Find the probability of each category appearing in each round.\n",
    "* Use the whole Jeopardy dataset (available here) instead of the subset we used in this mission.\n",
    "* Use phrases instead of single words when seeing if there's overlap between questions. Single words don't capture the whole context of the question well.\n",
    "\n",
    "We recommend creating a Github repository and placing this project there. It will help other people, including employers, see your work. As you start to put multiple projects on Github, you'll have the beginnings of a strong portfolio."
   ]
  },
  {
   "cell_type": "code",
   "execution_count": null,
   "metadata": {},
   "outputs": [],
   "source": []
  }
 ],
 "metadata": {
  "kernelspec": {
   "display_name": "Data Python Env",
   "language": "python",
   "name": "data_env"
  },
  "language_info": {
   "codemirror_mode": {
    "name": "ipython",
    "version": 3
   },
   "file_extension": ".py",
   "mimetype": "text/x-python",
   "name": "python",
   "nbconvert_exporter": "python",
   "pygments_lexer": "ipython3",
   "version": "3.6.10"
  }
 },
 "nbformat": 4,
 "nbformat_minor": 4
}
