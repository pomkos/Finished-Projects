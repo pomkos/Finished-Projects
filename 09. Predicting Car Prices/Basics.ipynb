{
 "cells": [
  {
   "cell_type": "markdown",
   "metadata": {},
   "source": [
    "# Predicting car market price with KNN\n",
    "\n",
    "We are tasked with predicting what certain cars will be sold for on the market, depending on their attributes. The dataset is taken from the UCI Machine Learning Repository [here](https://archive.ics.uci.edu/ml/datasets/automobile).\n"
   ]
  },
  {
   "cell_type": "markdown",
   "metadata": {},
   "source": [
    "# Cleaning"
   ]
  },
  {
   "cell_type": "code",
   "execution_count": 1,
   "metadata": {},
   "outputs": [],
   "source": [
    "import pandas as pd\n",
    "import numpy as np\n",
    "import matplotlib.pyplot as plt\n",
    "import seaborn as sns"
   ]
  },
  {
   "cell_type": "code",
   "execution_count": 2,
   "metadata": {},
   "outputs": [],
   "source": [
    "col_names = ['symboling','normalized_losses','make','fuel_type','aspiration',\n",
    "             'num_of_doors','body_style','drive_wheels','engine_location',\n",
    "             'wheel_base','length','width','height','curb_weight',\n",
    "             'engine_type','num_cyl','engine_size','fuel_system','bore',\n",
    "             'stroke','compression_ratio','horsepower','peak_rpm',\n",
    "             'city_mpg','highway_mpg','price']"
   ]
  },
  {
   "cell_type": "code",
   "execution_count": 3,
   "metadata": {
    "collapsed": false,
    "jupyter": {
     "outputs_hidden": false
    }
   },
   "outputs": [],
   "source": [
    "cars = pd.read_csv('imports-85.data', header=None)\n",
    "cars.columns = col_names"
   ]
  },
  {
   "cell_type": "code",
   "execution_count": 4,
   "metadata": {
    "collapsed": false,
    "jupyter": {
     "outputs_hidden": false
    }
   },
   "outputs": [
    {
     "data": {
      "text/html": [
       "<div>\n",
       "<style scoped>\n",
       "    .dataframe tbody tr th:only-of-type {\n",
       "        vertical-align: middle;\n",
       "    }\n",
       "\n",
       "    .dataframe tbody tr th {\n",
       "        vertical-align: top;\n",
       "    }\n",
       "\n",
       "    .dataframe thead th {\n",
       "        text-align: right;\n",
       "    }\n",
       "</style>\n",
       "<table border=\"1\" class=\"dataframe\">\n",
       "  <thead>\n",
       "    <tr style=\"text-align: right;\">\n",
       "      <th></th>\n",
       "      <th>symboling</th>\n",
       "      <th>normalized_losses</th>\n",
       "      <th>make</th>\n",
       "      <th>fuel_type</th>\n",
       "      <th>aspiration</th>\n",
       "      <th>num_of_doors</th>\n",
       "      <th>body_style</th>\n",
       "      <th>drive_wheels</th>\n",
       "      <th>engine_location</th>\n",
       "      <th>wheel_base</th>\n",
       "      <th>...</th>\n",
       "      <th>engine_size</th>\n",
       "      <th>fuel_system</th>\n",
       "      <th>bore</th>\n",
       "      <th>stroke</th>\n",
       "      <th>compression_ratio</th>\n",
       "      <th>horsepower</th>\n",
       "      <th>peak_rpm</th>\n",
       "      <th>city_mpg</th>\n",
       "      <th>highway_mpg</th>\n",
       "      <th>price</th>\n",
       "    </tr>\n",
       "  </thead>\n",
       "  <tbody>\n",
       "    <tr>\n",
       "      <th>0</th>\n",
       "      <td>3</td>\n",
       "      <td>?</td>\n",
       "      <td>alfa-romero</td>\n",
       "      <td>gas</td>\n",
       "      <td>std</td>\n",
       "      <td>two</td>\n",
       "      <td>convertible</td>\n",
       "      <td>rwd</td>\n",
       "      <td>front</td>\n",
       "      <td>88.6</td>\n",
       "      <td>...</td>\n",
       "      <td>130</td>\n",
       "      <td>mpfi</td>\n",
       "      <td>3.47</td>\n",
       "      <td>2.68</td>\n",
       "      <td>9.0</td>\n",
       "      <td>111</td>\n",
       "      <td>5000</td>\n",
       "      <td>21</td>\n",
       "      <td>27</td>\n",
       "      <td>13495</td>\n",
       "    </tr>\n",
       "    <tr>\n",
       "      <th>1</th>\n",
       "      <td>3</td>\n",
       "      <td>?</td>\n",
       "      <td>alfa-romero</td>\n",
       "      <td>gas</td>\n",
       "      <td>std</td>\n",
       "      <td>two</td>\n",
       "      <td>convertible</td>\n",
       "      <td>rwd</td>\n",
       "      <td>front</td>\n",
       "      <td>88.6</td>\n",
       "      <td>...</td>\n",
       "      <td>130</td>\n",
       "      <td>mpfi</td>\n",
       "      <td>3.47</td>\n",
       "      <td>2.68</td>\n",
       "      <td>9.0</td>\n",
       "      <td>111</td>\n",
       "      <td>5000</td>\n",
       "      <td>21</td>\n",
       "      <td>27</td>\n",
       "      <td>16500</td>\n",
       "    </tr>\n",
       "    <tr>\n",
       "      <th>2</th>\n",
       "      <td>1</td>\n",
       "      <td>?</td>\n",
       "      <td>alfa-romero</td>\n",
       "      <td>gas</td>\n",
       "      <td>std</td>\n",
       "      <td>two</td>\n",
       "      <td>hatchback</td>\n",
       "      <td>rwd</td>\n",
       "      <td>front</td>\n",
       "      <td>94.5</td>\n",
       "      <td>...</td>\n",
       "      <td>152</td>\n",
       "      <td>mpfi</td>\n",
       "      <td>2.68</td>\n",
       "      <td>3.47</td>\n",
       "      <td>9.0</td>\n",
       "      <td>154</td>\n",
       "      <td>5000</td>\n",
       "      <td>19</td>\n",
       "      <td>26</td>\n",
       "      <td>16500</td>\n",
       "    </tr>\n",
       "    <tr>\n",
       "      <th>3</th>\n",
       "      <td>2</td>\n",
       "      <td>164</td>\n",
       "      <td>audi</td>\n",
       "      <td>gas</td>\n",
       "      <td>std</td>\n",
       "      <td>four</td>\n",
       "      <td>sedan</td>\n",
       "      <td>fwd</td>\n",
       "      <td>front</td>\n",
       "      <td>99.8</td>\n",
       "      <td>...</td>\n",
       "      <td>109</td>\n",
       "      <td>mpfi</td>\n",
       "      <td>3.19</td>\n",
       "      <td>3.40</td>\n",
       "      <td>10.0</td>\n",
       "      <td>102</td>\n",
       "      <td>5500</td>\n",
       "      <td>24</td>\n",
       "      <td>30</td>\n",
       "      <td>13950</td>\n",
       "    </tr>\n",
       "    <tr>\n",
       "      <th>4</th>\n",
       "      <td>2</td>\n",
       "      <td>164</td>\n",
       "      <td>audi</td>\n",
       "      <td>gas</td>\n",
       "      <td>std</td>\n",
       "      <td>four</td>\n",
       "      <td>sedan</td>\n",
       "      <td>4wd</td>\n",
       "      <td>front</td>\n",
       "      <td>99.4</td>\n",
       "      <td>...</td>\n",
       "      <td>136</td>\n",
       "      <td>mpfi</td>\n",
       "      <td>3.19</td>\n",
       "      <td>3.40</td>\n",
       "      <td>8.0</td>\n",
       "      <td>115</td>\n",
       "      <td>5500</td>\n",
       "      <td>18</td>\n",
       "      <td>22</td>\n",
       "      <td>17450</td>\n",
       "    </tr>\n",
       "  </tbody>\n",
       "</table>\n",
       "<p>5 rows × 26 columns</p>\n",
       "</div>"
      ],
      "text/plain": [
       "   symboling normalized_losses         make fuel_type aspiration num_of_doors  \\\n",
       "0          3                 ?  alfa-romero       gas        std          two   \n",
       "1          3                 ?  alfa-romero       gas        std          two   \n",
       "2          1                 ?  alfa-romero       gas        std          two   \n",
       "3          2               164         audi       gas        std         four   \n",
       "4          2               164         audi       gas        std         four   \n",
       "\n",
       "    body_style drive_wheels engine_location  wheel_base  ...  engine_size  \\\n",
       "0  convertible          rwd           front        88.6  ...          130   \n",
       "1  convertible          rwd           front        88.6  ...          130   \n",
       "2    hatchback          rwd           front        94.5  ...          152   \n",
       "3        sedan          fwd           front        99.8  ...          109   \n",
       "4        sedan          4wd           front        99.4  ...          136   \n",
       "\n",
       "   fuel_system  bore  stroke compression_ratio horsepower  peak_rpm city_mpg  \\\n",
       "0         mpfi  3.47    2.68               9.0        111      5000       21   \n",
       "1         mpfi  3.47    2.68               9.0        111      5000       21   \n",
       "2         mpfi  2.68    3.47               9.0        154      5000       19   \n",
       "3         mpfi  3.19    3.40              10.0        102      5500       24   \n",
       "4         mpfi  3.19    3.40               8.0        115      5500       18   \n",
       "\n",
       "  highway_mpg  price  \n",
       "0          27  13495  \n",
       "1          27  16500  \n",
       "2          26  16500  \n",
       "3          30  13950  \n",
       "4          22  17450  \n",
       "\n",
       "[5 rows x 26 columns]"
      ]
     },
     "execution_count": 4,
     "metadata": {},
     "output_type": "execute_result"
    }
   ],
   "source": [
    "cars.head()"
   ]
  },
  {
   "cell_type": "code",
   "execution_count": 5,
   "metadata": {
    "collapsed": false,
    "jupyter": {
     "outputs_hidden": false
    }
   },
   "outputs": [],
   "source": [
    "cars = cars.replace('?',np.nan)"
   ]
  },
  {
   "cell_type": "code",
   "execution_count": 6,
   "metadata": {
    "collapsed": false,
    "jupyter": {
     "outputs_hidden": false
    }
   },
   "outputs": [],
   "source": [
    "cars = cars.astype({\n",
    "    'normalized_losses':float,\n",
    "    'bore':float,\n",
    "    'stroke':float,\n",
    "    'horsepower':float,\n",
    "    'peak_rpm':float,\n",
    "    'price':float\n",
    "})"
   ]
  },
  {
   "cell_type": "markdown",
   "metadata": {},
   "source": [
    "KNN algorithms can only use continuous variables with all observations having a value, so we start by filtering selecting only the appropriate columns. According to the data dictionary the following columns are continuous:\n",
    "\n",
    "* `normalized_losses`\n",
    "* `wheel_base`\n",
    "* `length`\n",
    "* `width`\n",
    "* `height`\n",
    "* `curb_weight`\n",
    "* `engine_size`\n",
    "* `bore`\n",
    "* `stroke`\n",
    "* `compression-ratio`\n",
    "* `horsepower`\n",
    "* `peak_rpm`\n",
    "* `city_mpg`\n",
    "* `highway_mpg`\n",
    "* `price`"
   ]
  },
  {
   "cell_type": "code",
   "execution_count": 7,
   "metadata": {},
   "outputs": [],
   "source": [
    "num_cars = cars[['make','normalized_losses','wheel_base',\n",
    "                 'length','width','height','curb_weight',\n",
    "                 'engine_size','bore','stroke','compression_ratio','horsepower',\n",
    "                 'peak_rpm','city_mpg','highway_mpg','price']].copy()"
   ]
  },
  {
   "cell_type": "markdown",
   "metadata": {},
   "source": [
    "## Nan values"
   ]
  },
  {
   "cell_type": "code",
   "execution_count": 8,
   "metadata": {},
   "outputs": [
    {
     "name": "stdout",
     "output_type": "stream",
     "text": [
      "<class 'pandas.core.frame.DataFrame'>\n",
      "RangeIndex: 205 entries, 0 to 204\n",
      "Data columns (total 16 columns):\n",
      " #   Column             Non-Null Count  Dtype  \n",
      "---  ------             --------------  -----  \n",
      " 0   make               205 non-null    object \n",
      " 1   normalized_losses  164 non-null    float64\n",
      " 2   wheel_base         205 non-null    float64\n",
      " 3   length             205 non-null    float64\n",
      " 4   width              205 non-null    float64\n",
      " 5   height             205 non-null    float64\n",
      " 6   curb_weight        205 non-null    int64  \n",
      " 7   engine_size        205 non-null    int64  \n",
      " 8   bore               201 non-null    float64\n",
      " 9   stroke             201 non-null    float64\n",
      " 10  compression_ratio  205 non-null    float64\n",
      " 11  horsepower         203 non-null    float64\n",
      " 12  peak_rpm           203 non-null    float64\n",
      " 13  city_mpg           205 non-null    int64  \n",
      " 14  highway_mpg        205 non-null    int64  \n",
      " 15  price              201 non-null    float64\n",
      "dtypes: float64(11), int64(4), object(1)\n",
      "memory usage: 25.8+ KB\n"
     ]
    }
   ],
   "source": [
    "num_cars.info()"
   ]
  },
  {
   "cell_type": "code",
   "execution_count": 9,
   "metadata": {},
   "outputs": [
    {
     "data": {
      "text/plain": [
       "make                  0\n",
       "normalized_losses    41\n",
       "wheel_base            0\n",
       "length                0\n",
       "width                 0\n",
       "height                0\n",
       "curb_weight           0\n",
       "engine_size           0\n",
       "bore                  4\n",
       "stroke                4\n",
       "compression_ratio     0\n",
       "horsepower            2\n",
       "peak_rpm              2\n",
       "city_mpg              0\n",
       "highway_mpg           0\n",
       "price                 4\n",
       "dtype: int64"
      ]
     },
     "execution_count": 9,
     "metadata": {},
     "output_type": "execute_result"
    }
   ],
   "source": [
    "num_cars.isna().sum()"
   ]
  },
  {
   "cell_type": "markdown",
   "metadata": {},
   "source": [
    "The following columns contain missing values:\n",
    "\n",
    "* `normalized_losses`\n",
    "* `bore`\n",
    "* `stroke`\n",
    "* `horsepower`\n",
    "* `peak_rpm`\n",
    "* `price`"
   ]
  },
  {
   "cell_type": "markdown",
   "metadata": {},
   "source": [
    "### price"
   ]
  },
  {
   "cell_type": "markdown",
   "metadata": {},
   "source": [
    "All four cars without a price are also missing the `normalized_losses` variable. We cannot have NaN as a `price` for our model. We have two choices:\n",
    "\n",
    "* Remove these four rows\n",
    "* Replace the NaN with the average of the prices"
   ]
  },
  {
   "cell_type": "code",
   "execution_count": 10,
   "metadata": {},
   "outputs": [],
   "source": [
    "nan_price = num_cars[num_cars['price'].isna()]"
   ]
  },
  {
   "cell_type": "code",
   "execution_count": 11,
   "metadata": {},
   "outputs": [
    {
     "data": {
      "text/plain": [
       "make\n",
       "audi       0\n",
       "isuzu      0\n",
       "porsche    0\n",
       "Name: price, dtype: int64"
      ]
     },
     "execution_count": 11,
     "metadata": {},
     "output_type": "execute_result"
    }
   ],
   "source": [
    "nan_price.groupby('make')['price'].count()"
   ]
  },
  {
   "cell_type": "markdown",
   "metadata": {},
   "source": [
    "Since the price depends on as of yet unknown features, we will remove the four rows to avoid biasing the model when predicting prices for these three makes."
   ]
  },
  {
   "cell_type": "code",
   "execution_count": 12,
   "metadata": {},
   "outputs": [],
   "source": [
    "num_cars = num_cars.dropna(subset=['price'],axis = 0)"
   ]
  },
  {
   "cell_type": "code",
   "execution_count": 13,
   "metadata": {
    "collapsed": false,
    "jupyter": {
     "outputs_hidden": false
    }
   },
   "outputs": [
    {
     "data": {
      "text/plain": [
       "0"
      ]
     },
     "execution_count": 13,
     "metadata": {},
     "output_type": "execute_result"
    }
   ],
   "source": [
    "num_cars['price'].isna().sum()"
   ]
  },
  {
   "cell_type": "markdown",
   "metadata": {},
   "source": [
    "### normalized_losses"
   ]
  },
  {
   "cell_type": "markdown",
   "metadata": {},
   "source": [
    "The `normalized_losses` feature has the most `nan` values and is worth investigating."
   ]
  },
  {
   "cell_type": "code",
   "execution_count": 14,
   "metadata": {
    "collapsed": false,
    "jupyter": {
     "outputs_hidden": false
    }
   },
   "outputs": [
    {
     "data": {
      "text/plain": [
       "37"
      ]
     },
     "execution_count": 14,
     "metadata": {},
     "output_type": "execute_result"
    }
   ],
   "source": [
    "num_cars['normalized_losses'].isna().sum()"
   ]
  },
  {
   "cell_type": "code",
   "execution_count": 15,
   "metadata": {
    "collapsed": false,
    "jupyter": {
     "outputs_hidden": false
    }
   },
   "outputs": [],
   "source": [
    "# count the number of cars per maker\n",
    "car_count = pd.DataFrame(num_cars.groupby('make').count()['length']).reset_index()\n",
    "car_count.columns=['make','obs_num']"
   ]
  },
  {
   "cell_type": "code",
   "execution_count": 16,
   "metadata": {
    "collapsed": false,
    "jupyter": {
     "outputs_hidden": false
    }
   },
   "outputs": [],
   "source": [
    "# count the number of nan values per maker\n",
    "na_norm_losses_count = pd.DataFrame(num_cars[num_cars['normalized_losses'].isna()]['make'].value_counts()).reset_index()\n",
    "na_norm_losses_count.columns = ['make','nan_num']"
   ]
  },
  {
   "cell_type": "code",
   "execution_count": 17,
   "metadata": {
    "collapsed": false,
    "jupyter": {
     "outputs_hidden": false
    }
   },
   "outputs": [],
   "source": [
    "# merge the two datasets and calculate the difference\n",
    "compare = car_count.merge(na_norm_losses_count)\n",
    "compare['no_nan'] = compare['obs_num'] - compare['nan_num']\n",
    "compare['perc_nan'] = round((compare['nan_num']/compare['obs_num'])*100,2)"
   ]
  },
  {
   "cell_type": "code",
   "execution_count": 18,
   "metadata": {
    "collapsed": false,
    "jupyter": {
     "outputs_hidden": false
    }
   },
   "outputs": [
    {
     "data": {
      "text/html": [
       "<div>\n",
       "<style scoped>\n",
       "    .dataframe tbody tr th:only-of-type {\n",
       "        vertical-align: middle;\n",
       "    }\n",
       "\n",
       "    .dataframe tbody tr th {\n",
       "        vertical-align: top;\n",
       "    }\n",
       "\n",
       "    .dataframe thead th {\n",
       "        text-align: right;\n",
       "    }\n",
       "</style>\n",
       "<table border=\"1\" class=\"dataframe\">\n",
       "  <thead>\n",
       "    <tr style=\"text-align: right;\">\n",
       "      <th></th>\n",
       "      <th>make</th>\n",
       "      <th>obs_num</th>\n",
       "      <th>nan_num</th>\n",
       "      <th>no_nan</th>\n",
       "      <th>perc_nan</th>\n",
       "    </tr>\n",
       "  </thead>\n",
       "  <tbody>\n",
       "    <tr>\n",
       "      <th>0</th>\n",
       "      <td>alfa-romero</td>\n",
       "      <td>3</td>\n",
       "      <td>3</td>\n",
       "      <td>0</td>\n",
       "      <td>100.00</td>\n",
       "    </tr>\n",
       "    <tr>\n",
       "      <th>3</th>\n",
       "      <td>isuzu</td>\n",
       "      <td>2</td>\n",
       "      <td>2</td>\n",
       "      <td>0</td>\n",
       "      <td>100.00</td>\n",
       "    </tr>\n",
       "    <tr>\n",
       "      <th>7</th>\n",
       "      <td>mercury</td>\n",
       "      <td>1</td>\n",
       "      <td>1</td>\n",
       "      <td>0</td>\n",
       "      <td>100.00</td>\n",
       "    </tr>\n",
       "    <tr>\n",
       "      <th>12</th>\n",
       "      <td>renault</td>\n",
       "      <td>2</td>\n",
       "      <td>2</td>\n",
       "      <td>0</td>\n",
       "      <td>100.00</td>\n",
       "    </tr>\n",
       "    <tr>\n",
       "      <th>11</th>\n",
       "      <td>porsche</td>\n",
       "      <td>4</td>\n",
       "      <td>3</td>\n",
       "      <td>1</td>\n",
       "      <td>75.00</td>\n",
       "    </tr>\n",
       "    <tr>\n",
       "      <th>4</th>\n",
       "      <td>jaguar</td>\n",
       "      <td>3</td>\n",
       "      <td>2</td>\n",
       "      <td>1</td>\n",
       "      <td>66.67</td>\n",
       "    </tr>\n",
       "    <tr>\n",
       "      <th>2</th>\n",
       "      <td>bmw</td>\n",
       "      <td>8</td>\n",
       "      <td>4</td>\n",
       "      <td>4</td>\n",
       "      <td>50.00</td>\n",
       "    </tr>\n",
       "    <tr>\n",
       "      <th>6</th>\n",
       "      <td>mercedes-benz</td>\n",
       "      <td>8</td>\n",
       "      <td>3</td>\n",
       "      <td>5</td>\n",
       "      <td>37.50</td>\n",
       "    </tr>\n",
       "    <tr>\n",
       "      <th>9</th>\n",
       "      <td>peugot</td>\n",
       "      <td>11</td>\n",
       "      <td>4</td>\n",
       "      <td>7</td>\n",
       "      <td>36.36</td>\n",
       "    </tr>\n",
       "    <tr>\n",
       "      <th>1</th>\n",
       "      <td>audi</td>\n",
       "      <td>6</td>\n",
       "      <td>2</td>\n",
       "      <td>4</td>\n",
       "      <td>33.33</td>\n",
       "    </tr>\n",
       "    <tr>\n",
       "      <th>14</th>\n",
       "      <td>volkswagen</td>\n",
       "      <td>12</td>\n",
       "      <td>4</td>\n",
       "      <td>8</td>\n",
       "      <td>33.33</td>\n",
       "    </tr>\n",
       "    <tr>\n",
       "      <th>8</th>\n",
       "      <td>mitsubishi</td>\n",
       "      <td>13</td>\n",
       "      <td>3</td>\n",
       "      <td>10</td>\n",
       "      <td>23.08</td>\n",
       "    </tr>\n",
       "    <tr>\n",
       "      <th>10</th>\n",
       "      <td>plymouth</td>\n",
       "      <td>7</td>\n",
       "      <td>1</td>\n",
       "      <td>6</td>\n",
       "      <td>14.29</td>\n",
       "    </tr>\n",
       "    <tr>\n",
       "      <th>5</th>\n",
       "      <td>mazda</td>\n",
       "      <td>17</td>\n",
       "      <td>2</td>\n",
       "      <td>15</td>\n",
       "      <td>11.76</td>\n",
       "    </tr>\n",
       "    <tr>\n",
       "      <th>13</th>\n",
       "      <td>toyota</td>\n",
       "      <td>32</td>\n",
       "      <td>1</td>\n",
       "      <td>31</td>\n",
       "      <td>3.12</td>\n",
       "    </tr>\n",
       "  </tbody>\n",
       "</table>\n",
       "</div>"
      ],
      "text/plain": [
       "             make  obs_num  nan_num  no_nan  perc_nan\n",
       "0     alfa-romero        3        3       0    100.00\n",
       "3           isuzu        2        2       0    100.00\n",
       "7         mercury        1        1       0    100.00\n",
       "12        renault        2        2       0    100.00\n",
       "11        porsche        4        3       1     75.00\n",
       "4          jaguar        3        2       1     66.67\n",
       "2             bmw        8        4       4     50.00\n",
       "6   mercedes-benz        8        3       5     37.50\n",
       "9          peugot       11        4       7     36.36\n",
       "1            audi        6        2       4     33.33\n",
       "14     volkswagen       12        4       8     33.33\n",
       "8      mitsubishi       13        3      10     23.08\n",
       "10       plymouth        7        1       6     14.29\n",
       "5           mazda       17        2      15     11.76\n",
       "13         toyota       32        1      31      3.12"
      ]
     },
     "execution_count": 18,
     "metadata": {},
     "output_type": "execute_result"
    }
   ],
   "source": [
    "compare.sort_values('perc_nan', ascending=False)"
   ]
  },
  {
   "cell_type": "markdown",
   "metadata": {},
   "source": [
    "37 of the `normalized_losses` values are `NaN`. To fix this we will do the following:\n",
    "\n",
    "* Car makes who's `normalized_losses` are always `NaN` are removed. These makes coincidentally do not have many data to begin with (such as price), so not much is lost.\n",
    "    * `alfa-romero`\n",
    "    * `isuzu`\n",
    "    * `mercury`\n",
    "    * `renault`\n",
    "* Car makes who have some numbers for `normalized_losses` will be kept, and the `NaN` replaced with the average.\n",
    "\n",
    "According to the data dictionary the `normalized_losses` variable represents \"average loss payment per insured vehicle year\". It depends on various size classifications of the car, such as number of doors, sedan vs hatchback, and so on. We assume the following describes the vehicle's size:\n",
    "\n",
    "* `num_of_doors`\n",
    "* `body_style`\n",
    "* `length`\n",
    "* `width`\n",
    "* `height`\n",
    "* `curb_weight`\n",
    "* `engine_size`\n",
    "\n",
    "Of these variables `num_of_doors` and`body_style` are not continuous variables and so are not considered."
   ]
  },
  {
   "cell_type": "code",
   "execution_count": 19,
   "metadata": {},
   "outputs": [
    {
     "data": {
      "text/html": [
       "<div>\n",
       "<style scoped>\n",
       "    .dataframe tbody tr th:only-of-type {\n",
       "        vertical-align: middle;\n",
       "    }\n",
       "\n",
       "    .dataframe tbody tr th {\n",
       "        vertical-align: top;\n",
       "    }\n",
       "\n",
       "    .dataframe thead th {\n",
       "        text-align: right;\n",
       "    }\n",
       "</style>\n",
       "<table border=\"1\" class=\"dataframe\">\n",
       "  <thead>\n",
       "    <tr style=\"text-align: right;\">\n",
       "      <th></th>\n",
       "      <th>make</th>\n",
       "      <th>normalized_losses</th>\n",
       "      <th>length</th>\n",
       "      <th>width</th>\n",
       "      <th>height</th>\n",
       "      <th>curb_weight</th>\n",
       "      <th>engine_size</th>\n",
       "      <th>price</th>\n",
       "    </tr>\n",
       "  </thead>\n",
       "  <tbody>\n",
       "    <tr>\n",
       "      <th>0</th>\n",
       "      <td>alfa-romero</td>\n",
       "      <td>NaN</td>\n",
       "      <td>168.8</td>\n",
       "      <td>64.1</td>\n",
       "      <td>48.8</td>\n",
       "      <td>2548</td>\n",
       "      <td>130</td>\n",
       "      <td>13495.0</td>\n",
       "    </tr>\n",
       "    <tr>\n",
       "      <th>1</th>\n",
       "      <td>alfa-romero</td>\n",
       "      <td>NaN</td>\n",
       "      <td>168.8</td>\n",
       "      <td>64.1</td>\n",
       "      <td>48.8</td>\n",
       "      <td>2548</td>\n",
       "      <td>130</td>\n",
       "      <td>16500.0</td>\n",
       "    </tr>\n",
       "    <tr>\n",
       "      <th>2</th>\n",
       "      <td>alfa-romero</td>\n",
       "      <td>NaN</td>\n",
       "      <td>171.2</td>\n",
       "      <td>65.5</td>\n",
       "      <td>52.4</td>\n",
       "      <td>2823</td>\n",
       "      <td>152</td>\n",
       "      <td>16500.0</td>\n",
       "    </tr>\n",
       "    <tr>\n",
       "      <th>5</th>\n",
       "      <td>audi</td>\n",
       "      <td>NaN</td>\n",
       "      <td>177.3</td>\n",
       "      <td>66.3</td>\n",
       "      <td>53.1</td>\n",
       "      <td>2507</td>\n",
       "      <td>136</td>\n",
       "      <td>15250.0</td>\n",
       "    </tr>\n",
       "    <tr>\n",
       "      <th>7</th>\n",
       "      <td>audi</td>\n",
       "      <td>NaN</td>\n",
       "      <td>192.7</td>\n",
       "      <td>71.4</td>\n",
       "      <td>55.7</td>\n",
       "      <td>2954</td>\n",
       "      <td>136</td>\n",
       "      <td>18920.0</td>\n",
       "    </tr>\n",
       "  </tbody>\n",
       "</table>\n",
       "</div>"
      ],
      "text/plain": [
       "          make  normalized_losses  length  width  height  curb_weight  \\\n",
       "0  alfa-romero                NaN   168.8   64.1    48.8         2548   \n",
       "1  alfa-romero                NaN   168.8   64.1    48.8         2548   \n",
       "2  alfa-romero                NaN   171.2   65.5    52.4         2823   \n",
       "5         audi                NaN   177.3   66.3    53.1         2507   \n",
       "7         audi                NaN   192.7   71.4    55.7         2954   \n",
       "\n",
       "   engine_size    price  \n",
       "0          130  13495.0  \n",
       "1          130  16500.0  \n",
       "2          152  16500.0  \n",
       "5          136  15250.0  \n",
       "7          136  18920.0  "
      ]
     },
     "execution_count": 19,
     "metadata": {},
     "output_type": "execute_result"
    }
   ],
   "source": [
    "norm_loss_cols = ['make','normalized_losses',\n",
    "                   'length', 'width', 'height', 'curb_weight',\n",
    "                   'engine_size', 'price']\n",
    "\n",
    "norm_loss_df = num_cars[norm_loss_cols][num_cars[norm_loss_cols]['normalized_losses'].isna()]\n",
    "norm_loss_df.head()"
   ]
  },
  {
   "cell_type": "code",
   "execution_count": 20,
   "metadata": {},
   "outputs": [
    {
     "data": {
      "text/html": [
       "<div>\n",
       "<style scoped>\n",
       "    .dataframe tbody tr th:only-of-type {\n",
       "        vertical-align: middle;\n",
       "    }\n",
       "\n",
       "    .dataframe tbody tr th {\n",
       "        vertical-align: top;\n",
       "    }\n",
       "\n",
       "    .dataframe thead th {\n",
       "        text-align: right;\n",
       "    }\n",
       "</style>\n",
       "<table border=\"1\" class=\"dataframe\">\n",
       "  <thead>\n",
       "    <tr style=\"text-align: right;\">\n",
       "      <th></th>\n",
       "      <th>make</th>\n",
       "      <th>price</th>\n",
       "      <th>normalized_losses</th>\n",
       "      <th>variable</th>\n",
       "      <th>value</th>\n",
       "    </tr>\n",
       "  </thead>\n",
       "  <tbody>\n",
       "    <tr>\n",
       "      <th>0</th>\n",
       "      <td>alfa-romero</td>\n",
       "      <td>13495.0</td>\n",
       "      <td>NaN</td>\n",
       "      <td>length</td>\n",
       "      <td>168.8</td>\n",
       "    </tr>\n",
       "    <tr>\n",
       "      <th>1</th>\n",
       "      <td>alfa-romero</td>\n",
       "      <td>16500.0</td>\n",
       "      <td>NaN</td>\n",
       "      <td>length</td>\n",
       "      <td>168.8</td>\n",
       "    </tr>\n",
       "    <tr>\n",
       "      <th>2</th>\n",
       "      <td>alfa-romero</td>\n",
       "      <td>16500.0</td>\n",
       "      <td>NaN</td>\n",
       "      <td>length</td>\n",
       "      <td>171.2</td>\n",
       "    </tr>\n",
       "    <tr>\n",
       "      <th>3</th>\n",
       "      <td>audi</td>\n",
       "      <td>15250.0</td>\n",
       "      <td>NaN</td>\n",
       "      <td>length</td>\n",
       "      <td>177.3</td>\n",
       "    </tr>\n",
       "    <tr>\n",
       "      <th>4</th>\n",
       "      <td>audi</td>\n",
       "      <td>18920.0</td>\n",
       "      <td>NaN</td>\n",
       "      <td>length</td>\n",
       "      <td>192.7</td>\n",
       "    </tr>\n",
       "  </tbody>\n",
       "</table>\n",
       "</div>"
      ],
      "text/plain": [
       "          make    price  normalized_losses variable  value\n",
       "0  alfa-romero  13495.0                NaN   length  168.8\n",
       "1  alfa-romero  16500.0                NaN   length  168.8\n",
       "2  alfa-romero  16500.0                NaN   length  171.2\n",
       "3         audi  15250.0                NaN   length  177.3\n",
       "4         audi  18920.0                NaN   length  192.7"
      ]
     },
     "execution_count": 20,
     "metadata": {},
     "output_type": "execute_result"
    }
   ],
   "source": [
    "norm_loss_df = norm_loss_df.melt(id_vars = ['make','price','normalized_losses'])\n",
    "norm_loss_df.head()"
   ]
  },
  {
   "cell_type": "code",
   "execution_count": 21,
   "metadata": {},
   "outputs": [
    {
     "data": {
      "text/plain": [
       "<AxesSubplot:xlabel='variable', ylabel='value'>"
      ]
     },
     "execution_count": 21,
     "metadata": {},
     "output_type": "execute_result"
    },
    {
     "data": {
      "image/png": "[encoded data removed]",
      "text/plain": [
       "<Figure size 432x288 with 1 Axes>"
      ]
     },
     "metadata": {
      "needs_background": "light"
     },
     "output_type": "display_data"
    }
   ],
   "source": [
    "sns.boxplot(x='variable',y = 'value', data= norm_loss_df[norm_loss_df['variable'] != 'curb_weight'])"
   ]
  },
  {
   "cell_type": "markdown",
   "metadata": {},
   "source": [
    "There are not too many outliers in these variables, so we will take the mean to fill the `nan`."
   ]
  },
  {
   "cell_type": "code",
   "execution_count": 22,
   "metadata": {},
   "outputs": [
    {
     "data": {
      "text/html": [
       "<div>\n",
       "<style scoped>\n",
       "    .dataframe tbody tr th:only-of-type {\n",
       "        vertical-align: middle;\n",
       "    }\n",
       "\n",
       "    .dataframe tbody tr th {\n",
       "        vertical-align: top;\n",
       "    }\n",
       "\n",
       "    .dataframe thead th {\n",
       "        text-align: right;\n",
       "    }\n",
       "</style>\n",
       "<table border=\"1\" class=\"dataframe\">\n",
       "  <thead>\n",
       "    <tr style=\"text-align: right;\">\n",
       "      <th></th>\n",
       "      <th>normalized_losses</th>\n",
       "    </tr>\n",
       "    <tr>\n",
       "      <th>make</th>\n",
       "      <th></th>\n",
       "    </tr>\n",
       "  </thead>\n",
       "  <tbody>\n",
       "    <tr>\n",
       "      <th>alfa-romero</th>\n",
       "      <td>NaN</td>\n",
       "    </tr>\n",
       "    <tr>\n",
       "      <th>audi</th>\n",
       "      <td>161.000000</td>\n",
       "    </tr>\n",
       "    <tr>\n",
       "      <th>bmw</th>\n",
       "      <td>190.000000</td>\n",
       "    </tr>\n",
       "    <tr>\n",
       "      <th>chevrolet</th>\n",
       "      <td>100.000000</td>\n",
       "    </tr>\n",
       "    <tr>\n",
       "      <th>dodge</th>\n",
       "      <td>133.444444</td>\n",
       "    </tr>\n",
       "  </tbody>\n",
       "</table>\n",
       "</div>"
      ],
      "text/plain": [
       "             normalized_losses\n",
       "make                          \n",
       "alfa-romero                NaN\n",
       "audi                161.000000\n",
       "bmw                 190.000000\n",
       "chevrolet           100.000000\n",
       "dodge               133.444444"
      ]
     },
     "execution_count": 22,
     "metadata": {},
     "output_type": "execute_result"
    }
   ],
   "source": [
    "# figure out the mean of each make's normalized_losses\n",
    "norm_loss_means = num_cars.groupby('make').mean()[['normalized_losses']]\n",
    "norm_loss_means.head()"
   ]
  },
  {
   "cell_type": "code",
   "execution_count": 23,
   "metadata": {
    "collapsed": false,
    "jupyter": {
     "outputs_hidden": false
    }
   },
   "outputs": [],
   "source": [
    "# identify each nan, replace it with the mean of that maker's normalized_losses\n",
    "for i, row in num_cars.iterrows():\n",
    "    if np.isnan(row['normalized_losses']):\n",
    "        make_mean = norm_loss_means.loc[row['make']][0]\n",
    "        num_cars.loc[i,'normalized_losses'] = make_mean"
   ]
  },
  {
   "cell_type": "code",
   "execution_count": 24,
   "metadata": {},
   "outputs": [
    {
     "data": {
      "text/html": [
       "<div>\n",
       "<style scoped>\n",
       "    .dataframe tbody tr th:only-of-type {\n",
       "        vertical-align: middle;\n",
       "    }\n",
       "\n",
       "    .dataframe tbody tr th {\n",
       "        vertical-align: top;\n",
       "    }\n",
       "\n",
       "    .dataframe thead th {\n",
       "        text-align: right;\n",
       "    }\n",
       "</style>\n",
       "<table border=\"1\" class=\"dataframe\">\n",
       "  <thead>\n",
       "    <tr style=\"text-align: right;\">\n",
       "      <th></th>\n",
       "      <th>make</th>\n",
       "      <th>normalized_losses</th>\n",
       "      <th>wheel_base</th>\n",
       "      <th>length</th>\n",
       "      <th>width</th>\n",
       "      <th>height</th>\n",
       "      <th>curb_weight</th>\n",
       "      <th>engine_size</th>\n",
       "      <th>bore</th>\n",
       "      <th>stroke</th>\n",
       "      <th>compression_ratio</th>\n",
       "      <th>horsepower</th>\n",
       "      <th>peak_rpm</th>\n",
       "      <th>city_mpg</th>\n",
       "      <th>highway_mpg</th>\n",
       "      <th>price</th>\n",
       "    </tr>\n",
       "  </thead>\n",
       "  <tbody>\n",
       "    <tr>\n",
       "      <th>0</th>\n",
       "      <td>alfa-romero</td>\n",
       "      <td>NaN</td>\n",
       "      <td>88.6</td>\n",
       "      <td>168.8</td>\n",
       "      <td>64.1</td>\n",
       "      <td>48.8</td>\n",
       "      <td>2548</td>\n",
       "      <td>130</td>\n",
       "      <td>3.47</td>\n",
       "      <td>2.68</td>\n",
       "      <td>9.0</td>\n",
       "      <td>111.0</td>\n",
       "      <td>5000.0</td>\n",
       "      <td>21</td>\n",
       "      <td>27</td>\n",
       "      <td>13495.0</td>\n",
       "    </tr>\n",
       "    <tr>\n",
       "      <th>1</th>\n",
       "      <td>alfa-romero</td>\n",
       "      <td>NaN</td>\n",
       "      <td>88.6</td>\n",
       "      <td>168.8</td>\n",
       "      <td>64.1</td>\n",
       "      <td>48.8</td>\n",
       "      <td>2548</td>\n",
       "      <td>130</td>\n",
       "      <td>3.47</td>\n",
       "      <td>2.68</td>\n",
       "      <td>9.0</td>\n",
       "      <td>111.0</td>\n",
       "      <td>5000.0</td>\n",
       "      <td>21</td>\n",
       "      <td>27</td>\n",
       "      <td>16500.0</td>\n",
       "    </tr>\n",
       "    <tr>\n",
       "      <th>2</th>\n",
       "      <td>alfa-romero</td>\n",
       "      <td>NaN</td>\n",
       "      <td>94.5</td>\n",
       "      <td>171.2</td>\n",
       "      <td>65.5</td>\n",
       "      <td>52.4</td>\n",
       "      <td>2823</td>\n",
       "      <td>152</td>\n",
       "      <td>2.68</td>\n",
       "      <td>3.47</td>\n",
       "      <td>9.0</td>\n",
       "      <td>154.0</td>\n",
       "      <td>5000.0</td>\n",
       "      <td>19</td>\n",
       "      <td>26</td>\n",
       "      <td>16500.0</td>\n",
       "    </tr>\n",
       "    <tr>\n",
       "      <th>43</th>\n",
       "      <td>isuzu</td>\n",
       "      <td>NaN</td>\n",
       "      <td>94.3</td>\n",
       "      <td>170.7</td>\n",
       "      <td>61.8</td>\n",
       "      <td>53.5</td>\n",
       "      <td>2337</td>\n",
       "      <td>111</td>\n",
       "      <td>3.31</td>\n",
       "      <td>3.23</td>\n",
       "      <td>8.5</td>\n",
       "      <td>78.0</td>\n",
       "      <td>4800.0</td>\n",
       "      <td>24</td>\n",
       "      <td>29</td>\n",
       "      <td>6785.0</td>\n",
       "    </tr>\n",
       "    <tr>\n",
       "      <th>46</th>\n",
       "      <td>isuzu</td>\n",
       "      <td>NaN</td>\n",
       "      <td>96.0</td>\n",
       "      <td>172.6</td>\n",
       "      <td>65.2</td>\n",
       "      <td>51.4</td>\n",
       "      <td>2734</td>\n",
       "      <td>119</td>\n",
       "      <td>3.43</td>\n",
       "      <td>3.23</td>\n",
       "      <td>9.2</td>\n",
       "      <td>90.0</td>\n",
       "      <td>5000.0</td>\n",
       "      <td>24</td>\n",
       "      <td>29</td>\n",
       "      <td>11048.0</td>\n",
       "    </tr>\n",
       "    <tr>\n",
       "      <th>75</th>\n",
       "      <td>mercury</td>\n",
       "      <td>NaN</td>\n",
       "      <td>102.7</td>\n",
       "      <td>178.4</td>\n",
       "      <td>68.0</td>\n",
       "      <td>54.8</td>\n",
       "      <td>2910</td>\n",
       "      <td>140</td>\n",
       "      <td>3.78</td>\n",
       "      <td>3.12</td>\n",
       "      <td>8.0</td>\n",
       "      <td>175.0</td>\n",
       "      <td>5000.0</td>\n",
       "      <td>19</td>\n",
       "      <td>24</td>\n",
       "      <td>16503.0</td>\n",
       "    </tr>\n",
       "    <tr>\n",
       "      <th>130</th>\n",
       "      <td>renault</td>\n",
       "      <td>NaN</td>\n",
       "      <td>96.1</td>\n",
       "      <td>181.5</td>\n",
       "      <td>66.5</td>\n",
       "      <td>55.2</td>\n",
       "      <td>2579</td>\n",
       "      <td>132</td>\n",
       "      <td>3.46</td>\n",
       "      <td>3.90</td>\n",
       "      <td>8.7</td>\n",
       "      <td>NaN</td>\n",
       "      <td>NaN</td>\n",
       "      <td>23</td>\n",
       "      <td>31</td>\n",
       "      <td>9295.0</td>\n",
       "    </tr>\n",
       "    <tr>\n",
       "      <th>131</th>\n",
       "      <td>renault</td>\n",
       "      <td>NaN</td>\n",
       "      <td>96.1</td>\n",
       "      <td>176.8</td>\n",
       "      <td>66.6</td>\n",
       "      <td>50.5</td>\n",
       "      <td>2460</td>\n",
       "      <td>132</td>\n",
       "      <td>3.46</td>\n",
       "      <td>3.90</td>\n",
       "      <td>8.7</td>\n",
       "      <td>NaN</td>\n",
       "      <td>NaN</td>\n",
       "      <td>23</td>\n",
       "      <td>31</td>\n",
       "      <td>9895.0</td>\n",
       "    </tr>\n",
       "  </tbody>\n",
       "</table>\n",
       "</div>"
      ],
      "text/plain": [
       "            make  normalized_losses  wheel_base  length  width  height  \\\n",
       "0    alfa-romero                NaN        88.6   168.8   64.1    48.8   \n",
       "1    alfa-romero                NaN        88.6   168.8   64.1    48.8   \n",
       "2    alfa-romero                NaN        94.5   171.2   65.5    52.4   \n",
       "43         isuzu                NaN        94.3   170.7   61.8    53.5   \n",
       "46         isuzu                NaN        96.0   172.6   65.2    51.4   \n",
       "75       mercury                NaN       102.7   178.4   68.0    54.8   \n",
       "130      renault                NaN        96.1   181.5   66.5    55.2   \n",
       "131      renault                NaN        96.1   176.8   66.6    50.5   \n",
       "\n",
       "     curb_weight  engine_size  bore  stroke  compression_ratio  horsepower  \\\n",
       "0           2548          130  3.47    2.68                9.0       111.0   \n",
       "1           2548          130  3.47    2.68                9.0       111.0   \n",
       "2           2823          152  2.68    3.47                9.0       154.0   \n",
       "43          2337          111  3.31    3.23                8.5        78.0   \n",
       "46          2734          119  3.43    3.23                9.2        90.0   \n",
       "75          2910          140  3.78    3.12                8.0       175.0   \n",
       "130         2579          132  3.46    3.90                8.7         NaN   \n",
       "131         2460          132  3.46    3.90                8.7         NaN   \n",
       "\n",
       "     peak_rpm  city_mpg  highway_mpg    price  \n",
       "0      5000.0        21           27  13495.0  \n",
       "1      5000.0        21           27  16500.0  \n",
       "2      5000.0        19           26  16500.0  \n",
       "43     4800.0        24           29   6785.0  \n",
       "46     5000.0        24           29  11048.0  \n",
       "75     5000.0        19           24  16503.0  \n",
       "130       NaN        23           31   9295.0  \n",
       "131       NaN        23           31   9895.0  "
      ]
     },
     "execution_count": 24,
     "metadata": {},
     "output_type": "execute_result"
    }
   ],
   "source": [
    "num_cars[num_cars['normalized_losses'].isna()]"
   ]
  },
  {
   "cell_type": "markdown",
   "metadata": {},
   "source": [
    "We have 8 `nan` left. These makes do not have any `normalized_losses` calculated for any of there cars. Since there are only 8 of them, we will assign the overall mean."
   ]
  },
  {
   "cell_type": "code",
   "execution_count": 25,
   "metadata": {},
   "outputs": [],
   "source": [
    "norm_loss_mean = num_cars['normalized_losses'].mean()\n",
    "num_cars['normalized_losses'] = num_cars['normalized_losses'].fillna(value = norm_loss_mean)"
   ]
  },
  {
   "cell_type": "code",
   "execution_count": 26,
   "metadata": {},
   "outputs": [
    {
     "data": {
      "text/plain": [
       "make                 0\n",
       "normalized_losses    0\n",
       "wheel_base           0\n",
       "length               0\n",
       "width                0\n",
       "height               0\n",
       "curb_weight          0\n",
       "engine_size          0\n",
       "bore                 4\n",
       "stroke               4\n",
       "compression_ratio    0\n",
       "horsepower           2\n",
       "peak_rpm             2\n",
       "city_mpg             0\n",
       "highway_mpg          0\n",
       "price                0\n",
       "dtype: int64"
      ]
     },
     "execution_count": 26,
     "metadata": {},
     "output_type": "execute_result"
    }
   ],
   "source": [
    "num_cars.isna().sum()"
   ]
  },
  {
   "cell_type": "markdown",
   "metadata": {},
   "source": [
    "No more `nan` in the `normalized_losses` column!"
   ]
  },
  {
   "cell_type": "markdown",
   "metadata": {},
   "source": [
    "### bore and stroke"
   ]
  },
  {
   "cell_type": "code",
   "execution_count": 27,
   "metadata": {
    "collapsed": false,
    "jupyter": {
     "outputs_hidden": false
    }
   },
   "outputs": [
    {
     "data": {
      "text/html": [
       "<div>\n",
       "<style scoped>\n",
       "    .dataframe tbody tr th:only-of-type {\n",
       "        vertical-align: middle;\n",
       "    }\n",
       "\n",
       "    .dataframe tbody tr th {\n",
       "        vertical-align: top;\n",
       "    }\n",
       "\n",
       "    .dataframe thead th {\n",
       "        text-align: right;\n",
       "    }\n",
       "</style>\n",
       "<table border=\"1\" class=\"dataframe\">\n",
       "  <thead>\n",
       "    <tr style=\"text-align: right;\">\n",
       "      <th></th>\n",
       "      <th>make</th>\n",
       "      <th>normalized_losses</th>\n",
       "      <th>wheel_base</th>\n",
       "      <th>length</th>\n",
       "      <th>width</th>\n",
       "      <th>height</th>\n",
       "      <th>curb_weight</th>\n",
       "      <th>engine_size</th>\n",
       "      <th>bore</th>\n",
       "      <th>stroke</th>\n",
       "      <th>compression_ratio</th>\n",
       "      <th>horsepower</th>\n",
       "      <th>peak_rpm</th>\n",
       "      <th>city_mpg</th>\n",
       "      <th>highway_mpg</th>\n",
       "      <th>price</th>\n",
       "    </tr>\n",
       "  </thead>\n",
       "  <tbody>\n",
       "    <tr>\n",
       "      <th>55</th>\n",
       "      <td>mazda</td>\n",
       "      <td>150.0</td>\n",
       "      <td>95.3</td>\n",
       "      <td>169.0</td>\n",
       "      <td>65.7</td>\n",
       "      <td>49.6</td>\n",
       "      <td>2380</td>\n",
       "      <td>70</td>\n",
       "      <td>NaN</td>\n",
       "      <td>NaN</td>\n",
       "      <td>9.4</td>\n",
       "      <td>101.0</td>\n",
       "      <td>6000.0</td>\n",
       "      <td>17</td>\n",
       "      <td>23</td>\n",
       "      <td>10945.0</td>\n",
       "    </tr>\n",
       "    <tr>\n",
       "      <th>56</th>\n",
       "      <td>mazda</td>\n",
       "      <td>150.0</td>\n",
       "      <td>95.3</td>\n",
       "      <td>169.0</td>\n",
       "      <td>65.7</td>\n",
       "      <td>49.6</td>\n",
       "      <td>2380</td>\n",
       "      <td>70</td>\n",
       "      <td>NaN</td>\n",
       "      <td>NaN</td>\n",
       "      <td>9.4</td>\n",
       "      <td>101.0</td>\n",
       "      <td>6000.0</td>\n",
       "      <td>17</td>\n",
       "      <td>23</td>\n",
       "      <td>11845.0</td>\n",
       "    </tr>\n",
       "    <tr>\n",
       "      <th>57</th>\n",
       "      <td>mazda</td>\n",
       "      <td>150.0</td>\n",
       "      <td>95.3</td>\n",
       "      <td>169.0</td>\n",
       "      <td>65.7</td>\n",
       "      <td>49.6</td>\n",
       "      <td>2385</td>\n",
       "      <td>70</td>\n",
       "      <td>NaN</td>\n",
       "      <td>NaN</td>\n",
       "      <td>9.4</td>\n",
       "      <td>101.0</td>\n",
       "      <td>6000.0</td>\n",
       "      <td>17</td>\n",
       "      <td>23</td>\n",
       "      <td>13645.0</td>\n",
       "    </tr>\n",
       "    <tr>\n",
       "      <th>58</th>\n",
       "      <td>mazda</td>\n",
       "      <td>150.0</td>\n",
       "      <td>95.3</td>\n",
       "      <td>169.0</td>\n",
       "      <td>65.7</td>\n",
       "      <td>49.6</td>\n",
       "      <td>2500</td>\n",
       "      <td>80</td>\n",
       "      <td>NaN</td>\n",
       "      <td>NaN</td>\n",
       "      <td>9.4</td>\n",
       "      <td>135.0</td>\n",
       "      <td>6000.0</td>\n",
       "      <td>16</td>\n",
       "      <td>23</td>\n",
       "      <td>15645.0</td>\n",
       "    </tr>\n",
       "  </tbody>\n",
       "</table>\n",
       "</div>"
      ],
      "text/plain": [
       "     make  normalized_losses  wheel_base  length  width  height  curb_weight  \\\n",
       "55  mazda              150.0        95.3   169.0   65.7    49.6         2380   \n",
       "56  mazda              150.0        95.3   169.0   65.7    49.6         2380   \n",
       "57  mazda              150.0        95.3   169.0   65.7    49.6         2385   \n",
       "58  mazda              150.0        95.3   169.0   65.7    49.6         2500   \n",
       "\n",
       "    engine_size  bore  stroke  compression_ratio  horsepower  peak_rpm  \\\n",
       "55           70   NaN     NaN                9.4       101.0    6000.0   \n",
       "56           70   NaN     NaN                9.4       101.0    6000.0   \n",
       "57           70   NaN     NaN                9.4       101.0    6000.0   \n",
       "58           80   NaN     NaN                9.4       135.0    6000.0   \n",
       "\n",
       "    city_mpg  highway_mpg    price  \n",
       "55        17           23  10945.0  \n",
       "56        17           23  11845.0  \n",
       "57        17           23  13645.0  \n",
       "58        16           23  15645.0  "
      ]
     },
     "execution_count": 27,
     "metadata": {},
     "output_type": "execute_result"
    }
   ],
   "source": [
    "num_cars[num_cars['bore'].isna()]"
   ]
  },
  {
   "cell_type": "markdown",
   "metadata": {},
   "source": [
    "All the `nan` values for `bore` and `stroke` are under the `mazda` make, with a `hatchback` body style. \n",
    "\n",
    "We should avoid removing any more observations as the dataset is limited. We can note that `bore` and `stroke` are based on the type of the engine, and categorize the power it can make. As we have other variables to describe the engine (`engine_type`, `engine_size`) and the bore/stroke descriptions are summarized by the `compression_ratio`, we will remove these features."
   ]
  },
  {
   "cell_type": "code",
   "execution_count": 28,
   "metadata": {
    "collapsed": false,
    "jupyter": {
     "outputs_hidden": false
    }
   },
   "outputs": [],
   "source": [
    "num_cars = num_cars.drop(['bore','stroke'],axis=1)"
   ]
  },
  {
   "cell_type": "code",
   "execution_count": 29,
   "metadata": {},
   "outputs": [
    {
     "name": "stdout",
     "output_type": "stream",
     "text": [
      "<class 'pandas.core.frame.DataFrame'>\n",
      "Int64Index: 201 entries, 0 to 204\n",
      "Data columns (total 14 columns):\n",
      " #   Column             Non-Null Count  Dtype  \n",
      "---  ------             --------------  -----  \n",
      " 0   make               201 non-null    object \n",
      " 1   normalized_losses  201 non-null    float64\n",
      " 2   wheel_base         201 non-null    float64\n",
      " 3   length             201 non-null    float64\n",
      " 4   width              201 non-null    float64\n",
      " 5   height             201 non-null    float64\n",
      " 6   curb_weight        201 non-null    int64  \n",
      " 7   engine_size        201 non-null    int64  \n",
      " 8   compression_ratio  201 non-null    float64\n",
      " 9   horsepower         199 non-null    float64\n",
      " 10  peak_rpm           199 non-null    float64\n",
      " 11  city_mpg           201 non-null    int64  \n",
      " 12  highway_mpg        201 non-null    int64  \n",
      " 13  price              201 non-null    float64\n",
      "dtypes: float64(9), int64(4), object(1)\n",
      "memory usage: 33.6+ KB\n"
     ]
    }
   ],
   "source": [
    "num_cars.info()"
   ]
  },
  {
   "cell_type": "markdown",
   "metadata": {},
   "source": [
    "### horsepower and peak_rpm"
   ]
  },
  {
   "cell_type": "code",
   "execution_count": 30,
   "metadata": {},
   "outputs": [
    {
     "data": {
      "text/html": [
       "<div>\n",
       "<style scoped>\n",
       "    .dataframe tbody tr th:only-of-type {\n",
       "        vertical-align: middle;\n",
       "    }\n",
       "\n",
       "    .dataframe tbody tr th {\n",
       "        vertical-align: top;\n",
       "    }\n",
       "\n",
       "    .dataframe thead th {\n",
       "        text-align: right;\n",
       "    }\n",
       "</style>\n",
       "<table border=\"1\" class=\"dataframe\">\n",
       "  <thead>\n",
       "    <tr style=\"text-align: right;\">\n",
       "      <th></th>\n",
       "      <th>make</th>\n",
       "      <th>normalized_losses</th>\n",
       "      <th>wheel_base</th>\n",
       "      <th>length</th>\n",
       "      <th>width</th>\n",
       "      <th>height</th>\n",
       "      <th>curb_weight</th>\n",
       "      <th>engine_size</th>\n",
       "      <th>compression_ratio</th>\n",
       "      <th>horsepower</th>\n",
       "      <th>peak_rpm</th>\n",
       "      <th>city_mpg</th>\n",
       "      <th>highway_mpg</th>\n",
       "      <th>price</th>\n",
       "    </tr>\n",
       "  </thead>\n",
       "  <tbody>\n",
       "    <tr>\n",
       "      <th>130</th>\n",
       "      <td>renault</td>\n",
       "      <td>125.912731</td>\n",
       "      <td>96.1</td>\n",
       "      <td>181.5</td>\n",
       "      <td>66.5</td>\n",
       "      <td>55.2</td>\n",
       "      <td>2579</td>\n",
       "      <td>132</td>\n",
       "      <td>8.7</td>\n",
       "      <td>NaN</td>\n",
       "      <td>NaN</td>\n",
       "      <td>23</td>\n",
       "      <td>31</td>\n",
       "      <td>9295.0</td>\n",
       "    </tr>\n",
       "    <tr>\n",
       "      <th>131</th>\n",
       "      <td>renault</td>\n",
       "      <td>125.912731</td>\n",
       "      <td>96.1</td>\n",
       "      <td>176.8</td>\n",
       "      <td>66.6</td>\n",
       "      <td>50.5</td>\n",
       "      <td>2460</td>\n",
       "      <td>132</td>\n",
       "      <td>8.7</td>\n",
       "      <td>NaN</td>\n",
       "      <td>NaN</td>\n",
       "      <td>23</td>\n",
       "      <td>31</td>\n",
       "      <td>9895.0</td>\n",
       "    </tr>\n",
       "  </tbody>\n",
       "</table>\n",
       "</div>"
      ],
      "text/plain": [
       "        make  normalized_losses  wheel_base  length  width  height  \\\n",
       "130  renault         125.912731        96.1   181.5   66.5    55.2   \n",
       "131  renault         125.912731        96.1   176.8   66.6    50.5   \n",
       "\n",
       "     curb_weight  engine_size  compression_ratio  horsepower  peak_rpm  \\\n",
       "130         2579          132                8.7         NaN       NaN   \n",
       "131         2460          132                8.7         NaN       NaN   \n",
       "\n",
       "     city_mpg  highway_mpg   price  \n",
       "130        23           31  9295.0  \n",
       "131        23           31  9895.0  "
      ]
     },
     "execution_count": 30,
     "metadata": {},
     "output_type": "execute_result"
    }
   ],
   "source": [
    "num_cars[num_cars['horsepower'].isna()]"
   ]
  },
  {
   "cell_type": "markdown",
   "metadata": {},
   "source": [
    "The two `nan` in these variables belong to the same make, and to observations with very similar characteristics"
   ]
  },
  {
   "cell_type": "code",
   "execution_count": 31,
   "metadata": {},
   "outputs": [
    {
     "data": {
      "text/html": [
       "<div>\n",
       "<style scoped>\n",
       "    .dataframe tbody tr th:only-of-type {\n",
       "        vertical-align: middle;\n",
       "    }\n",
       "\n",
       "    .dataframe tbody tr th {\n",
       "        vertical-align: top;\n",
       "    }\n",
       "\n",
       "    .dataframe thead th {\n",
       "        text-align: right;\n",
       "    }\n",
       "</style>\n",
       "<table border=\"1\" class=\"dataframe\">\n",
       "  <thead>\n",
       "    <tr style=\"text-align: right;\">\n",
       "      <th></th>\n",
       "      <th>make</th>\n",
       "      <th>normalized_losses</th>\n",
       "      <th>wheel_base</th>\n",
       "      <th>length</th>\n",
       "      <th>width</th>\n",
       "      <th>height</th>\n",
       "      <th>curb_weight</th>\n",
       "      <th>engine_size</th>\n",
       "      <th>compression_ratio</th>\n",
       "      <th>horsepower</th>\n",
       "      <th>peak_rpm</th>\n",
       "      <th>city_mpg</th>\n",
       "      <th>highway_mpg</th>\n",
       "      <th>price</th>\n",
       "    </tr>\n",
       "  </thead>\n",
       "  <tbody>\n",
       "    <tr>\n",
       "      <th>130</th>\n",
       "      <td>renault</td>\n",
       "      <td>125.912731</td>\n",
       "      <td>96.1</td>\n",
       "      <td>181.5</td>\n",
       "      <td>66.5</td>\n",
       "      <td>55.2</td>\n",
       "      <td>2579</td>\n",
       "      <td>132</td>\n",
       "      <td>8.7</td>\n",
       "      <td>NaN</td>\n",
       "      <td>NaN</td>\n",
       "      <td>23</td>\n",
       "      <td>31</td>\n",
       "      <td>9295.0</td>\n",
       "    </tr>\n",
       "    <tr>\n",
       "      <th>131</th>\n",
       "      <td>renault</td>\n",
       "      <td>125.912731</td>\n",
       "      <td>96.1</td>\n",
       "      <td>176.8</td>\n",
       "      <td>66.6</td>\n",
       "      <td>50.5</td>\n",
       "      <td>2460</td>\n",
       "      <td>132</td>\n",
       "      <td>8.7</td>\n",
       "      <td>NaN</td>\n",
       "      <td>NaN</td>\n",
       "      <td>23</td>\n",
       "      <td>31</td>\n",
       "      <td>9895.0</td>\n",
       "    </tr>\n",
       "  </tbody>\n",
       "</table>\n",
       "</div>"
      ],
      "text/plain": [
       "        make  normalized_losses  wheel_base  length  width  height  \\\n",
       "130  renault         125.912731        96.1   181.5   66.5    55.2   \n",
       "131  renault         125.912731        96.1   176.8   66.6    50.5   \n",
       "\n",
       "     curb_weight  engine_size  compression_ratio  horsepower  peak_rpm  \\\n",
       "130         2579          132                8.7         NaN       NaN   \n",
       "131         2460          132                8.7         NaN       NaN   \n",
       "\n",
       "     city_mpg  highway_mpg   price  \n",
       "130        23           31  9295.0  \n",
       "131        23           31  9895.0  "
      ]
     },
     "execution_count": 31,
     "metadata": {},
     "output_type": "execute_result"
    }
   ],
   "source": [
    "num_cars[num_cars['make']=='renault']"
   ]
  },
  {
   "cell_type": "markdown",
   "metadata": {},
   "source": [
    "These two cars also happen to be the only `renault` observations, and the `normalized_losses` was estimated. "
   ]
  },
  {
   "cell_type": "code",
   "execution_count": 32,
   "metadata": {},
   "outputs": [
    {
     "data": {
      "text/html": [
       "<div>\n",
       "<style scoped>\n",
       "    .dataframe tbody tr th:only-of-type {\n",
       "        vertical-align: middle;\n",
       "    }\n",
       "\n",
       "    .dataframe tbody tr th {\n",
       "        vertical-align: top;\n",
       "    }\n",
       "\n",
       "    .dataframe thead th {\n",
       "        text-align: right;\n",
       "    }\n",
       "</style>\n",
       "<table border=\"1\" class=\"dataframe\">\n",
       "  <thead>\n",
       "    <tr style=\"text-align: right;\">\n",
       "      <th></th>\n",
       "      <th>make</th>\n",
       "      <th>normalized_losses</th>\n",
       "      <th>wheel_base</th>\n",
       "      <th>length</th>\n",
       "      <th>width</th>\n",
       "      <th>height</th>\n",
       "      <th>curb_weight</th>\n",
       "      <th>engine_size</th>\n",
       "      <th>compression_ratio</th>\n",
       "      <th>horsepower</th>\n",
       "      <th>peak_rpm</th>\n",
       "      <th>city_mpg</th>\n",
       "      <th>highway_mpg</th>\n",
       "      <th>price</th>\n",
       "    </tr>\n",
       "  </thead>\n",
       "  <tbody>\n",
       "    <tr>\n",
       "      <th>100</th>\n",
       "      <td>nissan</td>\n",
       "      <td>106.000000</td>\n",
       "      <td>97.2</td>\n",
       "      <td>173.4</td>\n",
       "      <td>65.2</td>\n",
       "      <td>54.7</td>\n",
       "      <td>2302</td>\n",
       "      <td>120</td>\n",
       "      <td>8.5</td>\n",
       "      <td>97.0</td>\n",
       "      <td>5200.0</td>\n",
       "      <td>27</td>\n",
       "      <td>34</td>\n",
       "      <td>9549.0</td>\n",
       "    </tr>\n",
       "    <tr>\n",
       "      <th>130</th>\n",
       "      <td>renault</td>\n",
       "      <td>125.912731</td>\n",
       "      <td>96.1</td>\n",
       "      <td>181.5</td>\n",
       "      <td>66.5</td>\n",
       "      <td>55.2</td>\n",
       "      <td>2579</td>\n",
       "      <td>132</td>\n",
       "      <td>8.7</td>\n",
       "      <td>NaN</td>\n",
       "      <td>NaN</td>\n",
       "      <td>23</td>\n",
       "      <td>31</td>\n",
       "      <td>9295.0</td>\n",
       "    </tr>\n",
       "    <tr>\n",
       "      <th>131</th>\n",
       "      <td>renault</td>\n",
       "      <td>125.912731</td>\n",
       "      <td>96.1</td>\n",
       "      <td>176.8</td>\n",
       "      <td>66.6</td>\n",
       "      <td>50.5</td>\n",
       "      <td>2460</td>\n",
       "      <td>132</td>\n",
       "      <td>8.7</td>\n",
       "      <td>NaN</td>\n",
       "      <td>NaN</td>\n",
       "      <td>23</td>\n",
       "      <td>31</td>\n",
       "      <td>9895.0</td>\n",
       "    </tr>\n",
       "    <tr>\n",
       "      <th>175</th>\n",
       "      <td>toyota</td>\n",
       "      <td>65.000000</td>\n",
       "      <td>102.4</td>\n",
       "      <td>175.6</td>\n",
       "      <td>66.5</td>\n",
       "      <td>53.9</td>\n",
       "      <td>2414</td>\n",
       "      <td>122</td>\n",
       "      <td>8.7</td>\n",
       "      <td>92.0</td>\n",
       "      <td>4200.0</td>\n",
       "      <td>27</td>\n",
       "      <td>32</td>\n",
       "      <td>9988.0</td>\n",
       "    </tr>\n",
       "    <tr>\n",
       "      <th>190</th>\n",
       "      <td>volkswagen</td>\n",
       "      <td>256.000000</td>\n",
       "      <td>94.5</td>\n",
       "      <td>165.7</td>\n",
       "      <td>64.0</td>\n",
       "      <td>51.4</td>\n",
       "      <td>2221</td>\n",
       "      <td>109</td>\n",
       "      <td>8.5</td>\n",
       "      <td>90.0</td>\n",
       "      <td>5500.0</td>\n",
       "      <td>24</td>\n",
       "      <td>29</td>\n",
       "      <td>9980.0</td>\n",
       "    </tr>\n",
       "  </tbody>\n",
       "</table>\n",
       "</div>"
      ],
      "text/plain": [
       "           make  normalized_losses  wheel_base  length  width  height  \\\n",
       "100      nissan         106.000000        97.2   173.4   65.2    54.7   \n",
       "130     renault         125.912731        96.1   181.5   66.5    55.2   \n",
       "131     renault         125.912731        96.1   176.8   66.6    50.5   \n",
       "175      toyota          65.000000       102.4   175.6   66.5    53.9   \n",
       "190  volkswagen         256.000000        94.5   165.7   64.0    51.4   \n",
       "\n",
       "     curb_weight  engine_size  compression_ratio  horsepower  peak_rpm  \\\n",
       "100         2302          120                8.5        97.0    5200.0   \n",
       "130         2579          132                8.7         NaN       NaN   \n",
       "131         2460          132                8.7         NaN       NaN   \n",
       "175         2414          122                8.7        92.0    4200.0   \n",
       "190         2221          109                8.5        90.0    5500.0   \n",
       "\n",
       "     city_mpg  highway_mpg   price  \n",
       "100        27           34  9549.0  \n",
       "130        23           31  9295.0  \n",
       "131        23           31  9895.0  \n",
       "175        27           32  9988.0  \n",
       "190        24           29  9980.0  "
      ]
     },
     "execution_count": 32,
     "metadata": {},
     "output_type": "execute_result"
    }
   ],
   "source": [
    "renault_similars = num_cars[(num_cars['price']<10000) & (num_cars['price'] > 9000) & \n",
    "                            (num_cars['compression_ratio'] > 8) & (num_cars['compression_ratio'] < 9)]\n",
    "renault_similars"
   ]
  },
  {
   "cell_type": "markdown",
   "metadata": {},
   "source": [
    "The two renaults have very similar characteristics (of continuous variables at least) to 3 other cars. We will take the mean `horsepower` and `peak_rpm` of these 3 cars and use it for the renault."
   ]
  },
  {
   "cell_type": "code",
   "execution_count": 33,
   "metadata": {},
   "outputs": [],
   "source": [
    "mean_horse = renault_similars[['horsepower','peak_rpm']].mean()[0]\n",
    "mean_rpm = renault_similars[['horsepower','peak_rpm']].mean()[1]"
   ]
  },
  {
   "cell_type": "code",
   "execution_count": 34,
   "metadata": {},
   "outputs": [],
   "source": [
    "for i in [130,131]:\n",
    "    num_cars.loc[i,'horsepower'] = mean_horse\n",
    "    num_cars.loc[i,'peak_rpm'] = mean_rpm"
   ]
  },
  {
   "cell_type": "code",
   "execution_count": 35,
   "metadata": {},
   "outputs": [
    {
     "data": {
      "text/plain": [
       "make                 0\n",
       "normalized_losses    0\n",
       "wheel_base           0\n",
       "length               0\n",
       "width                0\n",
       "height               0\n",
       "curb_weight          0\n",
       "engine_size          0\n",
       "compression_ratio    0\n",
       "horsepower           0\n",
       "peak_rpm             0\n",
       "city_mpg             0\n",
       "highway_mpg          0\n",
       "price                0\n",
       "dtype: int64"
      ]
     },
     "execution_count": 35,
     "metadata": {},
     "output_type": "execute_result"
    }
   ],
   "source": [
    "num_cars.isna().sum()"
   ]
  },
  {
   "cell_type": "markdown",
   "metadata": {},
   "source": [
    "We have no more `nan` to take care of!"
   ]
  },
  {
   "cell_type": "markdown",
   "metadata": {},
   "source": [
    "## Normalization"
   ]
  },
  {
   "cell_type": "markdown",
   "metadata": {},
   "source": [
    "In order to properly compare across numeric features, we will normalize the values using min-max normalization:\n",
    "\n",
    "`(x - min(x))/(max(x) - min(x))`"
   ]
  },
  {
   "cell_type": "code",
   "execution_count": 36,
   "metadata": {},
   "outputs": [],
   "source": [
    "norm_cars = num_cars.copy()"
   ]
  },
  {
   "cell_type": "code",
   "execution_count": 37,
   "metadata": {},
   "outputs": [],
   "source": [
    "norm_cols = list(norm_cars.columns)\n",
    "norm_cols.remove('price')\n",
    "norm_cols.remove('make')"
   ]
  },
  {
   "cell_type": "code",
   "execution_count": 38,
   "metadata": {},
   "outputs": [],
   "source": [
    "# normalize everything except the price (and the make)\n",
    "for col in norm_cols:\n",
    "    norm_cars[col] = (norm_cars[col]-norm_cars[col].min())/(norm_cars[col].max()-norm_cars[col].min())"
   ]
  },
  {
   "cell_type": "code",
   "execution_count": 39,
   "metadata": {
    "collapsed": false,
    "jupyter": {
     "outputs_hidden": false
    }
   },
   "outputs": [
    {
     "data": {
      "text/html": [
       "<div>\n",
       "<style scoped>\n",
       "    .dataframe tbody tr th:only-of-type {\n",
       "        vertical-align: middle;\n",
       "    }\n",
       "\n",
       "    .dataframe tbody tr th {\n",
       "        vertical-align: top;\n",
       "    }\n",
       "\n",
       "    .dataframe thead th {\n",
       "        text-align: right;\n",
       "    }\n",
       "</style>\n",
       "<table border=\"1\" class=\"dataframe\">\n",
       "  <thead>\n",
       "    <tr style=\"text-align: right;\">\n",
       "      <th></th>\n",
       "      <th>make</th>\n",
       "      <th>normalized_losses</th>\n",
       "      <th>wheel_base</th>\n",
       "      <th>length</th>\n",
       "      <th>width</th>\n",
       "      <th>height</th>\n",
       "      <th>curb_weight</th>\n",
       "      <th>engine_size</th>\n",
       "      <th>compression_ratio</th>\n",
       "      <th>horsepower</th>\n",
       "      <th>peak_rpm</th>\n",
       "      <th>city_mpg</th>\n",
       "      <th>highway_mpg</th>\n",
       "      <th>price</th>\n",
       "    </tr>\n",
       "  </thead>\n",
       "  <tbody>\n",
       "    <tr>\n",
       "      <th>0</th>\n",
       "      <td>alfa-romero</td>\n",
       "      <td>0.318915</td>\n",
       "      <td>0.058309</td>\n",
       "      <td>0.413433</td>\n",
       "      <td>0.324786</td>\n",
       "      <td>0.083333</td>\n",
       "      <td>0.411171</td>\n",
       "      <td>0.260377</td>\n",
       "      <td>0.1250</td>\n",
       "      <td>0.294393</td>\n",
       "      <td>0.346939</td>\n",
       "      <td>0.222222</td>\n",
       "      <td>0.289474</td>\n",
       "      <td>13495.0</td>\n",
       "    </tr>\n",
       "    <tr>\n",
       "      <th>1</th>\n",
       "      <td>alfa-romero</td>\n",
       "      <td>0.318915</td>\n",
       "      <td>0.058309</td>\n",
       "      <td>0.413433</td>\n",
       "      <td>0.324786</td>\n",
       "      <td>0.083333</td>\n",
       "      <td>0.411171</td>\n",
       "      <td>0.260377</td>\n",
       "      <td>0.1250</td>\n",
       "      <td>0.294393</td>\n",
       "      <td>0.346939</td>\n",
       "      <td>0.222222</td>\n",
       "      <td>0.289474</td>\n",
       "      <td>16500.0</td>\n",
       "    </tr>\n",
       "    <tr>\n",
       "      <th>2</th>\n",
       "      <td>alfa-romero</td>\n",
       "      <td>0.318915</td>\n",
       "      <td>0.230321</td>\n",
       "      <td>0.449254</td>\n",
       "      <td>0.444444</td>\n",
       "      <td>0.383333</td>\n",
       "      <td>0.517843</td>\n",
       "      <td>0.343396</td>\n",
       "      <td>0.1250</td>\n",
       "      <td>0.495327</td>\n",
       "      <td>0.346939</td>\n",
       "      <td>0.166667</td>\n",
       "      <td>0.263158</td>\n",
       "      <td>16500.0</td>\n",
       "    </tr>\n",
       "    <tr>\n",
       "      <th>3</th>\n",
       "      <td>audi</td>\n",
       "      <td>0.518325</td>\n",
       "      <td>0.384840</td>\n",
       "      <td>0.529851</td>\n",
       "      <td>0.504274</td>\n",
       "      <td>0.541667</td>\n",
       "      <td>0.329325</td>\n",
       "      <td>0.181132</td>\n",
       "      <td>0.1875</td>\n",
       "      <td>0.252336</td>\n",
       "      <td>0.551020</td>\n",
       "      <td>0.305556</td>\n",
       "      <td>0.368421</td>\n",
       "      <td>13950.0</td>\n",
       "    </tr>\n",
       "    <tr>\n",
       "      <th>4</th>\n",
       "      <td>audi</td>\n",
       "      <td>0.518325</td>\n",
       "      <td>0.373178</td>\n",
       "      <td>0.529851</td>\n",
       "      <td>0.521368</td>\n",
       "      <td>0.541667</td>\n",
       "      <td>0.518231</td>\n",
       "      <td>0.283019</td>\n",
       "      <td>0.0625</td>\n",
       "      <td>0.313084</td>\n",
       "      <td>0.551020</td>\n",
       "      <td>0.138889</td>\n",
       "      <td>0.157895</td>\n",
       "      <td>17450.0</td>\n",
       "    </tr>\n",
       "  </tbody>\n",
       "</table>\n",
       "</div>"
      ],
      "text/plain": [
       "          make  normalized_losses  wheel_base    length     width    height  \\\n",
       "0  alfa-romero           0.318915    0.058309  0.413433  0.324786  0.083333   \n",
       "1  alfa-romero           0.318915    0.058309  0.413433  0.324786  0.083333   \n",
       "2  alfa-romero           0.318915    0.230321  0.449254  0.444444  0.383333   \n",
       "3         audi           0.518325    0.384840  0.529851  0.504274  0.541667   \n",
       "4         audi           0.518325    0.373178  0.529851  0.521368  0.541667   \n",
       "\n",
       "   curb_weight  engine_size  compression_ratio  horsepower  peak_rpm  \\\n",
       "0     0.411171     0.260377             0.1250    0.294393  0.346939   \n",
       "1     0.411171     0.260377             0.1250    0.294393  0.346939   \n",
       "2     0.517843     0.343396             0.1250    0.495327  0.346939   \n",
       "3     0.329325     0.181132             0.1875    0.252336  0.551020   \n",
       "4     0.518231     0.283019             0.0625    0.313084  0.551020   \n",
       "\n",
       "   city_mpg  highway_mpg    price  \n",
       "0  0.222222     0.289474  13495.0  \n",
       "1  0.222222     0.289474  16500.0  \n",
       "2  0.166667     0.263158  16500.0  \n",
       "3  0.305556     0.368421  13950.0  \n",
       "4  0.138889     0.157895  17450.0  "
      ]
     },
     "execution_count": 39,
     "metadata": {},
     "output_type": "execute_result"
    }
   ],
   "source": [
    "norm_cars.head()"
   ]
  },
  {
   "cell_type": "markdown",
   "metadata": {},
   "source": [
    "# Univariate Model Building"
   ]
  },
  {
   "cell_type": "markdown",
   "metadata": {},
   "source": [
    "In our first journey in machine learning, we will build several univariate KNN models to see which single feature best predicts the target (`price`)."
   ]
  },
  {
   "cell_type": "code",
   "execution_count": 40,
   "metadata": {},
   "outputs": [],
   "source": [
    "from sklearn.neighbors import KNeighborsRegressor\n",
    "from sklearn.metrics import mean_squared_error"
   ]
  },
  {
   "cell_type": "code",
   "execution_count": 41,
   "metadata": {},
   "outputs": [],
   "source": [
    "def uni_knn_train_test(train_col, targ_col, df, k = 5):\n",
    "    '''\n",
    "    Trains and validates using KNN to predict the targ_col\n",
    "    from the train_col.\n",
    "    \n",
    "    input\n",
    "    -----\n",
    "    train_col: str\n",
    "    targ_col: str\n",
    "    df: pd.DataFrame\n",
    "    k: int\n",
    "    '''\n",
    "    # define feature and target\n",
    "    np.random.seed(1)\n",
    "    feature = [train_col]\n",
    "    target = targ_col\n",
    "    \n",
    "    # shuffle the order of dataset\n",
    "    shuffled = df.loc[np.random.permutation(df.index)].copy()\n",
    "    shuffled = shuffled.reindex()\n",
    "    \n",
    "    # divide the dataset into train and test dataframes\n",
    "    eighty = round(len(shuffled) * 0.8)\n",
    "    train_df = shuffled.loc[:eighty,:]\n",
    "    test_df = shuffled.loc[eighty:,:]\n",
    "    \n",
    "    # initiate and fit our model to the dataset\n",
    "    knn = KNeighborsRegressor(n_neighbors = k, algorithm = 'brute')\n",
    "    knn.fit(train_df[feature],train_df[target])\n",
    "    \n",
    "    # predict using our KNN algorithm\n",
    "    prediction = knn.predict(test_df[feature])\n",
    "    \n",
    "    # calculate the evaluating statistic (root mean squared error)\n",
    "    mse = mean_squared_error(test_df[target],prediction)\n",
    "    rmse = np.sqrt(mse)\n",
    "    \n",
    "    return rmse"
   ]
  },
  {
   "cell_type": "code",
   "execution_count": 42,
   "metadata": {
    "collapsed": false,
    "jupyter": {
     "outputs_hidden": false
    }
   },
   "outputs": [],
   "source": [
    "# get the rmse for each feature\n",
    "rmse_dic = {}\n",
    "\n",
    "for col in norm_cols:\n",
    "    rmse_dic[col] = uni_knn_train_test(col,'price',norm_cars)"
   ]
  },
  {
   "cell_type": "code",
   "execution_count": 43,
   "metadata": {
    "collapsed": false,
    "jupyter": {
     "outputs_hidden": false
    }
   },
   "outputs": [
    {
     "data": {
      "text/plain": [
       "engine_size          2702.193221\n",
       "curb_weight          3078.149019\n",
       "city_mpg             3078.576726\n",
       "wheel_base           4006.715263\n",
       "width                4524.882412\n",
       "highway_mpg          4904.796976\n",
       "horsepower           5105.442424\n",
       "length               6575.213755\n",
       "compression_ratio    7218.477120\n",
       "height               7824.389337\n",
       "peak_rpm             7989.148097\n",
       "normalized_losses    8218.834488\n",
       "dtype: float64"
      ]
     },
     "execution_count": 43,
     "metadata": {},
     "output_type": "execute_result"
    }
   ],
   "source": [
    "k_5_uni_knn = pd.Series(rmse_dic).sort_values()\n",
    "k_5_uni_knn"
   ]
  },
  {
   "cell_type": "markdown",
   "metadata": {},
   "source": [
    "Based on our simple univariate KNN model (using k=5) so far, `engine_size` and `curb_weight` or `city_mpg` were best able to predict the `price` of a car.\n",
    "\n",
    "We will next figure out whether the hyperparameter can be tweeked for more accurate results."
   ]
  },
  {
   "cell_type": "code",
   "execution_count": 44,
   "metadata": {
    "collapsed": false,
    "jupyter": {
     "outputs_hidden": false
    }
   },
   "outputs": [],
   "source": [
    "rmse_dic_multi = {}"
   ]
  },
  {
   "cell_type": "code",
   "execution_count": 45,
   "metadata": {
    "collapsed": false,
    "jupyter": {
     "outputs_hidden": false
    }
   },
   "outputs": [],
   "source": [
    "# get the rmse for each column, at different k neighbor values\n",
    "for col in norm_cols:\n",
    "    col_k = {}\n",
    "    for k in range(1,26):\n",
    "        rmse = uni_knn_train_test(col,'price',norm_cars,k=k)\n",
    "        col_k[k] = rmse\n",
    "    rmse_dic_multi[col] = col_k"
   ]
  },
  {
   "cell_type": "code",
   "execution_count": 46,
   "metadata": {},
   "outputs": [
    {
     "data": {
      "text/html": [
       "<div>\n",
       "<style scoped>\n",
       "    .dataframe tbody tr th:only-of-type {\n",
       "        vertical-align: middle;\n",
       "    }\n",
       "\n",
       "    .dataframe tbody tr th {\n",
       "        vertical-align: top;\n",
       "    }\n",
       "\n",
       "    .dataframe thead th {\n",
       "        text-align: right;\n",
       "    }\n",
       "</style>\n",
       "<table border=\"1\" class=\"dataframe\">\n",
       "  <thead>\n",
       "    <tr style=\"text-align: right;\">\n",
       "      <th></th>\n",
       "      <th>k_value</th>\n",
       "      <th>normalized_losses</th>\n",
       "      <th>wheel_base</th>\n",
       "      <th>length</th>\n",
       "      <th>width</th>\n",
       "      <th>height</th>\n",
       "      <th>curb_weight</th>\n",
       "      <th>engine_size</th>\n",
       "      <th>compression_ratio</th>\n",
       "      <th>horsepower</th>\n",
       "      <th>peak_rpm</th>\n",
       "      <th>city_mpg</th>\n",
       "      <th>highway_mpg</th>\n",
       "    </tr>\n",
       "  </thead>\n",
       "  <tbody>\n",
       "    <tr>\n",
       "      <th>0</th>\n",
       "      <td>1</td>\n",
       "      <td>4586.752681</td>\n",
       "      <td>3694.385363</td>\n",
       "      <td>7426.252211</td>\n",
       "      <td>3993.545747</td>\n",
       "      <td>10556.603219</td>\n",
       "      <td>3500.730300</td>\n",
       "      <td>2690.466952</td>\n",
       "      <td>8452.798721</td>\n",
       "      <td>4011.642537</td>\n",
       "      <td>8618.094587</td>\n",
       "      <td>3640.693420</td>\n",
       "      <td>7342.577652</td>\n",
       "    </tr>\n",
       "    <tr>\n",
       "      <th>1</th>\n",
       "      <td>2</td>\n",
       "      <td>4871.857027</td>\n",
       "      <td>3226.397865</td>\n",
       "      <td>7181.491842</td>\n",
       "      <td>3270.233772</td>\n",
       "      <td>8532.717920</td>\n",
       "      <td>3153.316783</td>\n",
       "      <td>2339.360425</td>\n",
       "      <td>7019.380479</td>\n",
       "      <td>4509.945982</td>\n",
       "      <td>8942.841801</td>\n",
       "      <td>3837.084239</td>\n",
       "      <td>4865.481396</td>\n",
       "    </tr>\n",
       "    <tr>\n",
       "      <th>2</th>\n",
       "      <td>3</td>\n",
       "      <td>7368.558972</td>\n",
       "      <td>3318.724214</td>\n",
       "      <td>7451.835311</td>\n",
       "      <td>4492.573560</td>\n",
       "      <td>8065.544094</td>\n",
       "      <td>3680.936941</td>\n",
       "      <td>2681.522527</td>\n",
       "      <td>6372.607770</td>\n",
       "      <td>5010.469933</td>\n",
       "      <td>8928.444914</td>\n",
       "      <td>3702.485051</td>\n",
       "      <td>4622.595563</td>\n",
       "    </tr>\n",
       "    <tr>\n",
       "      <th>3</th>\n",
       "      <td>4</td>\n",
       "      <td>9076.406715</td>\n",
       "      <td>4184.374575</td>\n",
       "      <td>7278.541556</td>\n",
       "      <td>4182.359319</td>\n",
       "      <td>8178.774726</td>\n",
       "      <td>3513.550019</td>\n",
       "      <td>2642.371090</td>\n",
       "      <td>8035.701246</td>\n",
       "      <td>4650.967954</td>\n",
       "      <td>9372.265469</td>\n",
       "      <td>2935.948643</td>\n",
       "      <td>4606.271168</td>\n",
       "    </tr>\n",
       "    <tr>\n",
       "      <th>4</th>\n",
       "      <td>5</td>\n",
       "      <td>8218.834488</td>\n",
       "      <td>4006.715263</td>\n",
       "      <td>6575.213755</td>\n",
       "      <td>4524.882412</td>\n",
       "      <td>7824.389337</td>\n",
       "      <td>3078.149019</td>\n",
       "      <td>2702.193221</td>\n",
       "      <td>7218.477120</td>\n",
       "      <td>5105.442424</td>\n",
       "      <td>7989.148097</td>\n",
       "      <td>3078.576726</td>\n",
       "      <td>4904.796976</td>\n",
       "    </tr>\n",
       "  </tbody>\n",
       "</table>\n",
       "</div>"
      ],
      "text/plain": [
       "   k_value  normalized_losses   wheel_base       length        width  \\\n",
       "0        1        4586.752681  3694.385363  7426.252211  3993.545747   \n",
       "1        2        4871.857027  3226.397865  7181.491842  3270.233772   \n",
       "2        3        7368.558972  3318.724214  7451.835311  4492.573560   \n",
       "3        4        9076.406715  4184.374575  7278.541556  4182.359319   \n",
       "4        5        8218.834488  4006.715263  6575.213755  4524.882412   \n",
       "\n",
       "         height  curb_weight  engine_size  compression_ratio   horsepower  \\\n",
       "0  10556.603219  3500.730300  2690.466952        8452.798721  4011.642537   \n",
       "1   8532.717920  3153.316783  2339.360425        7019.380479  4509.945982   \n",
       "2   8065.544094  3680.936941  2681.522527        6372.607770  5010.469933   \n",
       "3   8178.774726  3513.550019  2642.371090        8035.701246  4650.967954   \n",
       "4   7824.389337  3078.149019  2702.193221        7218.477120  5105.442424   \n",
       "\n",
       "      peak_rpm     city_mpg  highway_mpg  \n",
       "0  8618.094587  3640.693420  7342.577652  \n",
       "1  8942.841801  3837.084239  4865.481396  \n",
       "2  8928.444914  3702.485051  4622.595563  \n",
       "3  9372.265469  2935.948643  4606.271168  \n",
       "4  7989.148097  3078.576726  4904.796976  "
      ]
     },
     "execution_count": 46,
     "metadata": {},
     "output_type": "execute_result"
    }
   ],
   "source": [
    "uni_multi_k = pd.DataFrame(rmse_dic_multi).reset_index()\n",
    "uni_multi_k.columns = ['k_value', 'normalized_losses', 'wheel_base', 'length', 'width', 'height',\n",
    "       'curb_weight', 'engine_size', 'compression_ratio', 'horsepower',\n",
    "       'peak_rpm', 'city_mpg', 'highway_mpg']\n",
    "uni_multi_k.head()"
   ]
  },
  {
   "cell_type": "markdown",
   "metadata": {},
   "source": [
    "The dataset above gives the root mean squared error for each feature, at different k neighbor hyperparameters. It's hard to visualize which `k_value` setting did best in the KNN algorithm, so let's plot it and see what we get."
   ]
  },
  {
   "cell_type": "code",
   "execution_count": 47,
   "metadata": {
    "collapsed": false,
    "jupyter": {
     "outputs_hidden": false
    }
   },
   "outputs": [
    {
     "data": {
      "text/html": [
       "<div>\n",
       "<style scoped>\n",
       "    .dataframe tbody tr th:only-of-type {\n",
       "        vertical-align: middle;\n",
       "    }\n",
       "\n",
       "    .dataframe tbody tr th {\n",
       "        vertical-align: top;\n",
       "    }\n",
       "\n",
       "    .dataframe thead th {\n",
       "        text-align: right;\n",
       "    }\n",
       "</style>\n",
       "<table border=\"1\" class=\"dataframe\">\n",
       "  <thead>\n",
       "    <tr style=\"text-align: right;\">\n",
       "      <th></th>\n",
       "      <th>k_value</th>\n",
       "      <th>feature</th>\n",
       "      <th>rmse</th>\n",
       "    </tr>\n",
       "  </thead>\n",
       "  <tbody>\n",
       "    <tr>\n",
       "      <th>0</th>\n",
       "      <td>1</td>\n",
       "      <td>normalized_losses</td>\n",
       "      <td>4586.752681</td>\n",
       "    </tr>\n",
       "    <tr>\n",
       "      <th>1</th>\n",
       "      <td>2</td>\n",
       "      <td>normalized_losses</td>\n",
       "      <td>4871.857027</td>\n",
       "    </tr>\n",
       "    <tr>\n",
       "      <th>2</th>\n",
       "      <td>3</td>\n",
       "      <td>normalized_losses</td>\n",
       "      <td>7368.558972</td>\n",
       "    </tr>\n",
       "    <tr>\n",
       "      <th>3</th>\n",
       "      <td>4</td>\n",
       "      <td>normalized_losses</td>\n",
       "      <td>9076.406715</td>\n",
       "    </tr>\n",
       "    <tr>\n",
       "      <th>4</th>\n",
       "      <td>5</td>\n",
       "      <td>normalized_losses</td>\n",
       "      <td>8218.834488</td>\n",
       "    </tr>\n",
       "  </tbody>\n",
       "</table>\n",
       "</div>"
      ],
      "text/plain": [
       "   k_value            feature         rmse\n",
       "0        1  normalized_losses  4586.752681\n",
       "1        2  normalized_losses  4871.857027\n",
       "2        3  normalized_losses  7368.558972\n",
       "3        4  normalized_losses  9076.406715\n",
       "4        5  normalized_losses  8218.834488"
      ]
     },
     "execution_count": 47,
     "metadata": {},
     "output_type": "execute_result"
    }
   ],
   "source": [
    "# Melt the dataset for plotting purposes\n",
    "uni_multi_k = uni_multi_k.melt(id_vars = 'k_value')\n",
    "uni_multi_k.columns = ['k_value','feature','rmse']\n",
    "uni_multi_k.head()"
   ]
  },
  {
   "cell_type": "code",
   "execution_count": 48,
   "metadata": {},
   "outputs": [
    {
     "data": {
      "text/plain": [
       "Text(0.5, 1.0, 'Root mean squared error by feature and hyperparameter')"
      ]
     },
     "execution_count": 48,
     "metadata": {},
     "output_type": "execute_result"
    },
    {
     "data": {
      "image/png": "[encoded data removed]",
      "text/plain": [
       "<Figure size 432x288 with 1 Axes>"
      ]
     },
     "metadata": {
      "needs_background": "light"
     },
     "output_type": "display_data"
    }
   ],
   "source": [
    "sns.lineplot(x = 'k_value',y='rmse',hue='feature',data=uni_multi_k)\n",
    "plt.legend(bbox_to_anchor = (1,1))\n",
    "plt.title('Root mean squared error by feature and hyperparameter')"
   ]
  },
  {
   "cell_type": "code",
   "execution_count": 49,
   "metadata": {},
   "outputs": [
    {
     "data": {
      "text/html": [
       "<div>\n",
       "<style scoped>\n",
       "    .dataframe tbody tr th:only-of-type {\n",
       "        vertical-align: middle;\n",
       "    }\n",
       "\n",
       "    .dataframe tbody tr th {\n",
       "        vertical-align: top;\n",
       "    }\n",
       "\n",
       "    .dataframe thead th {\n",
       "        text-align: right;\n",
       "    }\n",
       "</style>\n",
       "<table border=\"1\" class=\"dataframe\">\n",
       "  <thead>\n",
       "    <tr style=\"text-align: right;\">\n",
       "      <th></th>\n",
       "      <th>k_value</th>\n",
       "      <th>feature</th>\n",
       "      <th>rmse</th>\n",
       "    </tr>\n",
       "  </thead>\n",
       "  <tbody>\n",
       "    <tr>\n",
       "      <th>151</th>\n",
       "      <td>2</td>\n",
       "      <td>engine_size</td>\n",
       "      <td>2339.360425</td>\n",
       "    </tr>\n",
       "    <tr>\n",
       "      <th>153</th>\n",
       "      <td>4</td>\n",
       "      <td>engine_size</td>\n",
       "      <td>2642.371090</td>\n",
       "    </tr>\n",
       "    <tr>\n",
       "      <th>152</th>\n",
       "      <td>3</td>\n",
       "      <td>engine_size</td>\n",
       "      <td>2681.522527</td>\n",
       "    </tr>\n",
       "    <tr>\n",
       "      <th>150</th>\n",
       "      <td>1</td>\n",
       "      <td>engine_size</td>\n",
       "      <td>2690.466952</td>\n",
       "    </tr>\n",
       "    <tr>\n",
       "      <th>154</th>\n",
       "      <td>5</td>\n",
       "      <td>engine_size</td>\n",
       "      <td>2702.193221</td>\n",
       "    </tr>\n",
       "    <tr>\n",
       "      <th>155</th>\n",
       "      <td>6</td>\n",
       "      <td>engine_size</td>\n",
       "      <td>2893.906005</td>\n",
       "    </tr>\n",
       "    <tr>\n",
       "      <th>253</th>\n",
       "      <td>4</td>\n",
       "      <td>city_mpg</td>\n",
       "      <td>2935.948643</td>\n",
       "    </tr>\n",
       "    <tr>\n",
       "      <th>156</th>\n",
       "      <td>7</td>\n",
       "      <td>engine_size</td>\n",
       "      <td>3010.779611</td>\n",
       "    </tr>\n",
       "    <tr>\n",
       "      <th>129</th>\n",
       "      <td>5</td>\n",
       "      <td>curb_weight</td>\n",
       "      <td>3078.149019</td>\n",
       "    </tr>\n",
       "    <tr>\n",
       "      <th>254</th>\n",
       "      <td>5</td>\n",
       "      <td>city_mpg</td>\n",
       "      <td>3078.576726</td>\n",
       "    </tr>\n",
       "  </tbody>\n",
       "</table>\n",
       "</div>"
      ],
      "text/plain": [
       "     k_value      feature         rmse\n",
       "151        2  engine_size  2339.360425\n",
       "153        4  engine_size  2642.371090\n",
       "152        3  engine_size  2681.522527\n",
       "150        1  engine_size  2690.466952\n",
       "154        5  engine_size  2702.193221\n",
       "155        6  engine_size  2893.906005\n",
       "253        4     city_mpg  2935.948643\n",
       "156        7  engine_size  3010.779611\n",
       "129        5  curb_weight  3078.149019\n",
       "254        5     city_mpg  3078.576726"
      ]
     },
     "execution_count": 49,
     "metadata": {},
     "output_type": "execute_result"
    }
   ],
   "source": [
    "uni_multi_k.sort_values('rmse').head(10)"
   ]
  },
  {
   "cell_type": "markdown",
   "metadata": {},
   "source": [
    "Overall, each feature has an optimal `k_value`. The `rmse` decreases as k increases, but will increase again after a certain point. \n",
    "\n",
    "The lowest `rmse`s are from `engine_size` and `curb_weight` or `city_mpg` at `k_value`s of 3, 5, 5 respectively.\n",
    "\n",
    "We will try a multivariate KNN model next to see if the `rmse` can be lowered further."
   ]
  },
  {
   "cell_type": "code",
   "execution_count": 50,
   "metadata": {},
   "outputs": [],
   "source": [
    "results_univariate = uni_multi_k.copy()"
   ]
  },
  {
   "cell_type": "markdown",
   "metadata": {},
   "source": [
    "# Multivariate Model Building"
   ]
  },
  {
   "cell_type": "markdown",
   "metadata": {},
   "source": [
    "We will utilize a multivariate knn model with three types of validation:\n",
    "\n",
    "1. Multivariate KNN with train/test validation\n",
    "2. Multivariate KNN with holdout validation\n",
    "3. Multivariate KNN with k-fold validation\n",
    "\n",
    "Each model will undergo the following processing:\n",
    "\n",
    "* Shuffling of the order of the dataset\n",
    "* Diving the dataset into training and test datasets\n",
    "\n",
    "The difference lies in how the datasets are divided:\n",
    "\n",
    "* Train/test validation: training set will contain the first 80% of the data, test set the remaining 20%\n",
    "* Holdout validation: training and test sets will each contain 50% of the data, however 2 models will be created:\n",
    "    * Model 1: training and test sets run as usual\n",
    "    * Model 2: training sets reassigned to become test, and test sets reassigned to become training sets\n",
    "    * The two resulting RMSE's are averaged together, and then returned\n",
    "* K-fold validation: \n",
    "    * The dataset is divided into k-number\n",
    "    * Training set is all rows except those labeled as n, where n = 1 .... k\n",
    "    * Total number of models created: k\n",
    "    * Total number of RMSE's: k\n",
    "    * The RMSE's are averaged together, and then returned\n",
    "\n",
    "Instead of copy-pasting the function over and over again, we will build a `class` that processes, trains, tests, and then validates the dataset using the method of our choice."
   ]
  },
  {
   "cell_type": "code",
   "execution_count": 51,
   "metadata": {},
   "outputs": [],
   "source": [
    "class knn_trainer():\n",
    "    def __init__(self, train_list, targ_col, df):\n",
    "        '''\n",
    "        Trains and validates using KNN to predict the targ_col\n",
    "        from the train_col.\n",
    "\n",
    "        input\n",
    "        -----\n",
    "        train_col: str\n",
    "        targ_col: str\n",
    "        df: pd.DataFrame\n",
    "        k: int\n",
    "        valid: str\n",
    "        '''\n",
    "\n",
    "        # define feature and target\n",
    "        np.random.seed(1)\n",
    "        self.feature = train_list\n",
    "        self.target = targ_col\n",
    "\n",
    "        # shuffle the order of dataset\n",
    "        shuffled = df.loc[np.random.permutation(df.index)].copy()\n",
    "        shuffled = shuffled.reindex()\n",
    "        self.shuffled = shuffled.reset_index(drop=True)\n",
    "        \n",
    "    def train_test(self, k=5):\n",
    "        '''\n",
    "        Splits the dataset 80-20, train-test\n",
    "        '''\n",
    "        self.valid = \"train_test\"\n",
    "        # divide the dataset into train and test dataframes\n",
    "        eighty = round(len(self.shuffled) * 0.8)\n",
    "        train_df = self.shuffled.loc[:eighty,:]\n",
    "        self.test_df = self.shuffled.loc[eighty:,:]\n",
    "\n",
    "        # initiate and fit our model to the dataset\n",
    "        knn = KNeighborsRegressor(n_neighbors = k, algorithm = 'brute')\n",
    "        knn.fit(train_df[self.feature],train_df[self.target])\n",
    "\n",
    "        # predict using our KNN algorithm\n",
    "        self.prediction = knn.predict(self.test_df[self.feature])\n",
    "        \n",
    "    def hold_test(self, k=5):\n",
    "        '''\n",
    "        Splits the dataset 50-50, train-test, for holdout validation\n",
    "        '''\n",
    "        self.valid = \"holdout\"\n",
    "        feature = self.feature\n",
    "        target = self.target\n",
    "        shuffled = self.shuffled\n",
    "        \n",
    "        # divide the dataset into train and test dataframes\n",
    "        fifty = round(len(shuffled) * 0.5)\n",
    "        split_one = shuffled.loc[:fifty,:].copy()\n",
    "        split_two = shuffled.loc[fifty:,:].copy()\n",
    "        \n",
    "        ## split_one ##\n",
    "        train_one = split_one\n",
    "        self.test_one = split_two\n",
    "        # initiate and fit our model\n",
    "        knn = KNeighborsRegressor(n_neighbors = k, algorithm = 'brute')\n",
    "        knn.fit(train_one[feature],train_one[target])        \n",
    "        # predict using the model\n",
    "        self.predict_one = knn.predict(self.test_one[self.feature])\n",
    "\n",
    "        ## split_two ##\n",
    "        train_two = split_two\n",
    "        self.test_two = split_one\n",
    "        # initiate and fit our model\n",
    "        knn = KNeighborsRegressor(n_neighbors = k, algorithm = 'brute')\n",
    "        knn.fit(train_two[feature],train_two[target])\n",
    "        # predict using the model\n",
    "        self.predict_two = knn.predict(self.test_two[feature])\n",
    "        \n",
    "    def kfold_test(self,k=5,fold=5):\n",
    "        '''\n",
    "        Splits the dataset k times, for k-fold validation\n",
    "        '''\n",
    "        self.valid = \"kfold\"        \n",
    "        k_df = self.shuffled\n",
    "        feature = self.feature\n",
    "        target = self.target\n",
    "        \n",
    "        # label the folds\n",
    "        split = round(len(k_df)/fold)\n",
    "        i = 0\n",
    "        for n in range(1,fold):\n",
    "            k_df.loc[i:i+split,'fold'] = n # labels n number of rows for folding\n",
    "            i += split\n",
    "        k_df.loc[i:,'fold'] = fold # finish off with the last bit\n",
    "        \n",
    "        # initiate and fit our model\n",
    "        knn = KNeighborsRegressor(n_neighbors = k, algorithm = 'brute')\n",
    "        \n",
    "        fold_predictions = {}\n",
    "        fold_tests = {}\n",
    "        for n in range(1,fold+1):\n",
    "            train_df = k_df[k_df['fold'] != n]\n",
    "            test_df = k_df[k_df['fold'] == n]\n",
    "            fold_tests[f'fold_{n}'] = test_df\n",
    "            # train fold model\n",
    "            knn.fit(train_df[feature],train_df[target])\n",
    "            # predict from fold model\n",
    "            fold_predictions[f'fold_{n}'] = knn.predict(test_df[feature])\n",
    "            \n",
    "        self.fold_predictions = fold_predictions\n",
    "        self.fold_tests = fold_tests\n",
    "        \n",
    "    def validation(self):\n",
    "        if self.valid == 'train_test':\n",
    "            # calculate the evaluating statistic (root mean squared error)\n",
    "            mse = mean_squared_error(self.test_df[self.target],self.prediction)\n",
    "            rmse = np.sqrt(mse)\n",
    "            return rmse\n",
    "        elif self.valid == 'holdout':\n",
    "            target = self.target\n",
    "            mse_one = mean_squared_error(self.test_one[target],self.predict_one)\n",
    "            rmse_one = np.sqrt(mse_one)\n",
    "            mse_two = mean_squared_error(self.test_two[target],self.predict_two)\n",
    "            rmse_two = np.sqrt(mse_two)\n",
    "\n",
    "            avg_rmse = (rmse_one + rmse_two)/2\n",
    "            return avg_rmse\n",
    "        elif self.valid == 'kfold':\n",
    "            fold_predictions = self.fold_predictions\n",
    "            fold_tests = self.fold_tests\n",
    "            \n",
    "            rmse_list = []\n",
    "            for k, v in fold_predictions.items():\n",
    "                mse = mean_squared_error(fold_tests[k]['price'],fold_predictions[k])\n",
    "                rmse = np.sqrt(mse)\n",
    "                rmse_list.append(rmse)\n",
    "                        \n",
    "            avg_rmse = np.mean(rmse_list)\n",
    "            return avg_rmse"
   ]
  },
  {
   "cell_type": "markdown",
   "metadata": {},
   "source": [
    "In order to use a multivariate model we first need to have some idea of what features would best predict the `price`."
   ]
  },
  {
   "cell_type": "code",
   "execution_count": 52,
   "metadata": {
    "collapsed": false,
    "jupyter": {
     "outputs_hidden": false
    }
   },
   "outputs": [
    {
     "data": {
      "text/html": [
       "<div>\n",
       "<style scoped>\n",
       "    .dataframe tbody tr th:only-of-type {\n",
       "        vertical-align: middle;\n",
       "    }\n",
       "\n",
       "    .dataframe tbody tr th {\n",
       "        vertical-align: top;\n",
       "    }\n",
       "\n",
       "    .dataframe thead th {\n",
       "        text-align: right;\n",
       "    }\n",
       "</style>\n",
       "<table border=\"1\" class=\"dataframe\">\n",
       "  <thead>\n",
       "    <tr style=\"text-align: right;\">\n",
       "      <th></th>\n",
       "      <th>index</th>\n",
       "      <th>0</th>\n",
       "    </tr>\n",
       "  </thead>\n",
       "  <tbody>\n",
       "    <tr>\n",
       "      <th>0</th>\n",
       "      <td>engine_size</td>\n",
       "      <td>2702.193221</td>\n",
       "    </tr>\n",
       "    <tr>\n",
       "      <th>1</th>\n",
       "      <td>curb_weight</td>\n",
       "      <td>3078.149019</td>\n",
       "    </tr>\n",
       "    <tr>\n",
       "      <th>2</th>\n",
       "      <td>city_mpg</td>\n",
       "      <td>3078.576726</td>\n",
       "    </tr>\n",
       "    <tr>\n",
       "      <th>3</th>\n",
       "      <td>wheel_base</td>\n",
       "      <td>4006.715263</td>\n",
       "    </tr>\n",
       "    <tr>\n",
       "      <th>4</th>\n",
       "      <td>width</td>\n",
       "      <td>4524.882412</td>\n",
       "    </tr>\n",
       "    <tr>\n",
       "      <th>5</th>\n",
       "      <td>highway_mpg</td>\n",
       "      <td>4904.796976</td>\n",
       "    </tr>\n",
       "    <tr>\n",
       "      <th>6</th>\n",
       "      <td>horsepower</td>\n",
       "      <td>5105.442424</td>\n",
       "    </tr>\n",
       "    <tr>\n",
       "      <th>7</th>\n",
       "      <td>length</td>\n",
       "      <td>6575.213755</td>\n",
       "    </tr>\n",
       "    <tr>\n",
       "      <th>8</th>\n",
       "      <td>compression_ratio</td>\n",
       "      <td>7218.477120</td>\n",
       "    </tr>\n",
       "    <tr>\n",
       "      <th>9</th>\n",
       "      <td>height</td>\n",
       "      <td>7824.389337</td>\n",
       "    </tr>\n",
       "    <tr>\n",
       "      <th>10</th>\n",
       "      <td>peak_rpm</td>\n",
       "      <td>7989.148097</td>\n",
       "    </tr>\n",
       "    <tr>\n",
       "      <th>11</th>\n",
       "      <td>normalized_losses</td>\n",
       "      <td>8218.834488</td>\n",
       "    </tr>\n",
       "  </tbody>\n",
       "</table>\n",
       "</div>"
      ],
      "text/plain": [
       "                index            0\n",
       "0         engine_size  2702.193221\n",
       "1         curb_weight  3078.149019\n",
       "2            city_mpg  3078.576726\n",
       "3          wheel_base  4006.715263\n",
       "4               width  4524.882412\n",
       "5         highway_mpg  4904.796976\n",
       "6          horsepower  5105.442424\n",
       "7              length  6575.213755\n",
       "8   compression_ratio  7218.477120\n",
       "9              height  7824.389337\n",
       "10           peak_rpm  7989.148097\n",
       "11  normalized_losses  8218.834488"
      ]
     },
     "execution_count": 52,
     "metadata": {},
     "output_type": "execute_result"
    }
   ],
   "source": [
    "best_df = k_5_uni_knn.reset_index()\n",
    "best_df"
   ]
  },
  {
   "cell_type": "markdown",
   "metadata": {},
   "source": [
    "According to our univariate modeling above, the top five 'best' features (using a default `k_value` of 5) for the task are:\n",
    "\n",
    "* `engine_size`\n",
    "* `curb_weight`\n",
    "* `city_mpg`\n",
    "* `wheel_base`\n",
    "* `width`"
   ]
  },
  {
   "cell_type": "code",
   "execution_count": 53,
   "metadata": {
    "collapsed": false,
    "jupyter": {
     "outputs_hidden": false
    }
   },
   "outputs": [],
   "source": [
    "multi_dic = {}\n",
    "# Using all features for comparison\n",
    "features = best_df['index']\n",
    "# Initiate the knn_trainer class\n",
    "k = knn_trainer(features,'price',norm_cars)"
   ]
  },
  {
   "cell_type": "code",
   "execution_count": 54,
   "metadata": {},
   "outputs": [],
   "source": [
    "# Run the KNN test\n",
    "k.train_test()\n",
    "# Validate, return the rmse\n",
    "multi_dic[12] = k.validation()"
   ]
  },
  {
   "cell_type": "code",
   "execution_count": 55,
   "metadata": {},
   "outputs": [],
   "source": [
    "# Using best X from the univariate model\n",
    "for x in [2,3,4,5]:\n",
    "    features = list(best_df['index'][0:x])\n",
    "    k = knn_trainer(features,'price',norm_cars)\n",
    "    k.train_test()\n",
    "    multi_dic[x] = [k.validation()]"
   ]
  },
  {
   "cell_type": "code",
   "execution_count": 56,
   "metadata": {
    "collapsed": false,
    "jupyter": {
     "outputs_hidden": false
    }
   },
   "outputs": [
    {
     "data": {
      "text/html": [
       "<div>\n",
       "<style scoped>\n",
       "    .dataframe tbody tr th:only-of-type {\n",
       "        vertical-align: middle;\n",
       "    }\n",
       "\n",
       "    .dataframe tbody tr th {\n",
       "        vertical-align: top;\n",
       "    }\n",
       "\n",
       "    .dataframe thead th {\n",
       "        text-align: right;\n",
       "    }\n",
       "</style>\n",
       "<table border=\"1\" class=\"dataframe\">\n",
       "  <thead>\n",
       "    <tr style=\"text-align: right;\">\n",
       "      <th></th>\n",
       "      <th>top_x_features</th>\n",
       "      <th>rmse</th>\n",
       "    </tr>\n",
       "  </thead>\n",
       "  <tbody>\n",
       "    <tr>\n",
       "      <th>0</th>\n",
       "      <td>3</td>\n",
       "      <td>2695.360875</td>\n",
       "    </tr>\n",
       "    <tr>\n",
       "      <th>1</th>\n",
       "      <td>12</td>\n",
       "      <td>2723.746942</td>\n",
       "    </tr>\n",
       "    <tr>\n",
       "      <th>2</th>\n",
       "      <td>2</td>\n",
       "      <td>2802.106282</td>\n",
       "    </tr>\n",
       "    <tr>\n",
       "      <th>3</th>\n",
       "      <td>5</td>\n",
       "      <td>2874.044709</td>\n",
       "    </tr>\n",
       "    <tr>\n",
       "      <th>4</th>\n",
       "      <td>4</td>\n",
       "      <td>3238.163743</td>\n",
       "    </tr>\n",
       "  </tbody>\n",
       "</table>\n",
       "</div>"
      ],
      "text/plain": [
       "   top_x_features         rmse\n",
       "0               3  2695.360875\n",
       "1              12  2723.746942\n",
       "2               2  2802.106282\n",
       "3               5  2874.044709\n",
       "4               4  3238.163743"
      ]
     },
     "execution_count": 56,
     "metadata": {},
     "output_type": "execute_result"
    }
   ],
   "source": [
    "multi_k_five = pd.DataFrame(multi_dic).T.sort_values(0).reset_index()\n",
    "multi_k_five.columns = ['top_x_features','rmse']\n",
    "multi_k_five.sort_values('rmse')"
   ]
  },
  {
   "cell_type": "code",
   "execution_count": 57,
   "metadata": {},
   "outputs": [
    {
     "data": {
      "text/plain": [
       "Text(0, 0.5, 'RMSE')"
      ]
     },
     "execution_count": 57,
     "metadata": {},
     "output_type": "execute_result"
    },
    {
     "data": {
      "image/png": "[encoded data removed]",
      "text/plain": [
       "<Figure size 432x288 with 1 Axes>"
      ]
     },
     "metadata": {
      "needs_background": "light"
     },
     "output_type": "display_data"
    }
   ],
   "source": [
    "sns.barplot(x='top_x_features',y='rmse',data=multi_k_five)\n",
    "plt.title('RMSE based on number of features used')\n",
    "plt.xlabel(\"Top x features\")\n",
    "plt.ylabel('RMSE')"
   ]
  },
  {
   "cell_type": "markdown",
   "metadata": {},
   "source": [
    "According to our multivariate model (with k neighbors of 5) the best `price` prediction we could get is with either 3 or 4 of the top univariate features. Using only 2 or as much as 5 features resulted in larger mean errors, and using all features did worse of all."
   ]
  },
  {
   "cell_type": "markdown",
   "metadata": {},
   "source": [
    "# Hyperparameter Optimization"
   ]
  },
  {
   "cell_type": "markdown",
   "metadata": {},
   "source": [
    "While we have an idea of which features to use, the question now is how wide to cast our net? How many k neighbors would be the most accurate way to predict the `price` of cars on the market?"
   ]
  },
  {
   "cell_type": "code",
   "execution_count": 58,
   "metadata": {
    "collapsed": false,
    "jupyter": {
     "outputs_hidden": false
    }
   },
   "outputs": [],
   "source": [
    "hyper_k_rmse_dic = {}\n",
    "\n",
    "# Run multivariate KNN using the top x features, as determined when k=5 was assumed.\n",
    "for x in [3,12,2]:\n",
    "    temp_dic = {}\n",
    "    # test with k values 1-25\n",
    "    for k in range(1,26):\n",
    "        features = list(best_df['index'][0:x])\n",
    "        kn = knn_trainer(features,'price',norm_cars)\n",
    "        kn.train_test(k=k)\n",
    "        temp_dic[k] = kn.validation()\n",
    "    hyper_k_rmse_dic[\"{0}_best_features\".format(x)] = temp_dic"
   ]
  },
  {
   "cell_type": "code",
   "execution_count": 59,
   "metadata": {},
   "outputs": [
    {
     "data": {
      "text/html": [
       "<div>\n",
       "<style scoped>\n",
       "    .dataframe tbody tr th:only-of-type {\n",
       "        vertical-align: middle;\n",
       "    }\n",
       "\n",
       "    .dataframe tbody tr th {\n",
       "        vertical-align: top;\n",
       "    }\n",
       "\n",
       "    .dataframe thead th {\n",
       "        text-align: right;\n",
       "    }\n",
       "</style>\n",
       "<table border=\"1\" class=\"dataframe\">\n",
       "  <thead>\n",
       "    <tr style=\"text-align: right;\">\n",
       "      <th></th>\n",
       "      <th>k_value</th>\n",
       "      <th>3_best_features</th>\n",
       "      <th>12_best_features</th>\n",
       "      <th>2_best_features</th>\n",
       "    </tr>\n",
       "  </thead>\n",
       "  <tbody>\n",
       "    <tr>\n",
       "      <th>0</th>\n",
       "      <td>1</td>\n",
       "      <td>3078.374015</td>\n",
       "      <td>2387.247463</td>\n",
       "      <td>2874.096214</td>\n",
       "    </tr>\n",
       "    <tr>\n",
       "      <th>1</th>\n",
       "      <td>2</td>\n",
       "      <td>2917.911293</td>\n",
       "      <td>2521.935891</td>\n",
       "      <td>2880.260859</td>\n",
       "    </tr>\n",
       "    <tr>\n",
       "      <th>2</th>\n",
       "      <td>3</td>\n",
       "      <td>2817.965489</td>\n",
       "      <td>2617.200376</td>\n",
       "      <td>2917.587428</td>\n",
       "    </tr>\n",
       "    <tr>\n",
       "      <th>3</th>\n",
       "      <td>4</td>\n",
       "      <td>2805.922992</td>\n",
       "      <td>2743.951650</td>\n",
       "      <td>2862.923153</td>\n",
       "    </tr>\n",
       "    <tr>\n",
       "      <th>4</th>\n",
       "      <td>5</td>\n",
       "      <td>2695.360875</td>\n",
       "      <td>2723.746942</td>\n",
       "      <td>2802.106282</td>\n",
       "    </tr>\n",
       "  </tbody>\n",
       "</table>\n",
       "</div>"
      ],
      "text/plain": [
       "   k_value  3_best_features  12_best_features  2_best_features\n",
       "0        1      3078.374015       2387.247463      2874.096214\n",
       "1        2      2917.911293       2521.935891      2880.260859\n",
       "2        3      2817.965489       2617.200376      2917.587428\n",
       "3        4      2805.922992       2743.951650      2862.923153\n",
       "4        5      2695.360875       2723.746942      2802.106282"
      ]
     },
     "execution_count": 59,
     "metadata": {},
     "output_type": "execute_result"
    }
   ],
   "source": [
    "multiv_multi_k = pd.DataFrame(hyper_k_rmse_dic).reset_index()\n",
    "cols = list(multiv_multi_k.columns)\n",
    "cols.insert(0,'k_value')\n",
    "cols.remove('index')\n",
    "multiv_multi_k.columns = cols\n",
    "multiv_multi_k.head()"
   ]
  },
  {
   "cell_type": "markdown",
   "metadata": {},
   "source": [
    "With `k_value`s ranging from 1 through 25, it is very difficult to determine the most optimal hyperparameter settings. We will graph the above table."
   ]
  },
  {
   "cell_type": "code",
   "execution_count": 60,
   "metadata": {
    "collapsed": false,
    "jupyter": {
     "outputs_hidden": false
    }
   },
   "outputs": [],
   "source": [
    "multiv_multi_k = multiv_multi_k.melt(id_vars = 'k_value')\n",
    "multiv_multi_k.columns = ['k_value','top_features','rmse']"
   ]
  },
  {
   "cell_type": "code",
   "execution_count": 61,
   "metadata": {},
   "outputs": [
    {
     "data": {
      "text/html": [
       "<div>\n",
       "<style scoped>\n",
       "    .dataframe tbody tr th:only-of-type {\n",
       "        vertical-align: middle;\n",
       "    }\n",
       "\n",
       "    .dataframe tbody tr th {\n",
       "        vertical-align: top;\n",
       "    }\n",
       "\n",
       "    .dataframe thead th {\n",
       "        text-align: right;\n",
       "    }\n",
       "</style>\n",
       "<table border=\"1\" class=\"dataframe\">\n",
       "  <thead>\n",
       "    <tr style=\"text-align: right;\">\n",
       "      <th></th>\n",
       "      <th>k_value</th>\n",
       "      <th>top_features</th>\n",
       "      <th>rmse</th>\n",
       "    </tr>\n",
       "  </thead>\n",
       "  <tbody>\n",
       "    <tr>\n",
       "      <th>25</th>\n",
       "      <td>1</td>\n",
       "      <td>12_best_features</td>\n",
       "      <td>2387.247463</td>\n",
       "    </tr>\n",
       "    <tr>\n",
       "      <th>26</th>\n",
       "      <td>2</td>\n",
       "      <td>12_best_features</td>\n",
       "      <td>2521.935891</td>\n",
       "    </tr>\n",
       "    <tr>\n",
       "      <th>27</th>\n",
       "      <td>3</td>\n",
       "      <td>12_best_features</td>\n",
       "      <td>2617.200376</td>\n",
       "    </tr>\n",
       "    <tr>\n",
       "      <th>31</th>\n",
       "      <td>7</td>\n",
       "      <td>12_best_features</td>\n",
       "      <td>2673.081599</td>\n",
       "    </tr>\n",
       "    <tr>\n",
       "      <th>4</th>\n",
       "      <td>5</td>\n",
       "      <td>3_best_features</td>\n",
       "      <td>2695.360875</td>\n",
       "    </tr>\n",
       "    <tr>\n",
       "      <th>56</th>\n",
       "      <td>7</td>\n",
       "      <td>2_best_features</td>\n",
       "      <td>2707.405602</td>\n",
       "    </tr>\n",
       "    <tr>\n",
       "      <th>57</th>\n",
       "      <td>8</td>\n",
       "      <td>2_best_features</td>\n",
       "      <td>2710.386120</td>\n",
       "    </tr>\n",
       "    <tr>\n",
       "      <th>55</th>\n",
       "      <td>6</td>\n",
       "      <td>2_best_features</td>\n",
       "      <td>2723.207202</td>\n",
       "    </tr>\n",
       "    <tr>\n",
       "      <th>29</th>\n",
       "      <td>5</td>\n",
       "      <td>12_best_features</td>\n",
       "      <td>2723.746942</td>\n",
       "    </tr>\n",
       "    <tr>\n",
       "      <th>28</th>\n",
       "      <td>4</td>\n",
       "      <td>12_best_features</td>\n",
       "      <td>2743.951650</td>\n",
       "    </tr>\n",
       "  </tbody>\n",
       "</table>\n",
       "</div>"
      ],
      "text/plain": [
       "    k_value      top_features         rmse\n",
       "25        1  12_best_features  2387.247463\n",
       "26        2  12_best_features  2521.935891\n",
       "27        3  12_best_features  2617.200376\n",
       "31        7  12_best_features  2673.081599\n",
       "4         5   3_best_features  2695.360875\n",
       "56        7   2_best_features  2707.405602\n",
       "57        8   2_best_features  2710.386120\n",
       "55        6   2_best_features  2723.207202\n",
       "29        5  12_best_features  2723.746942\n",
       "28        4  12_best_features  2743.951650"
      ]
     },
     "execution_count": 61,
     "metadata": {},
     "output_type": "execute_result"
    }
   ],
   "source": [
    "multiv_multi_k.sort_values('rmse').head(10)"
   ]
  },
  {
   "cell_type": "code",
   "execution_count": 62,
   "metadata": {},
   "outputs": [],
   "source": [
    "results_multi_traintest = multiv_multi_k.copy()"
   ]
  },
  {
   "cell_type": "code",
   "execution_count": 63,
   "metadata": {
    "collapsed": false,
    "jupyter": {
     "outputs_hidden": false
    }
   },
   "outputs": [
    {
     "data": {
      "text/plain": [
       "Text(0.5, 1.0, 'Root mean squared error by number of multivariate features and hyperparameter')"
      ]
     },
     "execution_count": 63,
     "metadata": {},
     "output_type": "execute_result"
    },
    {
     "data": {
      "image/png": "[encoded data removed]",
      "text/plain": [
       "<Figure size 432x288 with 1 Axes>"
      ]
     },
     "metadata": {
      "needs_background": "light"
     },
     "output_type": "display_data"
    }
   ],
   "source": [
    "sns.lineplot(x = 'k_value',y='rmse',hue='top_features',data=multiv_multi_k)\n",
    "plt.legend(bbox_to_anchor = (1,1))\n",
    "plt.title('Root mean squared error by number of multivariate features and hyperparameter')"
   ]
  },
  {
   "cell_type": "markdown",
   "metadata": {},
   "source": [
    "Each of the previously found models have `k_value`=1 as their optimal hyperparameters. \n",
    "\n",
    "* By using the top 4 features from our univariate model, and a `k_value`=1, we brought the `rmse` down to 1948.\n",
    "* By using the top 3 features from our univariate model, and a `k_value`=1, we brought the `rmse` down to 1960.\n",
    "* By using the top 5 features from our univariate model, and a `k_value`=1, we brought the `rmse` down to 2200."
   ]
  },
  {
   "cell_type": "markdown",
   "metadata": {},
   "source": [
    "# Conclusion"
   ]
  },
  {
   "cell_type": "markdown",
   "metadata": {},
   "source": [
    "The most accurate model we built with this dataset was a multivate KNN model:\n",
    "\n",
    "* `k_value` of 1\n",
    "* `algorithm` as \"brute\"\n",
    "* Using these features:\n",
    "    * `highway_mpg`\n",
    "    * `engine_size`\n",
    "    * `width`\n",
    "    * `city_mpg`\n",
    "    \n",
    "Individually these features were only able to predice the `price` with an `rmse` of around 3000-3500. Together, however, the final `rmse` value was decreased by 40% to just 1948.\n",
    "\n",
    "Based on our analysis the car market value is best predicted with those four variables."
   ]
  },
  {
   "cell_type": "markdown",
   "metadata": {},
   "source": [
    "# From Dataquest\n",
    "\n",
    "That's it for the guided steps. Here are some ideas for next steps:\n",
    "\n",
    "* Modify the `knn_train_test()` function to use k-fold cross validation instead of test/train validation.\n",
    "* Modify the `knn_train_test()` function to perform the data cleaning as well.\n"
   ]
  },
  {
   "cell_type": "markdown",
   "metadata": {},
   "source": [
    "# K-fold cross validation"
   ]
  },
  {
   "cell_type": "markdown",
   "metadata": {},
   "source": [
    "## Holdout validation"
   ]
  },
  {
   "cell_type": "code",
   "execution_count": 64,
   "metadata": {},
   "outputs": [],
   "source": [
    "# find the univariate rmse using holdout validation\n",
    "uni_rmse_hold = {}\n",
    "for col in norm_cols:\n",
    "    knn = knn_trainer([col],'price',norm_cars)\n",
    "    knn.hold_test(k=5)\n",
    "    rmse = knn.validation()\n",
    "    uni_rmse_hold[col] = [rmse]"
   ]
  },
  {
   "cell_type": "code",
   "execution_count": 65,
   "metadata": {
    "comments": [
     {
      "body": [
       {
        "created": "2020-08-27T02:55:18.926Z",
        "creator": {
         "image": "https://avatars3.githubusercontent.com/u/8731022?v=4",
         "name": "pomkos",
         "user": "pomkos"
        },
        "edited": false,
        "value": "Compare these results with the univariate, train/test model."
       }
      ],
      "id": "anno/0",
      "resolved": false,
      "total": 1
     }
    ]
   },
   "outputs": [
    {
     "data": {
      "text/html": [
       "<div>\n",
       "<style scoped>\n",
       "    .dataframe tbody tr th:only-of-type {\n",
       "        vertical-align: middle;\n",
       "    }\n",
       "\n",
       "    .dataframe tbody tr th {\n",
       "        vertical-align: top;\n",
       "    }\n",
       "\n",
       "    .dataframe thead th {\n",
       "        text-align: right;\n",
       "    }\n",
       "</style>\n",
       "<table border=\"1\" class=\"dataframe\">\n",
       "  <thead>\n",
       "    <tr style=\"text-align: right;\">\n",
       "      <th></th>\n",
       "      <th>feature</th>\n",
       "      <th>rmse</th>\n",
       "    </tr>\n",
       "  </thead>\n",
       "  <tbody>\n",
       "    <tr>\n",
       "      <th>0</th>\n",
       "      <td>engine_size</td>\n",
       "      <td>3335.017797</td>\n",
       "    </tr>\n",
       "    <tr>\n",
       "      <th>1</th>\n",
       "      <td>horsepower</td>\n",
       "      <td>3975.628604</td>\n",
       "    </tr>\n",
       "    <tr>\n",
       "      <th>2</th>\n",
       "      <td>curb_weight</td>\n",
       "      <td>4121.771559</td>\n",
       "    </tr>\n",
       "    <tr>\n",
       "      <th>3</th>\n",
       "      <td>highway_mpg</td>\n",
       "      <td>4309.933136</td>\n",
       "    </tr>\n",
       "    <tr>\n",
       "      <th>4</th>\n",
       "      <td>width</td>\n",
       "      <td>4415.692641</td>\n",
       "    </tr>\n",
       "  </tbody>\n",
       "</table>\n",
       "</div>"
      ],
      "text/plain": [
       "       feature         rmse\n",
       "0  engine_size  3335.017797\n",
       "1   horsepower  3975.628604\n",
       "2  curb_weight  4121.771559\n",
       "3  highway_mpg  4309.933136\n",
       "4        width  4415.692641"
      ]
     },
     "execution_count": 65,
     "metadata": {},
     "output_type": "execute_result"
    }
   ],
   "source": [
    "uni_rmse_hold = pd.DataFrame(uni_rmse_hold).T.reset_index()\n",
    "uni_rmse_hold.columns = ['feature','rmse']\n",
    "uni_rmse_hold = uni_rmse_hold.sort_values('rmse').reset_index(drop=True)\n",
    "uni_rmse_hold.head()"
   ]
  },
  {
   "cell_type": "code",
   "execution_count": 66,
   "metadata": {},
   "outputs": [
    {
     "data": {
      "text/plain": [
       "(array([ 0,  1,  2,  3,  4,  5,  6,  7,  8,  9, 10, 11]),\n",
       " [Text(0, 0, 'engine_size'),\n",
       "  Text(1, 0, 'horsepower'),\n",
       "  Text(2, 0, 'curb_weight'),\n",
       "  Text(3, 0, 'highway_mpg'),\n",
       "  Text(4, 0, 'width'),\n",
       "  Text(5, 0, 'city_mpg'),\n",
       "  Text(6, 0, 'length'),\n",
       "  Text(7, 0, 'wheel_base'),\n",
       "  Text(8, 0, 'compression_ratio'),\n",
       "  Text(9, 0, 'normalized_losses'),\n",
       "  Text(10, 0, 'height'),\n",
       "  Text(11, 0, 'peak_rpm')])"
      ]
     },
     "execution_count": 66,
     "metadata": {},
     "output_type": "execute_result"
    },
    {
     "data": {
      "image/png": "[encoded data removed]",
      "text/plain": [
       "<Figure size 432x288 with 1 Axes>"
      ]
     },
     "metadata": {
      "needs_background": "light"
     },
     "output_type": "display_data"
    }
   ],
   "source": [
    "sns.barplot(x='feature',y='rmse',data=uni_rmse_hold)\n",
    "plt.title('RMSE vs Feature, using holdout validation')\n",
    "plt.xticks(rotation=45, horizontalalignment='right')"
   ]
  },
  {
   "cell_type": "markdown",
   "metadata": {},
   "source": [
    "Univariate KNN with holdout variation resulted in the following top five features:\n",
    "\n",
    "* `engine_size`\n",
    "* `highway_mpg`\n",
    "* `width`\n",
    "* `curb_weight`\n",
    "* `city_mpg`"
   ]
  },
  {
   "cell_type": "code",
   "execution_count": 67,
   "metadata": {},
   "outputs": [],
   "source": [
    "# Using best X from the univariate model\n",
    "multi_hold = {}\n",
    "for x in [2,3,4,5,12]:\n",
    "    feature = list(uni_rmse_hold['feature'][0:x])\n",
    "    kn = knn_trainer(feature, 'price', norm_cars)\n",
    "    kn.hold_test(k=5)\n",
    "    rmse = kn.validation()\n",
    "    multi_hold[x] = [rmse]"
   ]
  },
  {
   "cell_type": "code",
   "execution_count": 68,
   "metadata": {},
   "outputs": [
    {
     "data": {
      "text/html": [
       "<div>\n",
       "<style scoped>\n",
       "    .dataframe tbody tr th:only-of-type {\n",
       "        vertical-align: middle;\n",
       "    }\n",
       "\n",
       "    .dataframe tbody tr th {\n",
       "        vertical-align: top;\n",
       "    }\n",
       "\n",
       "    .dataframe thead th {\n",
       "        text-align: right;\n",
       "    }\n",
       "</style>\n",
       "<table border=\"1\" class=\"dataframe\">\n",
       "  <thead>\n",
       "    <tr style=\"text-align: right;\">\n",
       "      <th></th>\n",
       "      <th>top_x_features</th>\n",
       "      <th>rmse</th>\n",
       "    </tr>\n",
       "  </thead>\n",
       "  <tbody>\n",
       "    <tr>\n",
       "      <th>0</th>\n",
       "      <td>2</td>\n",
       "      <td>3214.100274</td>\n",
       "    </tr>\n",
       "    <tr>\n",
       "      <th>1</th>\n",
       "      <td>4</td>\n",
       "      <td>3315.148162</td>\n",
       "    </tr>\n",
       "    <tr>\n",
       "      <th>2</th>\n",
       "      <td>5</td>\n",
       "      <td>3386.339043</td>\n",
       "    </tr>\n",
       "    <tr>\n",
       "      <th>3</th>\n",
       "      <td>3</td>\n",
       "      <td>3401.729407</td>\n",
       "    </tr>\n",
       "    <tr>\n",
       "      <th>4</th>\n",
       "      <td>12</td>\n",
       "      <td>3906.435976</td>\n",
       "    </tr>\n",
       "  </tbody>\n",
       "</table>\n",
       "</div>"
      ],
      "text/plain": [
       "   top_x_features         rmse\n",
       "0               2  3214.100274\n",
       "1               4  3315.148162\n",
       "2               5  3386.339043\n",
       "3               3  3401.729407\n",
       "4              12  3906.435976"
      ]
     },
     "execution_count": 68,
     "metadata": {},
     "output_type": "execute_result"
    }
   ],
   "source": [
    "multi_hold = pd.DataFrame(multi_hold).T.reset_index()\n",
    "multi_hold.columns = ['top_x_features','rmse']\n",
    "multi_hold = multi_hold.sort_values('rmse').reset_index(drop=True)\n",
    "multi_hold.head()"
   ]
  },
  {
   "cell_type": "code",
   "execution_count": 69,
   "metadata": {},
   "outputs": [
    {
     "data": {
      "text/plain": [
       "Text(0.5, 1.0, 'RMSE vs Top X Features, using holdout validation')"
      ]
     },
     "execution_count": 69,
     "metadata": {},
     "output_type": "execute_result"
    },
    {
     "data": {
      "image/png": "[encoded data removed]",
      "text/plain": [
       "<Figure size 432x288 with 1 Axes>"
      ]
     },
     "metadata": {
      "needs_background": "light"
     },
     "output_type": "display_data"
    }
   ],
   "source": [
    "sns.barplot(x='top_x_features',y='rmse',data=multi_hold)\n",
    "plt.title('RMSE vs Top X Features, using holdout validation')"
   ]
  },
  {
   "cell_type": "markdown",
   "metadata": {},
   "source": [
    "Each multivariate KNN performed similarly with `k_value`=5 as calculated by holdout validation, except when using all 12 features."
   ]
  },
  {
   "cell_type": "code",
   "execution_count": 70,
   "metadata": {},
   "outputs": [],
   "source": [
    "# Lets tune the hyperparameters for KNN holdout variation\n",
    "top_k_hold = {}\n",
    "for x in [2,4,5]:\n",
    "    k_dic = {}\n",
    "    for k in range(1,26):\n",
    "        feature = list(uni_rmse_hold['feature'][0:x])\n",
    "        kn = knn_trainer(feature, 'price', norm_cars)\n",
    "        kn.hold_test(k=k)\n",
    "        rmse = kn.validation()\n",
    "        k_dic[k] = rmse\n",
    "    top_k_hold[f'top_{x}_features'] = k_dic"
   ]
  },
  {
   "cell_type": "code",
   "execution_count": 71,
   "metadata": {},
   "outputs": [],
   "source": [
    "top_k_hold = pd.DataFrame(top_k_hold)\n",
    "top_k_hold = top_k_hold.reset_index()\n",
    "top_k_hold = top_k_hold.melt(id_vars = 'index')\n",
    "top_k_hold.columns = ['k_value','features','rmse']"
   ]
  },
  {
   "cell_type": "code",
   "execution_count": 72,
   "metadata": {},
   "outputs": [
    {
     "data": {
      "text/html": [
       "<div>\n",
       "<style scoped>\n",
       "    .dataframe tbody tr th:only-of-type {\n",
       "        vertical-align: middle;\n",
       "    }\n",
       "\n",
       "    .dataframe tbody tr th {\n",
       "        vertical-align: top;\n",
       "    }\n",
       "\n",
       "    .dataframe thead th {\n",
       "        text-align: right;\n",
       "    }\n",
       "</style>\n",
       "<table border=\"1\" class=\"dataframe\">\n",
       "  <thead>\n",
       "    <tr style=\"text-align: right;\">\n",
       "      <th></th>\n",
       "      <th>k_value</th>\n",
       "      <th>features</th>\n",
       "      <th>rmse</th>\n",
       "    </tr>\n",
       "  </thead>\n",
       "  <tbody>\n",
       "    <tr>\n",
       "      <th>51</th>\n",
       "      <td>2</td>\n",
       "      <td>top_5_features</td>\n",
       "      <td>2892.335953</td>\n",
       "    </tr>\n",
       "    <tr>\n",
       "      <th>2</th>\n",
       "      <td>3</td>\n",
       "      <td>top_2_features</td>\n",
       "      <td>2897.000178</td>\n",
       "    </tr>\n",
       "    <tr>\n",
       "      <th>26</th>\n",
       "      <td>2</td>\n",
       "      <td>top_4_features</td>\n",
       "      <td>3000.489562</td>\n",
       "    </tr>\n",
       "    <tr>\n",
       "      <th>25</th>\n",
       "      <td>1</td>\n",
       "      <td>top_4_features</td>\n",
       "      <td>3004.732820</td>\n",
       "    </tr>\n",
       "    <tr>\n",
       "      <th>52</th>\n",
       "      <td>3</td>\n",
       "      <td>top_5_features</td>\n",
       "      <td>3048.822235</td>\n",
       "    </tr>\n",
       "  </tbody>\n",
       "</table>\n",
       "</div>"
      ],
      "text/plain": [
       "    k_value        features         rmse\n",
       "51        2  top_5_features  2892.335953\n",
       "2         3  top_2_features  2897.000178\n",
       "26        2  top_4_features  3000.489562\n",
       "25        1  top_4_features  3004.732820\n",
       "52        3  top_5_features  3048.822235"
      ]
     },
     "execution_count": 72,
     "metadata": {},
     "output_type": "execute_result"
    }
   ],
   "source": [
    "top_k_hold.sort_values('rmse').head()"
   ]
  },
  {
   "cell_type": "code",
   "execution_count": 73,
   "metadata": {},
   "outputs": [],
   "source": [
    "results_multi_holdout = top_k_hold.copy()"
   ]
  },
  {
   "cell_type": "code",
   "execution_count": 74,
   "metadata": {},
   "outputs": [
    {
     "data": {
      "text/plain": [
       "Text(0.5, 0, 'K value')"
      ]
     },
     "execution_count": 74,
     "metadata": {},
     "output_type": "execute_result"
    },
    {
     "data": {
      "image/png": "[encoded data removed]",
      "text/plain": [
       "<Figure size 432x288 with 1 Axes>"
      ]
     },
     "metadata": {
      "needs_background": "light"
     },
     "output_type": "display_data"
    }
   ],
   "source": [
    "sns.lineplot(x = 'k_value', y='rmse', hue='features', data=top_k_hold)\n",
    "plt.legend(bbox_to_anchor = (1,1))\n",
    "plt.title('Root mean squared error by number of multivariate kfold features and hyperparameter')\n",
    "plt.ylabel('RMSE')\n",
    "plt.xlabel('K value')"
   ]
  },
  {
   "cell_type": "markdown",
   "metadata": {},
   "source": [
    "Very similar results as with the train/test validation. Using the`top_4_features` with `k_value`=1 resulted in the smallest `rmse` for the dataset."
   ]
  },
  {
   "cell_type": "markdown",
   "metadata": {},
   "source": [
    "# k-fold validation"
   ]
  },
  {
   "cell_type": "markdown",
   "metadata": {},
   "source": [
    "Using both manual folds and the `KFold` and `cross_val_score` functions from the `sklearn.model_selection` library."
   ]
  },
  {
   "cell_type": "code",
   "execution_count": 75,
   "metadata": {},
   "outputs": [],
   "source": [
    "uni_rmse_fold = {}\n",
    "\n",
    "for col in norm_cols:\n",
    "    kn = knn_trainer([col], 'price', norm_cars)\n",
    "    kn.kfold_test(k=5,fold=5)\n",
    "    rmse = kn.validation()\n",
    "    uni_rmse_fold[col] = [rmse]"
   ]
  },
  {
   "cell_type": "code",
   "execution_count": 76,
   "metadata": {},
   "outputs": [
    {
     "data": {
      "text/html": [
       "<div>\n",
       "<style scoped>\n",
       "    .dataframe tbody tr th:only-of-type {\n",
       "        vertical-align: middle;\n",
       "    }\n",
       "\n",
       "    .dataframe tbody tr th {\n",
       "        vertical-align: top;\n",
       "    }\n",
       "\n",
       "    .dataframe thead th {\n",
       "        text-align: right;\n",
       "    }\n",
       "</style>\n",
       "<table border=\"1\" class=\"dataframe\">\n",
       "  <thead>\n",
       "    <tr style=\"text-align: right;\">\n",
       "      <th></th>\n",
       "      <th>feature</th>\n",
       "      <th>rmse</th>\n",
       "    </tr>\n",
       "  </thead>\n",
       "  <tbody>\n",
       "    <tr>\n",
       "      <th>0</th>\n",
       "      <td>engine_size</td>\n",
       "      <td>3062.585799</td>\n",
       "    </tr>\n",
       "    <tr>\n",
       "      <th>1</th>\n",
       "      <td>horsepower</td>\n",
       "      <td>3796.442472</td>\n",
       "    </tr>\n",
       "    <tr>\n",
       "      <th>2</th>\n",
       "      <td>width</td>\n",
       "      <td>4134.792903</td>\n",
       "    </tr>\n",
       "    <tr>\n",
       "      <th>3</th>\n",
       "      <td>highway_mpg</td>\n",
       "      <td>4201.534931</td>\n",
       "    </tr>\n",
       "    <tr>\n",
       "      <th>4</th>\n",
       "      <td>curb_weight</td>\n",
       "      <td>4332.560251</td>\n",
       "    </tr>\n",
       "  </tbody>\n",
       "</table>\n",
       "</div>"
      ],
      "text/plain": [
       "       feature         rmse\n",
       "0  engine_size  3062.585799\n",
       "1   horsepower  3796.442472\n",
       "2        width  4134.792903\n",
       "3  highway_mpg  4201.534931\n",
       "4  curb_weight  4332.560251"
      ]
     },
     "execution_count": 76,
     "metadata": {},
     "output_type": "execute_result"
    }
   ],
   "source": [
    "uni_rmse_fold = pd.DataFrame(uni_rmse_fold).T.reset_index()\n",
    "uni_rmse_fold.columns = ['feature','rmse']\n",
    "uni_rmse_fold = uni_rmse_fold.sort_values('rmse').reset_index(drop=True)\n",
    "uni_rmse_fold.head()"
   ]
  },
  {
   "cell_type": "code",
   "execution_count": 77,
   "metadata": {},
   "outputs": [
    {
     "data": {
      "text/plain": [
       "(array([ 0,  1,  2,  3,  4,  5,  6,  7,  8,  9, 10, 11]),\n",
       " [Text(0, 0, 'engine_size'),\n",
       "  Text(1, 0, 'horsepower'),\n",
       "  Text(2, 0, 'width'),\n",
       "  Text(3, 0, 'highway_mpg'),\n",
       "  Text(4, 0, 'curb_weight'),\n",
       "  Text(5, 0, 'city_mpg'),\n",
       "  Text(6, 0, 'length'),\n",
       "  Text(7, 0, 'normalized_losses'),\n",
       "  Text(8, 0, 'wheel_base'),\n",
       "  Text(9, 0, 'compression_ratio'),\n",
       "  Text(10, 0, 'peak_rpm'),\n",
       "  Text(11, 0, 'height')])"
      ]
     },
     "execution_count": 77,
     "metadata": {},
     "output_type": "execute_result"
    },
    {
     "data": {
      "image/png": "[encoded data removed]",
      "text/plain": [
       "<Figure size 432x288 with 1 Axes>"
      ]
     },
     "metadata": {
      "needs_background": "light"
     },
     "output_type": "display_data"
    }
   ],
   "source": [
    "sns.barplot(x='feature',y='rmse',data=uni_rmse_fold)\n",
    "plt.title('RMSE vs Feature, using k-fold validation')\n",
    "plt.xticks(rotation=45, horizontalalignment='right')"
   ]
  },
  {
   "cell_type": "markdown",
   "metadata": {},
   "source": [
    "Using univariate KNN with k-fold validation (`fold=5`) the top six features were:\n",
    "\n",
    "* `engine_size`\n",
    "* `horsepower`\n",
    "* `width`\n",
    "* `highway_mpg`\n",
    "* `curb_weight`\n",
    "* `city_mpg`\n",
    "\n",
    "Let's see how our model does with multiple features."
   ]
  },
  {
   "cell_type": "code",
   "execution_count": 78,
   "metadata": {},
   "outputs": [],
   "source": [
    "# Using best X from the univariate model\n",
    "multi_fold = {}\n",
    "for x in [2,3,4,5,6,12]:\n",
    "    feature = list(uni_rmse_fold['feature'][0:x])\n",
    "    kn = knn_trainer(feature, 'price', norm_cars)\n",
    "    kn.kfold_test(k=5)\n",
    "    rmse = kn.validation()\n",
    "    multi_fold[x] = [rmse]"
   ]
  },
  {
   "cell_type": "code",
   "execution_count": 79,
   "metadata": {},
   "outputs": [
    {
     "data": {
      "text/html": [
       "<div>\n",
       "<style scoped>\n",
       "    .dataframe tbody tr th:only-of-type {\n",
       "        vertical-align: middle;\n",
       "    }\n",
       "\n",
       "    .dataframe tbody tr th {\n",
       "        vertical-align: top;\n",
       "    }\n",
       "\n",
       "    .dataframe thead th {\n",
       "        text-align: right;\n",
       "    }\n",
       "</style>\n",
       "<table border=\"1\" class=\"dataframe\">\n",
       "  <thead>\n",
       "    <tr style=\"text-align: right;\">\n",
       "      <th></th>\n",
       "      <th>top_x_features</th>\n",
       "      <th>rmse</th>\n",
       "    </tr>\n",
       "  </thead>\n",
       "  <tbody>\n",
       "    <tr>\n",
       "      <th>0</th>\n",
       "      <td>2</td>\n",
       "      <td>2925.897105</td>\n",
       "    </tr>\n",
       "    <tr>\n",
       "      <th>1</th>\n",
       "      <td>3</td>\n",
       "      <td>3058.214925</td>\n",
       "    </tr>\n",
       "    <tr>\n",
       "      <th>2</th>\n",
       "      <td>5</td>\n",
       "      <td>3111.035110</td>\n",
       "    </tr>\n",
       "    <tr>\n",
       "      <th>3</th>\n",
       "      <td>4</td>\n",
       "      <td>3113.754491</td>\n",
       "    </tr>\n",
       "    <tr>\n",
       "      <th>4</th>\n",
       "      <td>6</td>\n",
       "      <td>3123.471067</td>\n",
       "    </tr>\n",
       "  </tbody>\n",
       "</table>\n",
       "</div>"
      ],
      "text/plain": [
       "   top_x_features         rmse\n",
       "0               2  2925.897105\n",
       "1               3  3058.214925\n",
       "2               5  3111.035110\n",
       "3               4  3113.754491\n",
       "4               6  3123.471067"
      ]
     },
     "execution_count": 79,
     "metadata": {},
     "output_type": "execute_result"
    }
   ],
   "source": [
    "multi_fold = pd.DataFrame(multi_fold).T.reset_index()\n",
    "multi_fold.columns = ['top_x_features','rmse']\n",
    "multi_fold = multi_fold.sort_values('rmse').reset_index(drop=True)\n",
    "multi_fold.head()"
   ]
  },
  {
   "cell_type": "code",
   "execution_count": 80,
   "metadata": {},
   "outputs": [
    {
     "data": {
      "text/plain": [
       "Text(0.5, 1.0, 'RMSE vs Top X Features, using kfold validation')"
      ]
     },
     "execution_count": 80,
     "metadata": {},
     "output_type": "execute_result"
    },
    {
     "data": {
      "image/png": "[encoded data removed]",
      "text/plain": [
       "<Figure size 432x288 with 1 Axes>"
      ]
     },
     "metadata": {
      "needs_background": "light"
     },
     "output_type": "display_data"
    }
   ],
   "source": [
    "sns.barplot(x='top_x_features',y='rmse',data=multi_fold)\n",
    "plt.title('RMSE vs Top X Features, using kfold validation')"
   ]
  },
  {
   "cell_type": "markdown",
   "metadata": {},
   "source": [
    "Each multivariate KNN performed similarly with `k_value`=5 as calculated by kfold (`fold=5`) validation, except when using all 12 features."
   ]
  },
  {
   "cell_type": "code",
   "execution_count": 81,
   "metadata": {},
   "outputs": [],
   "source": [
    "# Lets tune the hyperparameters for KNN kfold variation\n",
    "top_k_fold = {}\n",
    "for x in [2,3,4,5,12]:\n",
    "    k_dic = {}\n",
    "    for k in range(1,26):\n",
    "        feature = list(uni_rmse_fold['feature'][0:x])\n",
    "        kn = knn_trainer(feature, 'price', norm_cars)\n",
    "        kn.kfold_test(k=k)\n",
    "        rmse = kn.validation()\n",
    "        k_dic[k] = rmse\n",
    "    top_k_fold[f'top_{x}_features'] = k_dic"
   ]
  },
  {
   "cell_type": "code",
   "execution_count": 82,
   "metadata": {},
   "outputs": [],
   "source": [
    "top_k_fold = pd.DataFrame(top_k_fold)\n",
    "top_k_fold = top_k_fold.reset_index()\n",
    "top_k_fold = top_k_fold.melt(id_vars = 'index')\n",
    "top_k_fold.columns = ['k_value','features','rmse']"
   ]
  },
  {
   "cell_type": "code",
   "execution_count": 83,
   "metadata": {},
   "outputs": [
    {
     "data": {
      "text/html": [
       "<div>\n",
       "<style scoped>\n",
       "    .dataframe tbody tr th:only-of-type {\n",
       "        vertical-align: middle;\n",
       "    }\n",
       "\n",
       "    .dataframe tbody tr th {\n",
       "        vertical-align: top;\n",
       "    }\n",
       "\n",
       "    .dataframe thead th {\n",
       "        text-align: right;\n",
       "    }\n",
       "</style>\n",
       "<table border=\"1\" class=\"dataframe\">\n",
       "  <thead>\n",
       "    <tr style=\"text-align: right;\">\n",
       "      <th></th>\n",
       "      <th>k_value</th>\n",
       "      <th>features</th>\n",
       "      <th>rmse</th>\n",
       "    </tr>\n",
       "  </thead>\n",
       "  <tbody>\n",
       "    <tr>\n",
       "      <th>75</th>\n",
       "      <td>1</td>\n",
       "      <td>top_5_features</td>\n",
       "      <td>2464.852485</td>\n",
       "    </tr>\n",
       "    <tr>\n",
       "      <th>100</th>\n",
       "      <td>1</td>\n",
       "      <td>top_12_features</td>\n",
       "      <td>2723.191172</td>\n",
       "    </tr>\n",
       "    <tr>\n",
       "      <th>76</th>\n",
       "      <td>2</td>\n",
       "      <td>top_5_features</td>\n",
       "      <td>2727.497091</td>\n",
       "    </tr>\n",
       "    <tr>\n",
       "      <th>26</th>\n",
       "      <td>2</td>\n",
       "      <td>top_3_features</td>\n",
       "      <td>2752.590633</td>\n",
       "    </tr>\n",
       "    <tr>\n",
       "      <th>101</th>\n",
       "      <td>2</td>\n",
       "      <td>top_12_features</td>\n",
       "      <td>2763.931554</td>\n",
       "    </tr>\n",
       "    <tr>\n",
       "      <th>2</th>\n",
       "      <td>3</td>\n",
       "      <td>top_2_features</td>\n",
       "      <td>2771.541399</td>\n",
       "    </tr>\n",
       "    <tr>\n",
       "      <th>27</th>\n",
       "      <td>3</td>\n",
       "      <td>top_3_features</td>\n",
       "      <td>2772.509693</td>\n",
       "    </tr>\n",
       "    <tr>\n",
       "      <th>77</th>\n",
       "      <td>3</td>\n",
       "      <td>top_5_features</td>\n",
       "      <td>2784.213051</td>\n",
       "    </tr>\n",
       "    <tr>\n",
       "      <th>52</th>\n",
       "      <td>3</td>\n",
       "      <td>top_4_features</td>\n",
       "      <td>2804.001210</td>\n",
       "    </tr>\n",
       "    <tr>\n",
       "      <th>51</th>\n",
       "      <td>2</td>\n",
       "      <td>top_4_features</td>\n",
       "      <td>2826.523842</td>\n",
       "    </tr>\n",
       "  </tbody>\n",
       "</table>\n",
       "</div>"
      ],
      "text/plain": [
       "     k_value         features         rmse\n",
       "75         1   top_5_features  2464.852485\n",
       "100        1  top_12_features  2723.191172\n",
       "76         2   top_5_features  2727.497091\n",
       "26         2   top_3_features  2752.590633\n",
       "101        2  top_12_features  2763.931554\n",
       "2          3   top_2_features  2771.541399\n",
       "27         3   top_3_features  2772.509693\n",
       "77         3   top_5_features  2784.213051\n",
       "52         3   top_4_features  2804.001210\n",
       "51         2   top_4_features  2826.523842"
      ]
     },
     "execution_count": 83,
     "metadata": {},
     "output_type": "execute_result"
    }
   ],
   "source": [
    "top_k_fold.sort_values('rmse').head(10)"
   ]
  },
  {
   "cell_type": "code",
   "execution_count": 84,
   "metadata": {},
   "outputs": [],
   "source": [
    "results_multi_kfold = top_k_fold.copy()"
   ]
  },
  {
   "cell_type": "code",
   "execution_count": 85,
   "metadata": {},
   "outputs": [
    {
     "data": {
      "text/plain": [
       "Text(0.5, 0, 'K value')"
      ]
     },
     "execution_count": 85,
     "metadata": {},
     "output_type": "execute_result"
    },
    {
     "data": {
      "image/png": "[encoded data removed]",
      "text/plain": [
       "<Figure size 432x288 with 1 Axes>"
      ]
     },
     "metadata": {
      "needs_background": "light"
     },
     "output_type": "display_data"
    }
   ],
   "source": [
    "sns.lineplot(x = 'k_value', y='rmse', hue='features', data=top_k_fold)\n",
    "plt.legend(bbox_to_anchor = (1,1))\n",
    "plt.title('Root mean squared error by top multivariate kfold features and hyperparameter')\n",
    "plt.ylabel('RMSE')\n",
    "plt.xlabel('K value')"
   ]
  },
  {
   "cell_type": "markdown",
   "metadata": {},
   "source": [
    "The best `k_value`s were on the lower end of the scale when using k-fold (`fold=5`) validation. Our best performing model used `k_value = 1`, `top_5_features`, and resulted in an `rmse = 2465`. When using k-fold validation we recommend using the following features with this dataset:\n",
    "\n",
    "* `engine_size`\n",
    "* `horsepower`\n",
    "* `width`\n",
    "* `highway_mpg`\n",
    "* `curb_weight`"
   ]
  },
  {
   "cell_type": "markdown",
   "metadata": {},
   "source": [
    "# Comparison\n",
    "\n",
    "So which model-validation combination did the best?"
   ]
  },
  {
   "cell_type": "code",
   "execution_count": 86,
   "metadata": {},
   "outputs": [],
   "source": [
    "results_list = {'univariate':results_univariate,\n",
    "                'multi_traintest':results_multi_traintest,\n",
    "                'multi_holdout':results_multi_holdout,\n",
    "                'multi_kfold':results_multi_kfold}"
   ]
  },
  {
   "cell_type": "code",
   "execution_count": 87,
   "metadata": {},
   "outputs": [],
   "source": [
    "results = pd.DataFrame(columns=['k_value','feature','rmse','type'])"
   ]
  },
  {
   "cell_type": "code",
   "execution_count": 88,
   "metadata": {},
   "outputs": [],
   "source": [
    "# format each dataframe, label it, and then append it to a big dataframe\n",
    "for k,v in results_list.items():\n",
    "    v.columns = ['k_value','feature','rmse']\n",
    "    v['type'] = k\n",
    "    results = results.append(v)"
   ]
  },
  {
   "cell_type": "code",
   "execution_count": 89,
   "metadata": {},
   "outputs": [],
   "source": [
    "results_hd = results.sort_values('rmse').head(10)"
   ]
  },
  {
   "cell_type": "code",
   "execution_count": 90,
   "metadata": {},
   "outputs": [],
   "source": [
    "results_hd = results_hd.astype({\n",
    "    'k_value':str,\n",
    "    'feature':str,\n",
    "    'type':str\n",
    "})"
   ]
  },
  {
   "cell_type": "code",
   "execution_count": 91,
   "metadata": {},
   "outputs": [],
   "source": [
    "results_hd['id'] = results_hd['type'] + '_' + results_hd['feature'] + '_k' + results_hd['k_value']"
   ]
  },
  {
   "cell_type": "code",
   "execution_count": 92,
   "metadata": {},
   "outputs": [
    {
     "data": {
      "text/html": [
       "<div>\n",
       "<style scoped>\n",
       "    .dataframe tbody tr th:only-of-type {\n",
       "        vertical-align: middle;\n",
       "    }\n",
       "\n",
       "    .dataframe tbody tr th {\n",
       "        vertical-align: top;\n",
       "    }\n",
       "\n",
       "    .dataframe thead th {\n",
       "        text-align: right;\n",
       "    }\n",
       "</style>\n",
       "<table border=\"1\" class=\"dataframe\">\n",
       "  <thead>\n",
       "    <tr style=\"text-align: right;\">\n",
       "      <th></th>\n",
       "      <th>k_value</th>\n",
       "      <th>feature</th>\n",
       "      <th>rmse</th>\n",
       "      <th>type</th>\n",
       "    </tr>\n",
       "  </thead>\n",
       "  <tbody>\n",
       "    <tr>\n",
       "      <th>0</th>\n",
       "      <td>1</td>\n",
       "      <td>normalized_losses</td>\n",
       "      <td>4586.752681</td>\n",
       "      <td>univariate</td>\n",
       "    </tr>\n",
       "    <tr>\n",
       "      <th>1</th>\n",
       "      <td>2</td>\n",
       "      <td>normalized_losses</td>\n",
       "      <td>4871.857027</td>\n",
       "      <td>univariate</td>\n",
       "    </tr>\n",
       "    <tr>\n",
       "      <th>2</th>\n",
       "      <td>3</td>\n",
       "      <td>normalized_losses</td>\n",
       "      <td>7368.558972</td>\n",
       "      <td>univariate</td>\n",
       "    </tr>\n",
       "    <tr>\n",
       "      <th>3</th>\n",
       "      <td>4</td>\n",
       "      <td>normalized_losses</td>\n",
       "      <td>9076.406715</td>\n",
       "      <td>univariate</td>\n",
       "    </tr>\n",
       "    <tr>\n",
       "      <th>4</th>\n",
       "      <td>5</td>\n",
       "      <td>normalized_losses</td>\n",
       "      <td>8218.834488</td>\n",
       "      <td>univariate</td>\n",
       "    </tr>\n",
       "  </tbody>\n",
       "</table>\n",
       "</div>"
      ],
      "text/plain": [
       "  k_value            feature         rmse        type\n",
       "0       1  normalized_losses  4586.752681  univariate\n",
       "1       2  normalized_losses  4871.857027  univariate\n",
       "2       3  normalized_losses  7368.558972  univariate\n",
       "3       4  normalized_losses  9076.406715  univariate\n",
       "4       5  normalized_losses  8218.834488  univariate"
      ]
     },
     "execution_count": 92,
     "metadata": {},
     "output_type": "execute_result"
    }
   ],
   "source": [
    "results.head()"
   ]
  },
  {
   "cell_type": "code",
   "execution_count": 99,
   "metadata": {},
   "outputs": [
    {
     "data": {
      "text/plain": [
       "<seaborn.axisgrid.FacetGrid at 0x7f0eafe7e748>"
      ]
     },
     "execution_count": 99,
     "metadata": {},
     "output_type": "execute_result"
    },
    {
     "data": {
      "image/png": "[encoded data removed]",
      "text/plain": [
       "<Figure size 864x216 with 4 Axes>"
      ]
     },
     "metadata": {
      "needs_background": "light"
     },
     "output_type": "display_data"
    }
   ],
   "source": [
    "g = sns.FacetGrid(data=results, col='type',hue='feature', sharey=False)\n",
    "g.map(sns.lineplot,'k_value','rmse')"
   ]
  },
  {
   "cell_type": "markdown",
   "metadata": {},
   "source": [
    "There is a very wide range in `rmse`, let's zoom in on the data"
   ]
  },
  {
   "cell_type": "code",
   "execution_count": 100,
   "metadata": {},
   "outputs": [
    {
     "data": {
      "text/plain": [
       "<seaborn.axisgrid.FacetGrid at 0x7f0eafc31668>"
      ]
     },
     "execution_count": 100,
     "metadata": {},
     "output_type": "execute_result"
    },
    {
     "data": {
      "image/png": "[encoded data removed]",
      "text/plain": [
       "<Figure size 864x216 with 4 Axes>"
      ]
     },
     "metadata": {
      "needs_background": "light"
     },
     "output_type": "display_data"
    }
   ],
   "source": [
    "data = results[results['rmse'] <= 4500]\n",
    "g = sns.FacetGrid(data=data, col='type',hue='feature')\n",
    "g.map(sns.lineplot,'k_value','rmse')"
   ]
  },
  {
   "cell_type": "code",
   "execution_count": 109,
   "metadata": {},
   "outputs": [
    {
     "data": {
      "text/plain": [
       "<matplotlib.legend.Legend at 0x7f0eaf476320>"
      ]
     },
     "execution_count": 109,
     "metadata": {},
     "output_type": "execute_result"
    },
    {
     "data": {
      "image/png": "[encoded data removed]",
      "text/plain": [
       "<Figure size 432x288 with 1 Axes>"
      ]
     },
     "metadata": {
      "needs_background": "light"
     },
     "output_type": "display_data"
    }
   ],
   "source": [
    "data = results[results['rmse'] <= 2600]\n",
    "sns.barplot(data=data, x='type',y='rmse',hue='k_value')\n",
    "plt.legend(bbox_to_anchor=(1,1))"
   ]
  },
  {
   "cell_type": "code",
   "execution_count": null,
   "metadata": {},
   "outputs": [],
   "source": []
  }
 ],
 "metadata": {
  "kernelspec": {
   "display_name": "Data Python Env",
   "language": "python",
   "name": "data_env"
  },
  "language_info": {
   "codemirror_mode": {
    "name": "ipython",
    "version": 3
   },
   "file_extension": ".py",
   "mimetype": "text/x-python",
   "name": "python",
   "nbconvert_exporter": "python",
   "pygments_lexer": "ipython3",
   "version": "3.6.10"
  }
 },
 "nbformat": 4,
 "nbformat_minor": 4
}
